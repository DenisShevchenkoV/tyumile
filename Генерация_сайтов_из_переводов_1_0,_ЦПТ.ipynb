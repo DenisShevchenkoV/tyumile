{
  "nbformat": 4,
  "nbformat_minor": 0,
  "metadata": {
    "colab": {
      "name": "Генерация сайтов из переводов 1.0, ЦПТ",
      "provenance": [],
      "collapsed_sections": [
        "XihnG9cvoteW",
        "8vuFcelpapow",
        "94v9oj3JS9-w",
        "Ms-E6NGGCTAZ"
      ],
      "toc_visible": true,
      "authorship_tag": "ABX9TyNBczq96Jb7DJGgEhNQOWKc",
      "include_colab_link": true
    },
    "kernelspec": {
      "name": "python3",
      "display_name": "Python 3"
    },
    "language_info": {
      "name": "python"
    },
    "widgets": {
      "application/vnd.jupyter.widget-state+json": {
        "1f8e5d929ad541a588d4a790c0ab47f9": {
          "model_module": "@jupyter-widgets/controls",
          "model_name": "HBoxModel",
          "state": {
            "_view_name": "HBoxView",
            "_dom_classes": [],
            "_model_name": "HBoxModel",
            "_view_module": "@jupyter-widgets/controls",
            "_model_module_version": "1.5.0",
            "_view_count": null,
            "_view_module_version": "1.5.0",
            "box_style": "",
            "layout": "IPY_MODEL_80aa11cc40bf4e07b2a4a15459f43189",
            "_model_module": "@jupyter-widgets/controls",
            "children": [
              "IPY_MODEL_edd96c5de0a7405a84a83f34296b45c9",
              "IPY_MODEL_6b4d890cbb8349d791b7f8e5d222ced5"
            ]
          }
        },
        "80aa11cc40bf4e07b2a4a15459f43189": {
          "model_module": "@jupyter-widgets/base",
          "model_name": "LayoutModel",
          "state": {
            "_view_name": "LayoutView",
            "grid_template_rows": null,
            "right": null,
            "justify_content": null,
            "_view_module": "@jupyter-widgets/base",
            "overflow": null,
            "_model_module_version": "1.2.0",
            "_view_count": null,
            "flex_flow": null,
            "width": null,
            "min_width": null,
            "border": null,
            "align_items": null,
            "bottom": null,
            "_model_module": "@jupyter-widgets/base",
            "top": null,
            "grid_column": null,
            "overflow_y": null,
            "overflow_x": null,
            "grid_auto_flow": null,
            "grid_area": null,
            "grid_template_columns": null,
            "flex": null,
            "_model_name": "LayoutModel",
            "justify_items": null,
            "grid_row": null,
            "max_height": null,
            "align_content": null,
            "visibility": null,
            "align_self": null,
            "height": null,
            "min_height": null,
            "padding": null,
            "grid_auto_rows": null,
            "grid_gap": null,
            "max_width": null,
            "order": null,
            "_view_module_version": "1.2.0",
            "grid_template_areas": null,
            "object_position": null,
            "object_fit": null,
            "grid_auto_columns": null,
            "margin": null,
            "display": null,
            "left": null
          }
        },
        "edd96c5de0a7405a84a83f34296b45c9": {
          "model_module": "@jupyter-widgets/controls",
          "model_name": "FloatProgressModel",
          "state": {
            "_view_name": "ProgressView",
            "style": "IPY_MODEL_2c2508e968ae419ea8afe2953fe44801",
            "_dom_classes": [],
            "description": "Downloading: 100%",
            "_model_name": "FloatProgressModel",
            "bar_style": "success",
            "max": 909,
            "_view_module": "@jupyter-widgets/controls",
            "_model_module_version": "1.5.0",
            "value": 909,
            "_view_count": null,
            "_view_module_version": "1.5.0",
            "orientation": "horizontal",
            "min": 0,
            "description_tooltip": null,
            "_model_module": "@jupyter-widgets/controls",
            "layout": "IPY_MODEL_f36f5bee920743a880932af577b583d5"
          }
        },
        "6b4d890cbb8349d791b7f8e5d222ced5": {
          "model_module": "@jupyter-widgets/controls",
          "model_name": "HTMLModel",
          "state": {
            "_view_name": "HTMLView",
            "style": "IPY_MODEL_4cc6c64064a3433c84860b86e51b7e97",
            "_dom_classes": [],
            "description": "",
            "_model_name": "HTMLModel",
            "placeholder": "​",
            "_view_module": "@jupyter-widgets/controls",
            "_model_module_version": "1.5.0",
            "value": " 909/909 [00:00&lt;00:00, 4.59kB/s]",
            "_view_count": null,
            "_view_module_version": "1.5.0",
            "description_tooltip": null,
            "_model_module": "@jupyter-widgets/controls",
            "layout": "IPY_MODEL_fb7681a0d3504380a640aeb085ae6f2e"
          }
        },
        "2c2508e968ae419ea8afe2953fe44801": {
          "model_module": "@jupyter-widgets/controls",
          "model_name": "ProgressStyleModel",
          "state": {
            "_view_name": "StyleView",
            "_model_name": "ProgressStyleModel",
            "description_width": "initial",
            "_view_module": "@jupyter-widgets/base",
            "_model_module_version": "1.5.0",
            "_view_count": null,
            "_view_module_version": "1.2.0",
            "bar_color": null,
            "_model_module": "@jupyter-widgets/controls"
          }
        },
        "f36f5bee920743a880932af577b583d5": {
          "model_module": "@jupyter-widgets/base",
          "model_name": "LayoutModel",
          "state": {
            "_view_name": "LayoutView",
            "grid_template_rows": null,
            "right": null,
            "justify_content": null,
            "_view_module": "@jupyter-widgets/base",
            "overflow": null,
            "_model_module_version": "1.2.0",
            "_view_count": null,
            "flex_flow": null,
            "width": null,
            "min_width": null,
            "border": null,
            "align_items": null,
            "bottom": null,
            "_model_module": "@jupyter-widgets/base",
            "top": null,
            "grid_column": null,
            "overflow_y": null,
            "overflow_x": null,
            "grid_auto_flow": null,
            "grid_area": null,
            "grid_template_columns": null,
            "flex": null,
            "_model_name": "LayoutModel",
            "justify_items": null,
            "grid_row": null,
            "max_height": null,
            "align_content": null,
            "visibility": null,
            "align_self": null,
            "height": null,
            "min_height": null,
            "padding": null,
            "grid_auto_rows": null,
            "grid_gap": null,
            "max_width": null,
            "order": null,
            "_view_module_version": "1.2.0",
            "grid_template_areas": null,
            "object_position": null,
            "object_fit": null,
            "grid_auto_columns": null,
            "margin": null,
            "display": null,
            "left": null
          }
        },
        "4cc6c64064a3433c84860b86e51b7e97": {
          "model_module": "@jupyter-widgets/controls",
          "model_name": "DescriptionStyleModel",
          "state": {
            "_view_name": "StyleView",
            "_model_name": "DescriptionStyleModel",
            "description_width": "",
            "_view_module": "@jupyter-widgets/base",
            "_model_module_version": "1.5.0",
            "_view_count": null,
            "_view_module_version": "1.2.0",
            "_model_module": "@jupyter-widgets/controls"
          }
        },
        "fb7681a0d3504380a640aeb085ae6f2e": {
          "model_module": "@jupyter-widgets/base",
          "model_name": "LayoutModel",
          "state": {
            "_view_name": "LayoutView",
            "grid_template_rows": null,
            "right": null,
            "justify_content": null,
            "_view_module": "@jupyter-widgets/base",
            "overflow": null,
            "_model_module_version": "1.2.0",
            "_view_count": null,
            "flex_flow": null,
            "width": null,
            "min_width": null,
            "border": null,
            "align_items": null,
            "bottom": null,
            "_model_module": "@jupyter-widgets/base",
            "top": null,
            "grid_column": null,
            "overflow_y": null,
            "overflow_x": null,
            "grid_auto_flow": null,
            "grid_area": null,
            "grid_template_columns": null,
            "flex": null,
            "_model_name": "LayoutModel",
            "justify_items": null,
            "grid_row": null,
            "max_height": null,
            "align_content": null,
            "visibility": null,
            "align_self": null,
            "height": null,
            "min_height": null,
            "padding": null,
            "grid_auto_rows": null,
            "grid_gap": null,
            "max_width": null,
            "order": null,
            "_view_module_version": "1.2.0",
            "grid_template_areas": null,
            "object_position": null,
            "object_fit": null,
            "grid_auto_columns": null,
            "margin": null,
            "display": null,
            "left": null
          }
        },
        "a39ff763bb9a4e0ab63766d4ad01f41e": {
          "model_module": "@jupyter-widgets/controls",
          "model_name": "HBoxModel",
          "state": {
            "_view_name": "HBoxView",
            "_dom_classes": [],
            "_model_name": "HBoxModel",
            "_view_module": "@jupyter-widgets/controls",
            "_model_module_version": "1.5.0",
            "_view_count": null,
            "_view_module_version": "1.5.0",
            "box_style": "",
            "layout": "IPY_MODEL_84b840e2fe31449d84b8894cd0c09685",
            "_model_module": "@jupyter-widgets/controls",
            "children": [
              "IPY_MODEL_1dde167557164659b25fd6b66c143b27",
              "IPY_MODEL_ea0518c2670642b6982b219d36416a66"
            ]
          }
        },
        "84b840e2fe31449d84b8894cd0c09685": {
          "model_module": "@jupyter-widgets/base",
          "model_name": "LayoutModel",
          "state": {
            "_view_name": "LayoutView",
            "grid_template_rows": null,
            "right": null,
            "justify_content": null,
            "_view_module": "@jupyter-widgets/base",
            "overflow": null,
            "_model_module_version": "1.2.0",
            "_view_count": null,
            "flex_flow": null,
            "width": null,
            "min_width": null,
            "border": null,
            "align_items": null,
            "bottom": null,
            "_model_module": "@jupyter-widgets/base",
            "top": null,
            "grid_column": null,
            "overflow_y": null,
            "overflow_x": null,
            "grid_auto_flow": null,
            "grid_area": null,
            "grid_template_columns": null,
            "flex": null,
            "_model_name": "LayoutModel",
            "justify_items": null,
            "grid_row": null,
            "max_height": null,
            "align_content": null,
            "visibility": null,
            "align_self": null,
            "height": null,
            "min_height": null,
            "padding": null,
            "grid_auto_rows": null,
            "grid_gap": null,
            "max_width": null,
            "order": null,
            "_view_module_version": "1.2.0",
            "grid_template_areas": null,
            "object_position": null,
            "object_fit": null,
            "grid_auto_columns": null,
            "margin": null,
            "display": null,
            "left": null
          }
        },
        "1dde167557164659b25fd6b66c143b27": {
          "model_module": "@jupyter-widgets/controls",
          "model_name": "FloatProgressModel",
          "state": {
            "_view_name": "ProgressView",
            "style": "IPY_MODEL_509a1428391d4e8d8b157652b1e20f72",
            "_dom_classes": [],
            "description": "Downloading: 100%",
            "_model_name": "FloatProgressModel",
            "bar_style": "success",
            "max": 4958230644,
            "_view_module": "@jupyter-widgets/controls",
            "_model_module_version": "1.5.0",
            "value": 4958230644,
            "_view_count": null,
            "_view_module_version": "1.5.0",
            "orientation": "horizontal",
            "min": 0,
            "description_tooltip": null,
            "_model_module": "@jupyter-widgets/controls",
            "layout": "IPY_MODEL_3a9639cf0ce84bb986fb1be25cfc6117"
          }
        },
        "ea0518c2670642b6982b219d36416a66": {
          "model_module": "@jupyter-widgets/controls",
          "model_name": "HTMLModel",
          "state": {
            "_view_name": "HTMLView",
            "style": "IPY_MODEL_97c2eb844e4e47f09c4bc6d1d02e3949",
            "_dom_classes": [],
            "description": "",
            "_model_name": "HTMLModel",
            "placeholder": "​",
            "_view_module": "@jupyter-widgets/controls",
            "_model_module_version": "1.5.0",
            "value": " 4.96G/4.96G [01:41&lt;00:00, 49.0MB/s]",
            "_view_count": null,
            "_view_module_version": "1.5.0",
            "description_tooltip": null,
            "_model_module": "@jupyter-widgets/controls",
            "layout": "IPY_MODEL_2dbb1e6b10d74b91959cfe526a67d61f"
          }
        },
        "509a1428391d4e8d8b157652b1e20f72": {
          "model_module": "@jupyter-widgets/controls",
          "model_name": "ProgressStyleModel",
          "state": {
            "_view_name": "StyleView",
            "_model_name": "ProgressStyleModel",
            "description_width": "initial",
            "_view_module": "@jupyter-widgets/base",
            "_model_module_version": "1.5.0",
            "_view_count": null,
            "_view_module_version": "1.2.0",
            "bar_color": null,
            "_model_module": "@jupyter-widgets/controls"
          }
        },
        "3a9639cf0ce84bb986fb1be25cfc6117": {
          "model_module": "@jupyter-widgets/base",
          "model_name": "LayoutModel",
          "state": {
            "_view_name": "LayoutView",
            "grid_template_rows": null,
            "right": null,
            "justify_content": null,
            "_view_module": "@jupyter-widgets/base",
            "overflow": null,
            "_model_module_version": "1.2.0",
            "_view_count": null,
            "flex_flow": null,
            "width": null,
            "min_width": null,
            "border": null,
            "align_items": null,
            "bottom": null,
            "_model_module": "@jupyter-widgets/base",
            "top": null,
            "grid_column": null,
            "overflow_y": null,
            "overflow_x": null,
            "grid_auto_flow": null,
            "grid_area": null,
            "grid_template_columns": null,
            "flex": null,
            "_model_name": "LayoutModel",
            "justify_items": null,
            "grid_row": null,
            "max_height": null,
            "align_content": null,
            "visibility": null,
            "align_self": null,
            "height": null,
            "min_height": null,
            "padding": null,
            "grid_auto_rows": null,
            "grid_gap": null,
            "max_width": null,
            "order": null,
            "_view_module_version": "1.2.0",
            "grid_template_areas": null,
            "object_position": null,
            "object_fit": null,
            "grid_auto_columns": null,
            "margin": null,
            "display": null,
            "left": null
          }
        },
        "97c2eb844e4e47f09c4bc6d1d02e3949": {
          "model_module": "@jupyter-widgets/controls",
          "model_name": "DescriptionStyleModel",
          "state": {
            "_view_name": "StyleView",
            "_model_name": "DescriptionStyleModel",
            "description_width": "",
            "_view_module": "@jupyter-widgets/base",
            "_model_module_version": "1.5.0",
            "_view_count": null,
            "_view_module_version": "1.2.0",
            "_model_module": "@jupyter-widgets/controls"
          }
        },
        "2dbb1e6b10d74b91959cfe526a67d61f": {
          "model_module": "@jupyter-widgets/base",
          "model_name": "LayoutModel",
          "state": {
            "_view_name": "LayoutView",
            "grid_template_rows": null,
            "right": null,
            "justify_content": null,
            "_view_module": "@jupyter-widgets/base",
            "overflow": null,
            "_model_module_version": "1.2.0",
            "_view_count": null,
            "flex_flow": null,
            "width": null,
            "min_width": null,
            "border": null,
            "align_items": null,
            "bottom": null,
            "_model_module": "@jupyter-widgets/base",
            "top": null,
            "grid_column": null,
            "overflow_y": null,
            "overflow_x": null,
            "grid_auto_flow": null,
            "grid_area": null,
            "grid_template_columns": null,
            "flex": null,
            "_model_name": "LayoutModel",
            "justify_items": null,
            "grid_row": null,
            "max_height": null,
            "align_content": null,
            "visibility": null,
            "align_self": null,
            "height": null,
            "min_height": null,
            "padding": null,
            "grid_auto_rows": null,
            "grid_gap": null,
            "max_width": null,
            "order": null,
            "_view_module_version": "1.2.0",
            "grid_template_areas": null,
            "object_position": null,
            "object_fit": null,
            "grid_auto_columns": null,
            "margin": null,
            "display": null,
            "left": null
          }
        },
        "2aa9fce75d7f478cbe32715435ff1187": {
          "model_module": "@jupyter-widgets/controls",
          "model_name": "HBoxModel",
          "state": {
            "_view_name": "HBoxView",
            "_dom_classes": [],
            "_model_name": "HBoxModel",
            "_view_module": "@jupyter-widgets/controls",
            "_model_module_version": "1.5.0",
            "_view_count": null,
            "_view_module_version": "1.5.0",
            "box_style": "",
            "layout": "IPY_MODEL_0d910cab256647a095b0523d1d250912",
            "_model_module": "@jupyter-widgets/controls",
            "children": [
              "IPY_MODEL_61aad3562d97471198d9feccf8fcf5af",
              "IPY_MODEL_9c74fd6a4de240e197dd08f9ce448798"
            ]
          }
        },
        "0d910cab256647a095b0523d1d250912": {
          "model_module": "@jupyter-widgets/base",
          "model_name": "LayoutModel",
          "state": {
            "_view_name": "LayoutView",
            "grid_template_rows": null,
            "right": null,
            "justify_content": null,
            "_view_module": "@jupyter-widgets/base",
            "overflow": null,
            "_model_module_version": "1.2.0",
            "_view_count": null,
            "flex_flow": null,
            "width": null,
            "min_width": null,
            "border": null,
            "align_items": null,
            "bottom": null,
            "_model_module": "@jupyter-widgets/base",
            "top": null,
            "grid_column": null,
            "overflow_y": null,
            "overflow_x": null,
            "grid_auto_flow": null,
            "grid_area": null,
            "grid_template_columns": null,
            "flex": null,
            "_model_name": "LayoutModel",
            "justify_items": null,
            "grid_row": null,
            "max_height": null,
            "align_content": null,
            "visibility": null,
            "align_self": null,
            "height": null,
            "min_height": null,
            "padding": null,
            "grid_auto_rows": null,
            "grid_gap": null,
            "max_width": null,
            "order": null,
            "_view_module_version": "1.2.0",
            "grid_template_areas": null,
            "object_position": null,
            "object_fit": null,
            "grid_auto_columns": null,
            "margin": null,
            "display": null,
            "left": null
          }
        },
        "61aad3562d97471198d9feccf8fcf5af": {
          "model_module": "@jupyter-widgets/controls",
          "model_name": "FloatProgressModel",
          "state": {
            "_view_name": "ProgressView",
            "style": "IPY_MODEL_d7fbd063094946a4b1ea2be5c7855b13",
            "_dom_classes": [],
            "description": "Downloading: 100%",
            "_model_name": "FloatProgressModel",
            "bar_style": "success",
            "max": 3708092,
            "_view_module": "@jupyter-widgets/controls",
            "_model_module_version": "1.5.0",
            "value": 3708092,
            "_view_count": null,
            "_view_module_version": "1.5.0",
            "orientation": "horizontal",
            "min": 0,
            "description_tooltip": null,
            "_model_module": "@jupyter-widgets/controls",
            "layout": "IPY_MODEL_7f8029849ebd484aa1a4d59568836ece"
          }
        },
        "9c74fd6a4de240e197dd08f9ce448798": {
          "model_module": "@jupyter-widgets/controls",
          "model_name": "HTMLModel",
          "state": {
            "_view_name": "HTMLView",
            "style": "IPY_MODEL_b5d348635bf24971b1f107667114f1c1",
            "_dom_classes": [],
            "description": "",
            "_model_name": "HTMLModel",
            "placeholder": "​",
            "_view_module": "@jupyter-widgets/controls",
            "_model_module_version": "1.5.0",
            "value": " 3.71M/3.71M [00:00&lt;00:00, 9.10MB/s]",
            "_view_count": null,
            "_view_module_version": "1.5.0",
            "description_tooltip": null,
            "_model_module": "@jupyter-widgets/controls",
            "layout": "IPY_MODEL_9b55d8166f3d4b0d9b155e61dd244d5c"
          }
        },
        "d7fbd063094946a4b1ea2be5c7855b13": {
          "model_module": "@jupyter-widgets/controls",
          "model_name": "ProgressStyleModel",
          "state": {
            "_view_name": "StyleView",
            "_model_name": "ProgressStyleModel",
            "description_width": "initial",
            "_view_module": "@jupyter-widgets/base",
            "_model_module_version": "1.5.0",
            "_view_count": null,
            "_view_module_version": "1.2.0",
            "bar_color": null,
            "_model_module": "@jupyter-widgets/controls"
          }
        },
        "7f8029849ebd484aa1a4d59568836ece": {
          "model_module": "@jupyter-widgets/base",
          "model_name": "LayoutModel",
          "state": {
            "_view_name": "LayoutView",
            "grid_template_rows": null,
            "right": null,
            "justify_content": null,
            "_view_module": "@jupyter-widgets/base",
            "overflow": null,
            "_model_module_version": "1.2.0",
            "_view_count": null,
            "flex_flow": null,
            "width": null,
            "min_width": null,
            "border": null,
            "align_items": null,
            "bottom": null,
            "_model_module": "@jupyter-widgets/base",
            "top": null,
            "grid_column": null,
            "overflow_y": null,
            "overflow_x": null,
            "grid_auto_flow": null,
            "grid_area": null,
            "grid_template_columns": null,
            "flex": null,
            "_model_name": "LayoutModel",
            "justify_items": null,
            "grid_row": null,
            "max_height": null,
            "align_content": null,
            "visibility": null,
            "align_self": null,
            "height": null,
            "min_height": null,
            "padding": null,
            "grid_auto_rows": null,
            "grid_gap": null,
            "max_width": null,
            "order": null,
            "_view_module_version": "1.2.0",
            "grid_template_areas": null,
            "object_position": null,
            "object_fit": null,
            "grid_auto_columns": null,
            "margin": null,
            "display": null,
            "left": null
          }
        },
        "b5d348635bf24971b1f107667114f1c1": {
          "model_module": "@jupyter-widgets/controls",
          "model_name": "DescriptionStyleModel",
          "state": {
            "_view_name": "StyleView",
            "_model_name": "DescriptionStyleModel",
            "description_width": "",
            "_view_module": "@jupyter-widgets/base",
            "_model_module_version": "1.5.0",
            "_view_count": null,
            "_view_module_version": "1.2.0",
            "_model_module": "@jupyter-widgets/controls"
          }
        },
        "9b55d8166f3d4b0d9b155e61dd244d5c": {
          "model_module": "@jupyter-widgets/base",
          "model_name": "LayoutModel",
          "state": {
            "_view_name": "LayoutView",
            "grid_template_rows": null,
            "right": null,
            "justify_content": null,
            "_view_module": "@jupyter-widgets/base",
            "overflow": null,
            "_model_module_version": "1.2.0",
            "_view_count": null,
            "flex_flow": null,
            "width": null,
            "min_width": null,
            "border": null,
            "align_items": null,
            "bottom": null,
            "_model_module": "@jupyter-widgets/base",
            "top": null,
            "grid_column": null,
            "overflow_y": null,
            "overflow_x": null,
            "grid_auto_flow": null,
            "grid_area": null,
            "grid_template_columns": null,
            "flex": null,
            "_model_name": "LayoutModel",
            "justify_items": null,
            "grid_row": null,
            "max_height": null,
            "align_content": null,
            "visibility": null,
            "align_self": null,
            "height": null,
            "min_height": null,
            "padding": null,
            "grid_auto_rows": null,
            "grid_gap": null,
            "max_width": null,
            "order": null,
            "_view_module_version": "1.2.0",
            "grid_template_areas": null,
            "object_position": null,
            "object_fit": null,
            "grid_auto_columns": null,
            "margin": null,
            "display": null,
            "left": null
          }
        },
        "a5452110741f4b38b25901556cdf163b": {
          "model_module": "@jupyter-widgets/controls",
          "model_name": "HBoxModel",
          "state": {
            "_view_name": "HBoxView",
            "_dom_classes": [],
            "_model_name": "HBoxModel",
            "_view_module": "@jupyter-widgets/controls",
            "_model_module_version": "1.5.0",
            "_view_count": null,
            "_view_module_version": "1.5.0",
            "box_style": "",
            "layout": "IPY_MODEL_185ebd4dae494e109930a2a065de9b6f",
            "_model_module": "@jupyter-widgets/controls",
            "children": [
              "IPY_MODEL_d35b71c46a754d5aa6f48bf77fafc4ac",
              "IPY_MODEL_e94d8e3152e84969b187d5ad5a23b207"
            ]
          }
        },
        "185ebd4dae494e109930a2a065de9b6f": {
          "model_module": "@jupyter-widgets/base",
          "model_name": "LayoutModel",
          "state": {
            "_view_name": "LayoutView",
            "grid_template_rows": null,
            "right": null,
            "justify_content": null,
            "_view_module": "@jupyter-widgets/base",
            "overflow": null,
            "_model_module_version": "1.2.0",
            "_view_count": null,
            "flex_flow": null,
            "width": null,
            "min_width": null,
            "border": null,
            "align_items": null,
            "bottom": null,
            "_model_module": "@jupyter-widgets/base",
            "top": null,
            "grid_column": null,
            "overflow_y": null,
            "overflow_x": null,
            "grid_auto_flow": null,
            "grid_area": null,
            "grid_template_columns": null,
            "flex": null,
            "_model_name": "LayoutModel",
            "justify_items": null,
            "grid_row": null,
            "max_height": null,
            "align_content": null,
            "visibility": null,
            "align_self": null,
            "height": null,
            "min_height": null,
            "padding": null,
            "grid_auto_rows": null,
            "grid_gap": null,
            "max_width": null,
            "order": null,
            "_view_module_version": "1.2.0",
            "grid_template_areas": null,
            "object_position": null,
            "object_fit": null,
            "grid_auto_columns": null,
            "margin": null,
            "display": null,
            "left": null
          }
        },
        "d35b71c46a754d5aa6f48bf77fafc4ac": {
          "model_module": "@jupyter-widgets/controls",
          "model_name": "FloatProgressModel",
          "state": {
            "_view_name": "ProgressView",
            "style": "IPY_MODEL_384460f64de843dea5343d861a04e2ad",
            "_dom_classes": [],
            "description": "Downloading: 100%",
            "_model_name": "FloatProgressModel",
            "bar_style": "success",
            "max": 2423393,
            "_view_module": "@jupyter-widgets/controls",
            "_model_module_version": "1.5.0",
            "value": 2423393,
            "_view_count": null,
            "_view_module_version": "1.5.0",
            "orientation": "horizontal",
            "min": 0,
            "description_tooltip": null,
            "_model_module": "@jupyter-widgets/controls",
            "layout": "IPY_MODEL_236b7b46b8b54602938343ee149ceb20"
          }
        },
        "e94d8e3152e84969b187d5ad5a23b207": {
          "model_module": "@jupyter-widgets/controls",
          "model_name": "HTMLModel",
          "state": {
            "_view_name": "HTMLView",
            "style": "IPY_MODEL_293bd6531afd4fcb936183d16b27bb5d",
            "_dom_classes": [],
            "description": "",
            "_model_name": "HTMLModel",
            "placeholder": "​",
            "_view_module": "@jupyter-widgets/controls",
            "_model_module_version": "1.5.0",
            "value": " 2.42M/2.42M [00:00&lt;00:00, 17.9MB/s]",
            "_view_count": null,
            "_view_module_version": "1.5.0",
            "description_tooltip": null,
            "_model_module": "@jupyter-widgets/controls",
            "layout": "IPY_MODEL_8685e39906da4f6dbda49088d1cbe485"
          }
        },
        "384460f64de843dea5343d861a04e2ad": {
          "model_module": "@jupyter-widgets/controls",
          "model_name": "ProgressStyleModel",
          "state": {
            "_view_name": "StyleView",
            "_model_name": "ProgressStyleModel",
            "description_width": "initial",
            "_view_module": "@jupyter-widgets/base",
            "_model_module_version": "1.5.0",
            "_view_count": null,
            "_view_module_version": "1.2.0",
            "bar_color": null,
            "_model_module": "@jupyter-widgets/controls"
          }
        },
        "236b7b46b8b54602938343ee149ceb20": {
          "model_module": "@jupyter-widgets/base",
          "model_name": "LayoutModel",
          "state": {
            "_view_name": "LayoutView",
            "grid_template_rows": null,
            "right": null,
            "justify_content": null,
            "_view_module": "@jupyter-widgets/base",
            "overflow": null,
            "_model_module_version": "1.2.0",
            "_view_count": null,
            "flex_flow": null,
            "width": null,
            "min_width": null,
            "border": null,
            "align_items": null,
            "bottom": null,
            "_model_module": "@jupyter-widgets/base",
            "top": null,
            "grid_column": null,
            "overflow_y": null,
            "overflow_x": null,
            "grid_auto_flow": null,
            "grid_area": null,
            "grid_template_columns": null,
            "flex": null,
            "_model_name": "LayoutModel",
            "justify_items": null,
            "grid_row": null,
            "max_height": null,
            "align_content": null,
            "visibility": null,
            "align_self": null,
            "height": null,
            "min_height": null,
            "padding": null,
            "grid_auto_rows": null,
            "grid_gap": null,
            "max_width": null,
            "order": null,
            "_view_module_version": "1.2.0",
            "grid_template_areas": null,
            "object_position": null,
            "object_fit": null,
            "grid_auto_columns": null,
            "margin": null,
            "display": null,
            "left": null
          }
        },
        "293bd6531afd4fcb936183d16b27bb5d": {
          "model_module": "@jupyter-widgets/controls",
          "model_name": "DescriptionStyleModel",
          "state": {
            "_view_name": "StyleView",
            "_model_name": "DescriptionStyleModel",
            "description_width": "",
            "_view_module": "@jupyter-widgets/base",
            "_model_module_version": "1.5.0",
            "_view_count": null,
            "_view_module_version": "1.2.0",
            "_model_module": "@jupyter-widgets/controls"
          }
        },
        "8685e39906da4f6dbda49088d1cbe485": {
          "model_module": "@jupyter-widgets/base",
          "model_name": "LayoutModel",
          "state": {
            "_view_name": "LayoutView",
            "grid_template_rows": null,
            "right": null,
            "justify_content": null,
            "_view_module": "@jupyter-widgets/base",
            "overflow": null,
            "_model_module_version": "1.2.0",
            "_view_count": null,
            "flex_flow": null,
            "width": null,
            "min_width": null,
            "border": null,
            "align_items": null,
            "bottom": null,
            "_model_module": "@jupyter-widgets/base",
            "top": null,
            "grid_column": null,
            "overflow_y": null,
            "overflow_x": null,
            "grid_auto_flow": null,
            "grid_area": null,
            "grid_template_columns": null,
            "flex": null,
            "_model_name": "LayoutModel",
            "justify_items": null,
            "grid_row": null,
            "max_height": null,
            "align_content": null,
            "visibility": null,
            "align_self": null,
            "height": null,
            "min_height": null,
            "padding": null,
            "grid_auto_rows": null,
            "grid_gap": null,
            "max_width": null,
            "order": null,
            "_view_module_version": "1.2.0",
            "grid_template_areas": null,
            "object_position": null,
            "object_fit": null,
            "grid_auto_columns": null,
            "margin": null,
            "display": null,
            "left": null
          }
        },
        "e242cf2dadc541cc9e96c175d5c3e9d5": {
          "model_module": "@jupyter-widgets/controls",
          "model_name": "HBoxModel",
          "state": {
            "_view_name": "HBoxView",
            "_dom_classes": [],
            "_model_name": "HBoxModel",
            "_view_module": "@jupyter-widgets/controls",
            "_model_module_version": "1.5.0",
            "_view_count": null,
            "_view_module_version": "1.5.0",
            "box_style": "",
            "layout": "IPY_MODEL_c8d5230747f64817895048bd376bbbb6",
            "_model_module": "@jupyter-widgets/controls",
            "children": [
              "IPY_MODEL_eb4c989c9ef940ffab0197cfb9c9f788",
              "IPY_MODEL_2477ee677dea45abbe7bb18fd56e6a2d"
            ]
          }
        },
        "c8d5230747f64817895048bd376bbbb6": {
          "model_module": "@jupyter-widgets/base",
          "model_name": "LayoutModel",
          "state": {
            "_view_name": "LayoutView",
            "grid_template_rows": null,
            "right": null,
            "justify_content": null,
            "_view_module": "@jupyter-widgets/base",
            "overflow": null,
            "_model_module_version": "1.2.0",
            "_view_count": null,
            "flex_flow": null,
            "width": null,
            "min_width": null,
            "border": null,
            "align_items": null,
            "bottom": null,
            "_model_module": "@jupyter-widgets/base",
            "top": null,
            "grid_column": null,
            "overflow_y": null,
            "overflow_x": null,
            "grid_auto_flow": null,
            "grid_area": null,
            "grid_template_columns": null,
            "flex": null,
            "_model_name": "LayoutModel",
            "justify_items": null,
            "grid_row": null,
            "max_height": null,
            "align_content": null,
            "visibility": null,
            "align_self": null,
            "height": null,
            "min_height": null,
            "padding": null,
            "grid_auto_rows": null,
            "grid_gap": null,
            "max_width": null,
            "order": null,
            "_view_module_version": "1.2.0",
            "grid_template_areas": null,
            "object_position": null,
            "object_fit": null,
            "grid_auto_columns": null,
            "margin": null,
            "display": null,
            "left": null
          }
        },
        "eb4c989c9ef940ffab0197cfb9c9f788": {
          "model_module": "@jupyter-widgets/controls",
          "model_name": "FloatProgressModel",
          "state": {
            "_view_name": "ProgressView",
            "style": "IPY_MODEL_9218826aca9b41ab97a02c096dcb874a",
            "_dom_classes": [],
            "description": "Downloading: 100%",
            "_model_name": "FloatProgressModel",
            "bar_style": "success",
            "max": 271,
            "_view_module": "@jupyter-widgets/controls",
            "_model_module_version": "1.5.0",
            "value": 271,
            "_view_count": null,
            "_view_module_version": "1.5.0",
            "orientation": "horizontal",
            "min": 0,
            "description_tooltip": null,
            "_model_module": "@jupyter-widgets/controls",
            "layout": "IPY_MODEL_43fdccbc6068435bb7c1b8f98e2c78d8"
          }
        },
        "2477ee677dea45abbe7bb18fd56e6a2d": {
          "model_module": "@jupyter-widgets/controls",
          "model_name": "HTMLModel",
          "state": {
            "_view_name": "HTMLView",
            "style": "IPY_MODEL_190546a01d474d9d857393a23882a90c",
            "_dom_classes": [],
            "description": "",
            "_model_name": "HTMLModel",
            "placeholder": "​",
            "_view_module": "@jupyter-widgets/controls",
            "_model_module_version": "1.5.0",
            "value": " 271/271 [00:00&lt;00:00, 490B/s]",
            "_view_count": null,
            "_view_module_version": "1.5.0",
            "description_tooltip": null,
            "_model_module": "@jupyter-widgets/controls",
            "layout": "IPY_MODEL_68081dfd479b4085add1414e39f16071"
          }
        },
        "9218826aca9b41ab97a02c096dcb874a": {
          "model_module": "@jupyter-widgets/controls",
          "model_name": "ProgressStyleModel",
          "state": {
            "_view_name": "StyleView",
            "_model_name": "ProgressStyleModel",
            "description_width": "initial",
            "_view_module": "@jupyter-widgets/base",
            "_model_module_version": "1.5.0",
            "_view_count": null,
            "_view_module_version": "1.2.0",
            "bar_color": null,
            "_model_module": "@jupyter-widgets/controls"
          }
        },
        "43fdccbc6068435bb7c1b8f98e2c78d8": {
          "model_module": "@jupyter-widgets/base",
          "model_name": "LayoutModel",
          "state": {
            "_view_name": "LayoutView",
            "grid_template_rows": null,
            "right": null,
            "justify_content": null,
            "_view_module": "@jupyter-widgets/base",
            "overflow": null,
            "_model_module_version": "1.2.0",
            "_view_count": null,
            "flex_flow": null,
            "width": null,
            "min_width": null,
            "border": null,
            "align_items": null,
            "bottom": null,
            "_model_module": "@jupyter-widgets/base",
            "top": null,
            "grid_column": null,
            "overflow_y": null,
            "overflow_x": null,
            "grid_auto_flow": null,
            "grid_area": null,
            "grid_template_columns": null,
            "flex": null,
            "_model_name": "LayoutModel",
            "justify_items": null,
            "grid_row": null,
            "max_height": null,
            "align_content": null,
            "visibility": null,
            "align_self": null,
            "height": null,
            "min_height": null,
            "padding": null,
            "grid_auto_rows": null,
            "grid_gap": null,
            "max_width": null,
            "order": null,
            "_view_module_version": "1.2.0",
            "grid_template_areas": null,
            "object_position": null,
            "object_fit": null,
            "grid_auto_columns": null,
            "margin": null,
            "display": null,
            "left": null
          }
        },
        "190546a01d474d9d857393a23882a90c": {
          "model_module": "@jupyter-widgets/controls",
          "model_name": "DescriptionStyleModel",
          "state": {
            "_view_name": "StyleView",
            "_model_name": "DescriptionStyleModel",
            "description_width": "",
            "_view_module": "@jupyter-widgets/base",
            "_model_module_version": "1.5.0",
            "_view_count": null,
            "_view_module_version": "1.2.0",
            "_model_module": "@jupyter-widgets/controls"
          }
        },
        "68081dfd479b4085add1414e39f16071": {
          "model_module": "@jupyter-widgets/base",
          "model_name": "LayoutModel",
          "state": {
            "_view_name": "LayoutView",
            "grid_template_rows": null,
            "right": null,
            "justify_content": null,
            "_view_module": "@jupyter-widgets/base",
            "overflow": null,
            "_model_module_version": "1.2.0",
            "_view_count": null,
            "flex_flow": null,
            "width": null,
            "min_width": null,
            "border": null,
            "align_items": null,
            "bottom": null,
            "_model_module": "@jupyter-widgets/base",
            "top": null,
            "grid_column": null,
            "overflow_y": null,
            "overflow_x": null,
            "grid_auto_flow": null,
            "grid_area": null,
            "grid_template_columns": null,
            "flex": null,
            "_model_name": "LayoutModel",
            "justify_items": null,
            "grid_row": null,
            "max_height": null,
            "align_content": null,
            "visibility": null,
            "align_self": null,
            "height": null,
            "min_height": null,
            "padding": null,
            "grid_auto_rows": null,
            "grid_gap": null,
            "max_width": null,
            "order": null,
            "_view_module_version": "1.2.0",
            "grid_template_areas": null,
            "object_position": null,
            "object_fit": null,
            "grid_auto_columns": null,
            "margin": null,
            "display": null,
            "left": null
          }
        },
        "739883bfaefd4f42b98995d4d7d5053d": {
          "model_module": "@jupyter-widgets/controls",
          "model_name": "HBoxModel",
          "state": {
            "_view_name": "HBoxView",
            "_dom_classes": [],
            "_model_name": "HBoxModel",
            "_view_module": "@jupyter-widgets/controls",
            "_model_module_version": "1.5.0",
            "_view_count": null,
            "_view_module_version": "1.5.0",
            "box_style": "",
            "layout": "IPY_MODEL_75c35234d70c461aa099fbe9c75ace1b",
            "_model_module": "@jupyter-widgets/controls",
            "children": [
              "IPY_MODEL_03f75e65c82343289b89463314852cc7",
              "IPY_MODEL_efca107aba1247f4ba8db384fd3746a3"
            ]
          }
        },
        "75c35234d70c461aa099fbe9c75ace1b": {
          "model_module": "@jupyter-widgets/base",
          "model_name": "LayoutModel",
          "state": {
            "_view_name": "LayoutView",
            "grid_template_rows": null,
            "right": null,
            "justify_content": null,
            "_view_module": "@jupyter-widgets/base",
            "overflow": null,
            "_model_module_version": "1.2.0",
            "_view_count": null,
            "flex_flow": null,
            "width": null,
            "min_width": null,
            "border": null,
            "align_items": null,
            "bottom": null,
            "_model_module": "@jupyter-widgets/base",
            "top": null,
            "grid_column": null,
            "overflow_y": null,
            "overflow_x": null,
            "grid_auto_flow": null,
            "grid_area": null,
            "grid_template_columns": null,
            "flex": null,
            "_model_name": "LayoutModel",
            "justify_items": null,
            "grid_row": null,
            "max_height": null,
            "align_content": null,
            "visibility": null,
            "align_self": null,
            "height": null,
            "min_height": null,
            "padding": null,
            "grid_auto_rows": null,
            "grid_gap": null,
            "max_width": null,
            "order": null,
            "_view_module_version": "1.2.0",
            "grid_template_areas": null,
            "object_position": null,
            "object_fit": null,
            "grid_auto_columns": null,
            "margin": null,
            "display": null,
            "left": null
          }
        },
        "03f75e65c82343289b89463314852cc7": {
          "model_module": "@jupyter-widgets/controls",
          "model_name": "FloatProgressModel",
          "state": {
            "_view_name": "ProgressView",
            "style": "IPY_MODEL_6202ef622be74a0cafa32acb23493901",
            "_dom_classes": [],
            "description": "Downloading: 100%",
            "_model_name": "FloatProgressModel",
            "bar_style": "success",
            "max": 1140,
            "_view_module": "@jupyter-widgets/controls",
            "_model_module_version": "1.5.0",
            "value": 1140,
            "_view_count": null,
            "_view_module_version": "1.5.0",
            "orientation": "horizontal",
            "min": 0,
            "description_tooltip": null,
            "_model_module": "@jupyter-widgets/controls",
            "layout": "IPY_MODEL_498badfdd0fb4e15bdba14deb33b659d"
          }
        },
        "efca107aba1247f4ba8db384fd3746a3": {
          "model_module": "@jupyter-widgets/controls",
          "model_name": "HTMLModel",
          "state": {
            "_view_name": "HTMLView",
            "style": "IPY_MODEL_61031e4dffe94d1c92058268075d6c8f",
            "_dom_classes": [],
            "description": "",
            "_model_name": "HTMLModel",
            "placeholder": "​",
            "_view_module": "@jupyter-widgets/controls",
            "_model_module_version": "1.5.0",
            "value": " 1.14k/1.14k [00:00&lt;00:00, 2.48kB/s]",
            "_view_count": null,
            "_view_module_version": "1.5.0",
            "description_tooltip": null,
            "_model_module": "@jupyter-widgets/controls",
            "layout": "IPY_MODEL_6f5f8842816a461096acea576728af25"
          }
        },
        "6202ef622be74a0cafa32acb23493901": {
          "model_module": "@jupyter-widgets/controls",
          "model_name": "ProgressStyleModel",
          "state": {
            "_view_name": "StyleView",
            "_model_name": "ProgressStyleModel",
            "description_width": "initial",
            "_view_module": "@jupyter-widgets/base",
            "_model_module_version": "1.5.0",
            "_view_count": null,
            "_view_module_version": "1.2.0",
            "bar_color": null,
            "_model_module": "@jupyter-widgets/controls"
          }
        },
        "498badfdd0fb4e15bdba14deb33b659d": {
          "model_module": "@jupyter-widgets/base",
          "model_name": "LayoutModel",
          "state": {
            "_view_name": "LayoutView",
            "grid_template_rows": null,
            "right": null,
            "justify_content": null,
            "_view_module": "@jupyter-widgets/base",
            "overflow": null,
            "_model_module_version": "1.2.0",
            "_view_count": null,
            "flex_flow": null,
            "width": null,
            "min_width": null,
            "border": null,
            "align_items": null,
            "bottom": null,
            "_model_module": "@jupyter-widgets/base",
            "top": null,
            "grid_column": null,
            "overflow_y": null,
            "overflow_x": null,
            "grid_auto_flow": null,
            "grid_area": null,
            "grid_template_columns": null,
            "flex": null,
            "_model_name": "LayoutModel",
            "justify_items": null,
            "grid_row": null,
            "max_height": null,
            "align_content": null,
            "visibility": null,
            "align_self": null,
            "height": null,
            "min_height": null,
            "padding": null,
            "grid_auto_rows": null,
            "grid_gap": null,
            "max_width": null,
            "order": null,
            "_view_module_version": "1.2.0",
            "grid_template_areas": null,
            "object_position": null,
            "object_fit": null,
            "grid_auto_columns": null,
            "margin": null,
            "display": null,
            "left": null
          }
        },
        "61031e4dffe94d1c92058268075d6c8f": {
          "model_module": "@jupyter-widgets/controls",
          "model_name": "DescriptionStyleModel",
          "state": {
            "_view_name": "StyleView",
            "_model_name": "DescriptionStyleModel",
            "description_width": "",
            "_view_module": "@jupyter-widgets/base",
            "_model_module_version": "1.5.0",
            "_view_count": null,
            "_view_module_version": "1.2.0",
            "_model_module": "@jupyter-widgets/controls"
          }
        },
        "6f5f8842816a461096acea576728af25": {
          "model_module": "@jupyter-widgets/base",
          "model_name": "LayoutModel",
          "state": {
            "_view_name": "LayoutView",
            "grid_template_rows": null,
            "right": null,
            "justify_content": null,
            "_view_module": "@jupyter-widgets/base",
            "overflow": null,
            "_model_module_version": "1.2.0",
            "_view_count": null,
            "flex_flow": null,
            "width": null,
            "min_width": null,
            "border": null,
            "align_items": null,
            "bottom": null,
            "_model_module": "@jupyter-widgets/base",
            "top": null,
            "grid_column": null,
            "overflow_y": null,
            "overflow_x": null,
            "grid_auto_flow": null,
            "grid_area": null,
            "grid_template_columns": null,
            "flex": null,
            "_model_name": "LayoutModel",
            "justify_items": null,
            "grid_row": null,
            "max_height": null,
            "align_content": null,
            "visibility": null,
            "align_self": null,
            "height": null,
            "min_height": null,
            "padding": null,
            "grid_auto_rows": null,
            "grid_gap": null,
            "max_width": null,
            "order": null,
            "_view_module_version": "1.2.0",
            "grid_template_areas": null,
            "object_position": null,
            "object_fit": null,
            "grid_auto_columns": null,
            "margin": null,
            "display": null,
            "left": null
          }
        }
      }
    }
  },
  "cells": [
    {
      "cell_type": "markdown",
      "metadata": {
        "id": "view-in-github",
        "colab_type": "text"
      },
      "source": [
        "<a href=\"https://colab.research.google.com/github/DenisShevchenkoV/tyumile/blob/master/%D0%93%D0%B5%D0%BD%D0%B5%D1%80%D0%B0%D1%86%D0%B8%D1%8F_%D1%81%D0%B0%D0%B9%D1%82%D0%BE%D0%B2_%D0%B8%D0%B7_%D0%BF%D0%B5%D1%80%D0%B5%D0%B2%D0%BE%D0%B4%D0%BE%D0%B2_1_0%2C_%D0%A6%D0%9F%D0%A2.ipynb\" target=\"_parent\"><img src=\"https://colab.research.google.com/assets/colab-badge.svg\" alt=\"Open In Colab\"/></a>"
      ]
    },
    {
      "cell_type": "code",
      "metadata": {
        "id": "P1nmpAmNmX2a"
      },
      "source": [
        "!pip install -U easynmt\n",
        "!pip install python-wordpress-xmlrpc\n",
        "!pip install wget\n",
        "output.clear()"
      ],
      "execution_count": null,
      "outputs": []
    },
    {
      "cell_type": "code",
      "metadata": {
        "colab": {
          "base_uri": "https://localhost:8080/"
        },
        "id": "TS3pMw8cFNaC",
        "outputId": "83dff8a1-2c59-4c57-f73d-5599399efffe"
      },
      "source": [
        "import pandas as pd\n",
        "import numpy as np\n",
        "import os #Для работы с файлами \n",
        "import time\n",
        "from google.colab import drive\n",
        "import traceback\n",
        "import xml.etree.ElementTree as ET\n",
        "from xml.etree import ElementTree\n",
        "import xlrd\n",
        "import zipfile\n",
        "import re\n",
        "from lxml import html, etree\n",
        "import requests\n",
        "import httplib2\n",
        "import json\n",
        "import wget\n",
        "import datetime as DT\n",
        "from datetime import date\n",
        "from easynmt import EasyNMT\n",
        "\n",
        "# Обработка записей и загрузка данных в WP\n",
        "from wordpress_xmlrpc import Client, WordPressPost\n",
        "from wordpress_xmlrpc.methods.posts import GetPosts, NewPost\n",
        "from wordpress_xmlrpc.methods.users import GetUserInfo\n",
        "from wordpress_xmlrpc.methods import media\n",
        "from wordpress_xmlrpc.compat import xmlrpc_client\n",
        "\n",
        "drive.mount('/content/drive') #rusexpress.online\n",
        "base_path = '/content/drive/MyDrive/generate_sites/'"
      ],
      "execution_count": null,
      "outputs": [
        {
          "output_type": "stream",
          "text": [
            "Drive already mounted at /content/drive; to attempt to forcibly remount, call drive.mount(\"/content/drive\", force_remount=True).\n"
          ],
          "name": "stdout"
        }
      ]
    },
    {
      "cell_type": "markdown",
      "metadata": {
        "id": "SYymgpw3Jnty"
      },
      "source": [
        "# Функции для arxiv.org"
      ]
    },
    {
      "cell_type": "code",
      "metadata": {
        "id": "HZcGB4EWTwk-"
      },
      "source": [
        "!unzip -q /content/drive/MyDrive/generate_sites/arxiv-metadata-oai-snapshot.json.zip\n"
      ],
      "execution_count": null,
      "outputs": []
    },
    {
      "cell_type": "code",
      "metadata": {
        "id": "meD2PQSdnvwy"
      },
      "source": [
        "arxiv_json = []\n",
        "for line in open('/content/arxiv-metadata-oai-snapshot.json', 'r'):\n",
        "    arxiv_json.append(json.loads(line))"
      ],
      "execution_count": null,
      "outputs": []
    },
    {
      "cell_type": "code",
      "metadata": {
        "id": "d4hci7FfCXZb"
      },
      "source": [
        "def filterByDate(date, arxiv_json): #поиск нужной даты в списке\n",
        "  filtered_by_date = []\n",
        "  for article in arxiv_json:\n",
        "    if date in article['update_date']:\n",
        "      filtered_by_date.append(article)\n",
        "  return filtered_by_date\n",
        "\n",
        "def filterByTheme(theme, arxiv_json): #поиск нужной даты в списке\n",
        "  filtered_by_theme = []\n",
        "  for article in arxiv_json:\n",
        "    if theme in article['categories']:\n",
        "      filtered_by_theme.append(article)\n",
        "  return filtered_by_theme\n",
        "\n",
        "def cleanText(text):\n",
        "  badwords = ['$', '\\n']\n",
        "  for word in badwords:\n",
        "    text = text.replace(word,' ')\n",
        "  return text\n",
        "\n",
        "def getPageHtml(url):\n",
        "  page = {}\n",
        "  r = requests.get(url)\n",
        "  html_page = r.text\n",
        "  return html_page\n",
        "\n",
        "def getPagesUrls():\n",
        "  pass\n",
        "\n",
        "def getArticlesUrls():\n",
        "  pass\n",
        "\n",
        "# переводы\n",
        "def translateText(text):\n",
        "  pass"
      ],
      "execution_count": null,
      "outputs": []
    },
    {
      "cell_type": "code",
      "metadata": {
        "colab": {
          "base_uri": "https://localhost:8080/"
        },
        "id": "cn5TwyKrgvvq",
        "outputId": "592d0db3-fda7-4583-a98b-51b461f6ba97"
      },
      "source": [
        "date = '2021-04-16'\n",
        "filtered_by_date = filterByDate(date, arxiv_json)\n",
        "len(filtered_by_date)"
      ],
      "execution_count": null,
      "outputs": [
        {
          "output_type": "execute_result",
          "data": {
            "text/plain": [
              "1123"
            ]
          },
          "metadata": {
            "tags": []
          },
          "execution_count": 6
        }
      ]
    },
    {
      "cell_type": "code",
      "metadata": {
        "id": "zXqAlERan4a6"
      },
      "source": [
        "text = filtered_by_date[1]['abstract']\n",
        "text = cleanText(text)\n",
        "del arxiv_json\n",
        "del line"
      ],
      "execution_count": null,
      "outputs": []
    },
    {
      "cell_type": "code",
      "metadata": {
        "id": "p8p6ItFhmcUo",
        "colab": {
          "base_uri": "https://localhost:8080/",
          "height": 328,
          "referenced_widgets": [
            "1f8e5d929ad541a588d4a790c0ab47f9",
            "80aa11cc40bf4e07b2a4a15459f43189",
            "edd96c5de0a7405a84a83f34296b45c9",
            "6b4d890cbb8349d791b7f8e5d222ced5",
            "2c2508e968ae419ea8afe2953fe44801",
            "f36f5bee920743a880932af577b583d5",
            "4cc6c64064a3433c84860b86e51b7e97",
            "fb7681a0d3504380a640aeb085ae6f2e",
            "a39ff763bb9a4e0ab63766d4ad01f41e",
            "84b840e2fe31449d84b8894cd0c09685",
            "1dde167557164659b25fd6b66c143b27",
            "ea0518c2670642b6982b219d36416a66",
            "509a1428391d4e8d8b157652b1e20f72",
            "3a9639cf0ce84bb986fb1be25cfc6117",
            "97c2eb844e4e47f09c4bc6d1d02e3949",
            "2dbb1e6b10d74b91959cfe526a67d61f",
            "2aa9fce75d7f478cbe32715435ff1187",
            "0d910cab256647a095b0523d1d250912",
            "61aad3562d97471198d9feccf8fcf5af",
            "9c74fd6a4de240e197dd08f9ce448798",
            "d7fbd063094946a4b1ea2be5c7855b13",
            "7f8029849ebd484aa1a4d59568836ece",
            "b5d348635bf24971b1f107667114f1c1",
            "9b55d8166f3d4b0d9b155e61dd244d5c",
            "a5452110741f4b38b25901556cdf163b",
            "185ebd4dae494e109930a2a065de9b6f",
            "d35b71c46a754d5aa6f48bf77fafc4ac",
            "e94d8e3152e84969b187d5ad5a23b207",
            "384460f64de843dea5343d861a04e2ad",
            "236b7b46b8b54602938343ee149ceb20",
            "293bd6531afd4fcb936183d16b27bb5d",
            "8685e39906da4f6dbda49088d1cbe485",
            "e242cf2dadc541cc9e96c175d5c3e9d5",
            "c8d5230747f64817895048bd376bbbb6",
            "eb4c989c9ef940ffab0197cfb9c9f788",
            "2477ee677dea45abbe7bb18fd56e6a2d",
            "9218826aca9b41ab97a02c096dcb874a",
            "43fdccbc6068435bb7c1b8f98e2c78d8",
            "190546a01d474d9d857393a23882a90c",
            "68081dfd479b4085add1414e39f16071",
            "739883bfaefd4f42b98995d4d7d5053d",
            "75c35234d70c461aa099fbe9c75ace1b",
            "03f75e65c82343289b89463314852cc7",
            "efca107aba1247f4ba8db384fd3746a3",
            "6202ef622be74a0cafa32acb23493901",
            "498badfdd0fb4e15bdba14deb33b659d",
            "61031e4dffe94d1c92058268075d6c8f",
            "6f5f8842816a461096acea576728af25"
          ]
        },
        "outputId": "ba580e9d-c903-400e-a3d4-0086a70cc9a0"
      },
      "source": [
        "from easynmt import EasyNMT\n",
        "model = EasyNMT('m2m_100_1.2B')"
      ],
      "execution_count": null,
      "outputs": [
        {
          "output_type": "stream",
          "text": [
            "100%|██████████| 89.9k/89.9k [00:00<00:00, 424kB/s]\n"
          ],
          "name": "stderr"
        },
        {
          "output_type": "display_data",
          "data": {
            "application/vnd.jupyter.widget-view+json": {
              "model_id": "1f8e5d929ad541a588d4a790c0ab47f9",
              "version_minor": 0,
              "version_major": 2
            },
            "text/plain": [
              "HBox(children=(FloatProgress(value=0.0, description='Downloading', max=909.0, style=ProgressStyle(description_…"
            ]
          },
          "metadata": {
            "tags": []
          }
        },
        {
          "output_type": "stream",
          "text": [
            "\n"
          ],
          "name": "stdout"
        },
        {
          "output_type": "display_data",
          "data": {
            "application/vnd.jupyter.widget-view+json": {
              "model_id": "a39ff763bb9a4e0ab63766d4ad01f41e",
              "version_minor": 0,
              "version_major": 2
            },
            "text/plain": [
              "HBox(children=(FloatProgress(value=0.0, description='Downloading', max=4958230644.0, style=ProgressStyle(descr…"
            ]
          },
          "metadata": {
            "tags": []
          }
        },
        {
          "output_type": "stream",
          "text": [
            "\n"
          ],
          "name": "stdout"
        },
        {
          "output_type": "display_data",
          "data": {
            "application/vnd.jupyter.widget-view+json": {
              "model_id": "2aa9fce75d7f478cbe32715435ff1187",
              "version_minor": 0,
              "version_major": 2
            },
            "text/plain": [
              "HBox(children=(FloatProgress(value=0.0, description='Downloading', max=3708092.0, style=ProgressStyle(descript…"
            ]
          },
          "metadata": {
            "tags": []
          }
        },
        {
          "output_type": "stream",
          "text": [
            "\n"
          ],
          "name": "stdout"
        },
        {
          "output_type": "display_data",
          "data": {
            "application/vnd.jupyter.widget-view+json": {
              "model_id": "a5452110741f4b38b25901556cdf163b",
              "version_minor": 0,
              "version_major": 2
            },
            "text/plain": [
              "HBox(children=(FloatProgress(value=0.0, description='Downloading', max=2423393.0, style=ProgressStyle(descript…"
            ]
          },
          "metadata": {
            "tags": []
          }
        },
        {
          "output_type": "stream",
          "text": [
            "\n"
          ],
          "name": "stdout"
        },
        {
          "output_type": "display_data",
          "data": {
            "application/vnd.jupyter.widget-view+json": {
              "model_id": "e242cf2dadc541cc9e96c175d5c3e9d5",
              "version_minor": 0,
              "version_major": 2
            },
            "text/plain": [
              "HBox(children=(FloatProgress(value=0.0, description='Downloading', max=271.0, style=ProgressStyle(description_…"
            ]
          },
          "metadata": {
            "tags": []
          }
        },
        {
          "output_type": "stream",
          "text": [
            "\n"
          ],
          "name": "stdout"
        },
        {
          "output_type": "display_data",
          "data": {
            "application/vnd.jupyter.widget-view+json": {
              "model_id": "739883bfaefd4f42b98995d4d7d5053d",
              "version_minor": 0,
              "version_major": 2
            },
            "text/plain": [
              "HBox(children=(FloatProgress(value=0.0, description='Downloading', max=1140.0, style=ProgressStyle(description…"
            ]
          },
          "metadata": {
            "tags": []
          }
        },
        {
          "output_type": "stream",
          "text": [
            "\n"
          ],
          "name": "stdout"
        }
      ]
    },
    {
      "cell_type": "markdown",
      "metadata": {
        "id": "wVtH3_xWms0d"
      },
      "source": [
        "# Перевод статей\n"
      ]
    },
    {
      "cell_type": "code",
      "metadata": {
        "colab": {
          "base_uri": "https://localhost:8080/",
          "height": 86
        },
        "id": "c0B9vBN3j2Wt",
        "outputId": "e29887a9-f8b3-4da5-9564-3b58afb88d8b"
      },
      "source": [
        "text = filtered_by_date[10]['abstract']\n",
        "text = cleanText(text)\n",
        "text"
      ],
      "execution_count": null,
      "outputs": [
        {
          "output_type": "execute_result",
          "data": {
            "application/vnd.google.colaboratory.intrinsic+json": {
              "type": "string"
            },
            "text/plain": [
              "\"  For an exotic locally compact Hausdorff space  L , constructed under the assumption of the Ostaszewski's  \\\\clubsuit -principle, and a countable ordinal space  \\\\alpha , we prove that all operators defined on  C_0(\\\\alpha\\\\times L)  are as simple as possible. We also investigate the geometry of such space  C_0(\\\\alpha\\\\times L)  and we classify up to isomorphisms all its complemented subspaces. \""
            ]
          },
          "metadata": {
            "tags": []
          },
          "execution_count": 9
        }
      ]
    },
    {
      "cell_type": "code",
      "metadata": {
        "colab": {
          "base_uri": "https://localhost:8080/",
          "height": 120
        },
        "id": "mtKzjsvqnDUW",
        "outputId": "4af24323-1a51-4dcd-e399-375f57bf2ce6"
      },
      "source": [
        "import tqdm\n",
        "text = '<p>Just because you’re disconnecting from the news, doesn’t mean you have to disconnect from your community. In fact, staying in touch with <a href=\"https://newpaltz.edu/media/idmh/covid-19/IDMH%20COVID19%20Community%20Stress%20Management%20Tip%20Sheet%202020%20Final.pdf\" target=\"_blank\" rel=\"noopener\" data-outbound-instanced=\"true\">friends and family, online or in person</a> can help relieve stress. If you’re not likely to get embroiled in a tense political conversation, staying in touch with your social networks—and staying in touch with yourself—does a lot to ease news exhaustion.</p>'\n",
        "translated_text = model.translate(text, target_lang='ru',  beam_size=20)\n",
        "translated_text"
      ],
      "execution_count": null,
      "outputs": [
        {
          "output_type": "execute_result",
          "data": {
            "application/vnd.google.colaboratory.intrinsic+json": {
              "type": "string"
            },
            "text/plain": [
              "'Просто потому, что вы отключаетесь от новостей, это не означает, что вам нужно отключиться от вашего сообщества. На самом деле, оставаясь в контакте с <a href=\"https://newpaltz.edu/media/idmh/covid-19/IDMH%20COVID19%20Community%20Stress%20Management%20Tip%20Sheet%202020%20Final.pdf\" target=\"_blank\" rel=\"noopener\" data-outbound-instanced=\"true\">друзья и семья, онлайн или лично</a> может помочь облегчить стресс. Если вы вряд ли попадете в напряженный политический разговор, оставаться в контакте с вашими социальными сетями - и оставаться в контакте с самим собой - делает многое, чтобы облегчить истощение новостей.</p>'"
            ]
          },
          "metadata": {
            "tags": []
          },
          "execution_count": 14
        }
      ]
    },
    {
      "cell_type": "markdown",
      "metadata": {
        "id": "L3TzxNHVC6N8"
      },
      "source": [
        "# Перевод всего архива"
      ]
    },
    {
      "cell_type": "code",
      "metadata": {
        "colab": {
          "base_uri": "https://localhost:8080/"
        },
        "id": "rGPFSSOiaVPV",
        "outputId": "b3d217f9-b5c0-45fd-b352-6e213d759517"
      },
      "source": [
        "theme = 'cs.AI'\n",
        "filtered_by_theme = filterByTheme(theme, arxiv_json)\n",
        "len(filtered_by_theme)"
      ],
      "execution_count": null,
      "outputs": [
        {
          "output_type": "execute_result",
          "data": {
            "text/plain": [
              "32541"
            ]
          },
          "metadata": {
            "tags": []
          },
          "execution_count": 4
        }
      ]
    },
    {
      "cell_type": "code",
      "metadata": {
        "id": "M3SjgjnDaTDL"
      },
      "source": [
        "del line\n",
        "del arxiv_json"
      ],
      "execution_count": null,
      "outputs": []
    },
    {
      "cell_type": "code",
      "metadata": {
        "id": "PdUV8gJnDTFX"
      },
      "source": [
        "# создание модели для перевода\n",
        "from easynmt import EasyNMT\n",
        "model = EasyNMT('m2m_100_418M')"
      ],
      "execution_count": null,
      "outputs": []
    },
    {
      "cell_type": "code",
      "metadata": {
        "id": "jx_NKbT3arEw",
        "colab": {
          "base_uri": "https://localhost:8080/",
          "height": 1000
        },
        "outputId": "a10630d6-3586-4e1f-abae-cc8eb9a5e081"
      },
      "source": [
        "# перевод всех статей по очереди\n",
        "import tqdm\n",
        "cur_time = time.time()\n",
        "for i in range(len(filtered_by_theme)):\n",
        "  text = filtered_by_theme[i]['abstract']\n",
        "  title = filtered_by_theme[i]['title']\n",
        "\n",
        "  text = cleanText(text)\n",
        "  title = cleanText(title)\n",
        "\n",
        "  translated_text = model.translate(text, target_lang='ru',  beam_size=20)\n",
        "  translated_title = model.translate(title, target_lang='ru',  beam_size=20)\n",
        "\n",
        "  filtered_by_theme[i]['abstract'] = translated_text\n",
        "  filtered_by_theme[i]['title'] = translated_title\n",
        "  \n",
        "  print('Закончили перевод статьи {}, длина текста {}, прошло времени {}'.format(i, len(text), time.time()-cur_time))\n",
        "  if i%50 == 0:\n",
        "    with open(base_path+'filtered_by_theme.json', 'w') as outfile:\n",
        "      json.dump(filtered_by_theme, outfile)"
      ],
      "execution_count": null,
      "outputs": [
        {
          "output_type": "stream",
          "text": [
            "Закончили перевод статьи 0, длина текста 1175, прошло времени 26.102351188659668\n",
            "Закончили перевод статьи 1, длина текста 953, прошло времени 34.591448068618774\n",
            "Закончили перевод статьи 2, длина текста 793, прошло времени 39.084234952926636\n",
            "Закончили перевод статьи 3, длина текста 826, прошло времени 44.372050285339355\n",
            "Закончили перевод статьи 4, длина текста 943, прошло времени 50.63851761817932\n",
            "Закончили перевод статьи 5, длина текста 227, прошло времени 53.549694299697876\n",
            "Закончили перевод статьи 6, длина текста 266, прошло времени 56.03613638877869\n",
            "Закончили перевод статьи 7, длина текста 1188, прошло времени 65.6506073474884\n",
            "Закончили перевод статьи 8, длина текста 1348, прошло времени 74.06339454650879\n",
            "Закончили перевод статьи 9, длина текста 1032, прошло времени 85.8649537563324\n",
            "Закончили перевод статьи 10, длина текста 1601, прошло времени 96.4291741847992\n",
            "Закончили перевод статьи 11, длина текста 566, прошло времени 99.904714345932\n",
            "Закончили перевод статьи 12, длина текста 480, прошло времени 103.17234396934509\n",
            "Закончили перевод статьи 13, длина текста 1189, прошло времени 115.23427724838257\n",
            "Закончили перевод статьи 14, длина текста 844, прошло времени 120.40112614631653\n",
            "Закончили перевод статьи 15, длина текста 715, прошло времени 124.35983443260193\n",
            "Закончили перевод статьи 16, длина текста 809, прошло времени 128.90273118019104\n",
            "Закончили перевод статьи 17, длина текста 1242, прошло времени 135.62458515167236\n",
            "Закончили перевод статьи 18, длина текста 632, прошло времени 140.35241603851318\n",
            "Закончили перевод статьи 19, длина текста 275, прошло времени 143.1635296344757\n",
            "Закончили перевод статьи 20, длина текста 1079, прошло времени 149.22510027885437\n",
            "Закончили перевод статьи 21, длина текста 367, прошло времени 152.9711365699768\n",
            "Закончили перевод статьи 22, длина текста 532, прошло времени 157.68308353424072\n",
            "Закончили перевод статьи 23, длина текста 502, прошло времени 161.07348656654358\n",
            "Закончили перевод статьи 24, длина текста 1209, прошло времени 166.71080017089844\n",
            "Закончили перевод статьи 25, длина текста 1231, прошло времени 174.73999190330505\n",
            "Закончили перевод статьи 26, длина текста 977, прошло времени 180.48297142982483\n",
            "Закончили перевод статьи 27, длина текста 817, прошло времени 186.84068036079407\n",
            "Закончили перевод статьи 28, длина текста 1434, прошло времени 195.72971868515015\n",
            "Закончили перевод статьи 29, длина текста 552, прошло времени 198.88396048545837\n",
            "Закончили перевод статьи 30, длина текста 949, прошло времени 203.58262586593628\n",
            "Закончили перевод статьи 31, длина текста 860, прошло времени 211.61647725105286\n",
            "Закончили перевод статьи 32, длина текста 1000, прошло времени 218.48830771446228\n",
            "Закончили перевод статьи 33, длина текста 744, прошло времени 222.97021412849426\n",
            "Закончили перевод статьи 34, длина текста 692, прошло времени 229.36677932739258\n",
            "Закончили перевод статьи 35, длина текста 1236, прошло времени 240.1877417564392\n",
            "Закончили перевод статьи 36, длина текста 635, прошло времени 243.9958198070526\n",
            "Закончили перевод статьи 37, длина текста 551, прошло времени 248.20086288452148\n",
            "Закончили перевод статьи 38, длина текста 546, прошло времени 252.10617995262146\n",
            "Закончили перевод статьи 39, длина текста 821, прошло времени 259.397025346756\n",
            "Закончили перевод статьи 40, длина текста 1107, прошло времени 265.9460406303406\n",
            "Закончили перевод статьи 41, длина текста 944, прошло времени 272.7582952976227\n",
            "Закончили перевод статьи 42, длина текста 569, прошло времени 277.5755498409271\n",
            "Закончили перевод статьи 43, длина текста 745, прошло времени 281.8868691921234\n",
            "Закончили перевод статьи 44, длина текста 1001, прошло времени 287.96503019332886\n",
            "Закончили перевод статьи 45, длина текста 995, прошло времени 294.77123045921326\n",
            "Закончили перевод статьи 46, длина текста 774, прошло времени 300.8100688457489\n",
            "Закончили перевод статьи 47, длина текста 706, прошло времени 304.87481451034546\n",
            "Закончили перевод статьи 48, длина текста 525, прошло времени 310.56813883781433\n",
            "Закончили перевод статьи 49, длина текста 1363, прошло времени 318.39946269989014\n",
            "Закончили перевод статьи 50, длина текста 848, прошло времени 323.94417238235474\n",
            "Закончили перевод статьи 51, длина текста 1121, прошло времени 331.84246850013733\n",
            "Закончили перевод статьи 52, длина текста 494, прошло времени 335.7161087989807\n",
            "Закончили перевод статьи 53, длина текста 1071, прошло времени 342.39595103263855\n",
            "Закончили перевод статьи 54, длина текста 917, прошло времени 346.72747898101807\n",
            "Закончили перевод статьи 55, длина текста 1544, прошло времени 357.6908757686615\n",
            "Закончили перевод статьи 56, длина текста 543, прошло времени 361.45775055885315\n",
            "Закончили перевод статьи 57, длина текста 371, прошло времени 364.9780750274658\n",
            "Закончили перевод статьи 58, длина текста 547, прошло времени 368.6576955318451\n",
            "Закончили перевод статьи 59, длина текста 968, прошло времени 375.70374155044556\n",
            "Закончили перевод статьи 60, длина текста 413, прошло времени 377.87645745277405\n",
            "Закончили перевод статьи 61, длина текста 1213, прошло времени 389.31619787216187\n",
            "Закончили перевод статьи 62, длина текста 1031, прошло времени 395.4291126728058\n",
            "Закончили перевод статьи 63, длина текста 1014, прошло времени 400.0791759490967\n",
            "Закончили перевод статьи 64, длина текста 721, прошло времени 405.3574049472809\n",
            "Закончили перевод статьи 65, длина текста 1144, прошло времени 412.27878046035767\n",
            "Закончили перевод статьи 66, длина текста 926, прошло времени 418.9587781429291\n",
            "Закончили перевод статьи 67, длина текста 362, прошло времени 421.6212749481201\n",
            "Закончили перевод статьи 68, длина текста 844, прошло времени 426.89291286468506\n",
            "Закончили перевод статьи 69, длина текста 1072, прошло времени 434.02438521385193\n",
            "Закончили перевод статьи 70, длина текста 582, прошло времени 438.90265226364136\n",
            "Закончили перевод статьи 71, длина текста 1197, прошло времени 451.30126309394836\n",
            "Закончили перевод статьи 72, длина текста 1119, прошло времени 457.1926529407501\n",
            "Закончили перевод статьи 73, длина текста 575, прошло времени 463.4330487251282\n",
            "Закончили перевод статьи 74, длина текста 715, прошло времени 468.12477850914\n",
            "Закончили перевод статьи 75, длина текста 540, прошло времени 472.72760343551636\n",
            "Закончили перевод статьи 76, длина текста 542, прошло времени 476.5868465900421\n",
            "Закончили перевод статьи 77, длина текста 1715, прошло времени 486.14703845977783\n",
            "Закончили перевод статьи 78, длина текста 1369, прошло времени 496.7332956790924\n",
            "Закончили перевод статьи 79, длина текста 999, прошло времени 504.8176565170288\n",
            "Закончили перевод статьи 80, длина текста 590, прошло времени 508.9076955318451\n",
            "Закончили перевод статьи 81, длина текста 710, прошло времени 512.5623867511749\n",
            "Закончили перевод статьи 82, длина текста 314, прошло времени 515.7316393852234\n",
            "Закончили перевод статьи 83, длина текста 677, прошло времени 521.1777184009552\n",
            "Закончили перевод статьи 84, длина текста 448, прошло времени 524.4562146663666\n",
            "Закончили перевод статьи 85, длина текста 898, прошло времени 528.9171409606934\n",
            "Закончили перевод статьи 86, длина текста 657, прошло времени 535.5060918331146\n",
            "Закончили перевод статьи 87, длина текста 862, прошло времени 543.3139271736145\n",
            "Закончили перевод статьи 88, длина текста 522, прошло времени 547.0425028800964\n",
            "Закончили перевод статьи 89, длина текста 192, прошло времени 549.7903685569763\n",
            "Закончили перевод статьи 90, длина текста 689, прошло времени 562.3022027015686\n",
            "Закончили перевод статьи 91, длина текста 1668, прошло времени 577.293340921402\n",
            "Закончили перевод статьи 92, длина текста 605, прошло времени 583.4284975528717\n",
            "Закончили перевод статьи 93, длина текста 1226, прошло времени 592.3915328979492\n",
            "Закончили перевод статьи 94, длина текста 914, прошло времени 598.6921458244324\n",
            "Закончили перевод статьи 95, длина текста 869, прошло времени 605.547589302063\n",
            "Закончили перевод статьи 96, длина текста 1581, прошло времени 615.5258207321167\n",
            "Закончили перевод статьи 97, длина текста 1244, прошло времени 623.229118347168\n",
            "Закончили перевод статьи 98, длина текста 1342, прошло времени 630.6944894790649\n",
            "Закончили перевод статьи 99, длина текста 628, прошло времени 636.000786781311\n",
            "Закончили перевод статьи 100, длина текста 1017, прошло времени 643.0030364990234\n",
            "Закончили перевод статьи 101, длина текста 1053, прошло времени 651.9001152515411\n",
            "Закончили перевод статьи 102, длина текста 1546, прошло времени 661.6490013599396\n",
            "Закончили перевод статьи 103, длина текста 634, прошло времени 665.8406689167023\n",
            "Закончили перевод статьи 104, длина текста 309, прошло времени 668.6257536411285\n",
            "Закончили перевод статьи 105, длина текста 570, прошло времени 672.2768392562866\n",
            "Закончили перевод статьи 106, длина текста 58, прошло времени 673.7945988178253\n",
            "Закончили перевод статьи 107, длина текста 1021, прошло времени 685.167293548584\n",
            "Закончили перевод статьи 108, длина текста 1480, прошло времени 695.0569458007812\n",
            "Закончили перевод статьи 109, длина текста 628, прошло времени 699.197023153305\n",
            "Закончили перевод статьи 110, длина текста 654, прошло времени 703.0956258773804\n",
            "Закончили перевод статьи 111, длина текста 870, прошло времени 709.4367368221283\n",
            "Закончили перевод статьи 112, длина текста 662, прошло времени 713.5975499153137\n",
            "Закончили перевод статьи 113, длина текста 888, прошло времени 718.9605627059937\n",
            "Закончили перевод статьи 114, длина текста 969, прошло времени 725.3748867511749\n",
            "Закончили перевод статьи 115, длина текста 1137, прошло времени 731.3483912944794\n",
            "Закончили перевод статьи 116, длина текста 1443, прошло времени 744.6952238082886\n",
            "Закончили перевод статьи 117, длина текста 455, прошло времени 747.9449145793915\n",
            "Закончили перевод статьи 118, длина текста 661, прошло времени 752.0536534786224\n",
            "Закончили перевод статьи 119, длина текста 844, прошло времени 763.2531378269196\n",
            "Закончили перевод статьи 120, длина текста 648, прошло времени 766.9055411815643\n",
            "Закончили перевод статьи 121, длина текста 1658, прошло времени 775.7458257675171\n",
            "Закончили перевод статьи 122, длина текста 1428, прошло времени 790.4644606113434\n",
            "Закончили перевод статьи 123, длина текста 1437, прошло времени 800.093841791153\n",
            "Закончили перевод статьи 124, длина текста 753, прошло времени 806.0122120380402\n",
            "Закончили перевод статьи 125, длина текста 1162, прошло времени 816.4444291591644\n",
            "Закончили перевод статьи 126, длина текста 413, прошло времени 819.5661725997925\n",
            "Закончили перевод статьи 127, длина текста 308, прошло времени 822.1646325588226\n",
            "Закончили перевод статьи 128, длина текста 576, прошло времени 827.5875899791718\n",
            "Закончили перевод статьи 129, длина текста 1226, прошло времени 834.6470639705658\n",
            "Закончили перевод статьи 130, длина текста 1250, прошло времени 841.4001593589783\n",
            "Закончили перевод статьи 131, длина текста 1062, прошло времени 848.5597887039185\n",
            "Закончили перевод статьи 132, длина текста 150, прошло времени 850.9967725276947\n",
            "Закончили перевод статьи 133, длина текста 1054, прошло времени 858.4467306137085\n",
            "Закончили перевод статьи 134, длина текста 1041, прошло времени 866.5175592899323\n",
            "Закончили перевод статьи 135, длина текста 1421, прошло времени 873.6471202373505\n",
            "Закончили перевод статьи 136, длина текста 698, прошло времени 878.4782915115356\n",
            "Закончили перевод статьи 137, длина текста 1040, прошло времени 890.144385099411\n",
            "Закончили перевод статьи 138, длина текста 481, прошло времени 895.0062153339386\n",
            "Закончили перевод статьи 139, длина текста 821, прошло времени 900.4701399803162\n",
            "Закончили перевод статьи 140, длина текста 1630, прошло времени 911.985545873642\n",
            "Закончили перевод статьи 141, длина текста 1023, прошло времени 921.7753663063049\n",
            "Закончили перевод статьи 142, длина текста 1194, прошло времени 929.445995092392\n",
            "Закончили перевод статьи 143, длина текста 1535, прошло времени 944.8480935096741\n",
            "Закончили перевод статьи 144, длина текста 1704, прошло времени 960.5465424060822\n",
            "Закончили перевод статьи 145, длина текста 1044, прошло времени 967.8835184574127\n",
            "Закончили перевод статьи 146, длина текста 888, прошло времени 973.203298330307\n",
            "Закончили перевод статьи 147, длина текста 282, прошло времени 975.7254056930542\n",
            "Закончили перевод статьи 148, длина текста 1668, прошло времени 987.9404888153076\n",
            "Закончили перевод статьи 149, длина текста 809, прошло времени 992.46861743927\n",
            "Закончили перевод статьи 150, длина текста 1172, прошло времени 1001.9929027557373\n",
            "Закончили перевод статьи 151, длина текста 298, прошло времени 1007.3150014877319\n",
            "Закончили перевод статьи 152, длина текста 693, прошло времени 1012.7521362304688\n",
            "Закончили перевод статьи 153, длина текста 622, прошло времени 1016.8268284797668\n",
            "Закончили перевод статьи 154, длина текста 869, прошло времени 1022.2742671966553\n",
            "Закончили перевод статьи 155, длина текста 840, прошло времени 1029.4963521957397\n",
            "Закончили перевод статьи 156, длина текста 436, прошло времени 1032.110139131546\n",
            "Закончили перевод статьи 157, длина текста 1575, прошло времени 1040.8801400661469\n",
            "Закончили перевод статьи 158, длина текста 853, прошло времени 1049.1218025684357\n",
            "Закончили перевод статьи 159, длина текста 386, прошло времени 1052.2528586387634\n",
            "Закончили перевод статьи 160, длина текста 964, прошло времени 1057.3303406238556\n",
            "Закончили перевод статьи 161, длина текста 1576, прошло времени 1069.5409717559814\n",
            "Закончили перевод статьи 162, длина текста 1390, прошло времени 1079.135097503662\n",
            "Закончили перевод статьи 163, длина текста 270, прошло времени 1081.8172345161438\n",
            "Закончили перевод статьи 164, длина текста 935, прошло времени 1087.1917281150818\n",
            "Закончили перевод статьи 165, длина текста 659, прошло времени 1094.2472829818726\n",
            "Закончили перевод статьи 166, длина текста 585, прошло времени 1097.6992609500885\n",
            "Закончили перевод статьи 167, длина текста 726, прошло времени 1105.8436627388\n",
            "Закончили перевод статьи 168, длина текста 579, прошло времени 1111.3949522972107\n",
            "Закончили перевод статьи 169, длина текста 924, прошло времени 1118.9788217544556\n",
            "Закончили перевод статьи 170, длина текста 562, прошло времени 1122.4142956733704\n",
            "Закончили перевод статьи 171, длина текста 703, прошло времени 1127.3862714767456\n",
            "Закончили перевод статьи 172, длина текста 890, прошло времени 1138.7302432060242\n",
            "Закончили перевод статьи 173, длина текста 422, прошло времени 1142.1093854904175\n",
            "Закончили перевод статьи 174, длина текста 785, прошло времени 1146.0721371173859\n",
            "Закончили перевод статьи 175, длина текста 953, прошло времени 1153.56019282341\n",
            "Закончили перевод статьи 176, длина текста 955, прошло времени 1164.3220739364624\n",
            "Закончили перевод статьи 177, длина текста 932, прошло времени 1171.7401471138\n",
            "Закончили перевод статьи 178, длина текста 958, прошло времени 1177.9756569862366\n",
            "Закончили перевод статьи 179, длина текста 885, прошло времени 1184.064029455185\n",
            "Закончили перевод статьи 180, длина текста 1631, прошло времени 1195.4603464603424\n",
            "Закончили перевод статьи 181, длина текста 876, прошло времени 1201.1436400413513\n",
            "Закончили перевод статьи 182, длина текста 1284, прошло времени 1208.5740158557892\n",
            "Закончили перевод статьи 183, длина текста 494, прошло времени 1211.6725206375122\n",
            "Закончили перевод статьи 184, длина текста 919, прошло времени 1216.946379184723\n",
            "Закончили перевод статьи 185, длина текста 1045, прошло времени 1223.0161545276642\n",
            "Закончили перевод статьи 186, длина текста 1430, прошло времени 1232.6894521713257\n",
            "Закончили перевод статьи 187, длина текста 1080, прошло времени 1240.8781208992004\n",
            "Закончили перевод статьи 188, длина текста 688, прошло времени 1245.9815740585327\n",
            "Закончили перевод статьи 189, длина текста 915, прошло времени 1253.5017020702362\n",
            "Закончили перевод статьи 190, длина текста 1315, прошло времени 1258.9405438899994\n"
          ],
          "name": "stdout"
        },
        {
          "output_type": "stream",
          "text": [
            "Exception: CUDA out of memory. Tried to allocate 118.00 MiB (GPU 0; 14.76 GiB total capacity; 11.17 GiB already allocated; 35.75 MiB free; 13.69 GiB reserved in total by PyTorch)\n"
          ],
          "name": "stderr"
        },
        {
          "output_type": "error",
          "ename": "RuntimeError",
          "evalue": "ignored",
          "traceback": [
            "\u001b[0;31m---------------------------------------------------------------------------\u001b[0m",
            "\u001b[0;31mRuntimeError\u001b[0m                              Traceback (most recent call last)",
            "\u001b[0;32m<ipython-input-12-d38f22a13a2f>\u001b[0m in \u001b[0;36m<module>\u001b[0;34m()\u001b[0m\n\u001b[1;32m      9\u001b[0m   \u001b[0mtitle\u001b[0m \u001b[0;34m=\u001b[0m \u001b[0mcleanText\u001b[0m\u001b[0;34m(\u001b[0m\u001b[0mtitle\u001b[0m\u001b[0;34m)\u001b[0m\u001b[0;34m\u001b[0m\u001b[0;34m\u001b[0m\u001b[0m\n\u001b[1;32m     10\u001b[0m \u001b[0;34m\u001b[0m\u001b[0m\n\u001b[0;32m---> 11\u001b[0;31m   \u001b[0mtranslated_text\u001b[0m \u001b[0;34m=\u001b[0m \u001b[0mmodel\u001b[0m\u001b[0;34m.\u001b[0m\u001b[0mtranslate\u001b[0m\u001b[0;34m(\u001b[0m\u001b[0mtext\u001b[0m\u001b[0;34m,\u001b[0m \u001b[0mtarget_lang\u001b[0m\u001b[0;34m=\u001b[0m\u001b[0;34m'ru'\u001b[0m\u001b[0;34m,\u001b[0m  \u001b[0mbeam_size\u001b[0m\u001b[0;34m=\u001b[0m\u001b[0;36m20\u001b[0m\u001b[0;34m)\u001b[0m\u001b[0;34m\u001b[0m\u001b[0;34m\u001b[0m\u001b[0m\n\u001b[0m\u001b[1;32m     12\u001b[0m   \u001b[0mtranslated_title\u001b[0m \u001b[0;34m=\u001b[0m \u001b[0mmodel\u001b[0m\u001b[0;34m.\u001b[0m\u001b[0mtranslate\u001b[0m\u001b[0;34m(\u001b[0m\u001b[0mtitle\u001b[0m\u001b[0;34m,\u001b[0m \u001b[0mtarget_lang\u001b[0m\u001b[0;34m=\u001b[0m\u001b[0;34m'ru'\u001b[0m\u001b[0;34m,\u001b[0m  \u001b[0mbeam_size\u001b[0m\u001b[0;34m=\u001b[0m\u001b[0;36m20\u001b[0m\u001b[0;34m)\u001b[0m\u001b[0;34m\u001b[0m\u001b[0;34m\u001b[0m\u001b[0m\n\u001b[1;32m     13\u001b[0m \u001b[0;34m\u001b[0m\u001b[0m\n",
            "\u001b[0;32m/usr/local/lib/python3.7/dist-packages/easynmt/EasyNMT.py\u001b[0m in \u001b[0;36mtranslate\u001b[0;34m(self, documents, target_lang, source_lang, show_progress_bar, beam_size, batch_size, perform_sentence_splitting, paragraph_split, sentence_splitter, document_language_detection, **kwargs)\u001b[0m\n\u001b[1;32m    152\u001b[0m                 \u001b[0;32mexcept\u001b[0m \u001b[0mException\u001b[0m \u001b[0;32mas\u001b[0m \u001b[0me\u001b[0m\u001b[0;34m:\u001b[0m\u001b[0;34m\u001b[0m\u001b[0;34m\u001b[0m\u001b[0m\n\u001b[1;32m    153\u001b[0m                     \u001b[0mlogger\u001b[0m\u001b[0;34m.\u001b[0m\u001b[0mwarning\u001b[0m\u001b[0;34m(\u001b[0m\u001b[0;34m\"Exception: \"\u001b[0m\u001b[0;34m+\u001b[0m\u001b[0mstr\u001b[0m\u001b[0;34m(\u001b[0m\u001b[0me\u001b[0m\u001b[0;34m)\u001b[0m\u001b[0;34m)\u001b[0m\u001b[0;34m\u001b[0m\u001b[0;34m\u001b[0m\u001b[0m\n\u001b[0;32m--> 154\u001b[0;31m                     \u001b[0;32mraise\u001b[0m \u001b[0me\u001b[0m\u001b[0;34m\u001b[0m\u001b[0;34m\u001b[0m\u001b[0m\n\u001b[0m\u001b[1;32m    155\u001b[0m \u001b[0;34m\u001b[0m\u001b[0m\n\u001b[1;32m    156\u001b[0m             \u001b[0;32mif\u001b[0m \u001b[0mis_single_doc\u001b[0m \u001b[0;32mand\u001b[0m \u001b[0mlen\u001b[0m\u001b[0;34m(\u001b[0m\u001b[0moutput\u001b[0m\u001b[0;34m)\u001b[0m \u001b[0;34m==\u001b[0m \u001b[0;36m1\u001b[0m\u001b[0;34m:\u001b[0m\u001b[0;34m\u001b[0m\u001b[0;34m\u001b[0m\u001b[0m\n",
            "\u001b[0;32m/usr/local/lib/python3.7/dist-packages/easynmt/EasyNMT.py\u001b[0m in \u001b[0;36mtranslate\u001b[0;34m(self, documents, target_lang, source_lang, show_progress_bar, beam_size, batch_size, perform_sentence_splitting, paragraph_split, sentence_splitter, document_language_detection, **kwargs)\u001b[0m\n\u001b[1;32m    147\u001b[0m                     \u001b[0mmethod_args\u001b[0m\u001b[0;34m[\u001b[0m\u001b[0;34m'documents'\u001b[0m\u001b[0;34m]\u001b[0m \u001b[0;34m=\u001b[0m \u001b[0;34m[\u001b[0m\u001b[0mdocuments\u001b[0m\u001b[0;34m[\u001b[0m\u001b[0midx\u001b[0m\u001b[0;34m]\u001b[0m \u001b[0;32mfor\u001b[0m \u001b[0midx\u001b[0m \u001b[0;32min\u001b[0m \u001b[0mids\u001b[0m\u001b[0;34m]\u001b[0m\u001b[0;34m\u001b[0m\u001b[0;34m\u001b[0m\u001b[0m\n\u001b[1;32m    148\u001b[0m                     \u001b[0mmethod_args\u001b[0m\u001b[0;34m[\u001b[0m\u001b[0;34m'source_lang'\u001b[0m\u001b[0;34m]\u001b[0m \u001b[0;34m=\u001b[0m \u001b[0mlng\u001b[0m\u001b[0;34m\u001b[0m\u001b[0;34m\u001b[0m\u001b[0m\n\u001b[0;32m--> 149\u001b[0;31m                     \u001b[0mtranslated\u001b[0m \u001b[0;34m=\u001b[0m \u001b[0mself\u001b[0m\u001b[0;34m.\u001b[0m\u001b[0mtranslate\u001b[0m\u001b[0;34m(\u001b[0m\u001b[0;34m**\u001b[0m\u001b[0mmethod_args\u001b[0m\u001b[0;34m)\u001b[0m\u001b[0;34m\u001b[0m\u001b[0;34m\u001b[0m\u001b[0m\n\u001b[0m\u001b[1;32m    150\u001b[0m                     \u001b[0;32mfor\u001b[0m \u001b[0midx\u001b[0m\u001b[0;34m,\u001b[0m \u001b[0mtranslated_sentences\u001b[0m \u001b[0;32min\u001b[0m \u001b[0mzip\u001b[0m\u001b[0;34m(\u001b[0m\u001b[0mids\u001b[0m\u001b[0;34m,\u001b[0m \u001b[0mtranslated\u001b[0m\u001b[0;34m)\u001b[0m\u001b[0;34m:\u001b[0m\u001b[0;34m\u001b[0m\u001b[0;34m\u001b[0m\u001b[0m\n\u001b[1;32m    151\u001b[0m                         \u001b[0moutput\u001b[0m\u001b[0;34m[\u001b[0m\u001b[0midx\u001b[0m\u001b[0;34m]\u001b[0m \u001b[0;34m=\u001b[0m \u001b[0mtranslated_sentences\u001b[0m\u001b[0;34m\u001b[0m\u001b[0;34m\u001b[0m\u001b[0m\n",
            "\u001b[0;32m/usr/local/lib/python3.7/dist-packages/easynmt/EasyNMT.py\u001b[0m in \u001b[0;36mtranslate\u001b[0;34m(self, documents, target_lang, source_lang, show_progress_bar, beam_size, batch_size, perform_sentence_splitting, paragraph_split, sentence_splitter, document_language_detection, **kwargs)\u001b[0m\n\u001b[1;32m    179\u001b[0m             \u001b[0;31m#logger.info(\"Translate {} sentences\".format(len(splitted_sentences)))\u001b[0m\u001b[0;34m\u001b[0m\u001b[0;34m\u001b[0m\u001b[0;34m\u001b[0m\u001b[0m\n\u001b[1;32m    180\u001b[0m \u001b[0;34m\u001b[0m\u001b[0m\n\u001b[0;32m--> 181\u001b[0;31m             \u001b[0mtranslated_sentences\u001b[0m \u001b[0;34m=\u001b[0m \u001b[0mself\u001b[0m\u001b[0;34m.\u001b[0m\u001b[0mtranslate_sentences\u001b[0m\u001b[0;34m(\u001b[0m\u001b[0msplitted_sentences\u001b[0m\u001b[0;34m,\u001b[0m \u001b[0mtarget_lang\u001b[0m\u001b[0;34m=\u001b[0m\u001b[0mtarget_lang\u001b[0m\u001b[0;34m,\u001b[0m \u001b[0msource_lang\u001b[0m\u001b[0;34m=\u001b[0m\u001b[0msource_lang\u001b[0m\u001b[0;34m,\u001b[0m \u001b[0mshow_progress_bar\u001b[0m\u001b[0;34m=\u001b[0m\u001b[0mshow_progress_bar\u001b[0m\u001b[0;34m,\u001b[0m \u001b[0mbeam_size\u001b[0m\u001b[0;34m=\u001b[0m\u001b[0mbeam_size\u001b[0m\u001b[0;34m,\u001b[0m \u001b[0mbatch_size\u001b[0m\u001b[0;34m=\u001b[0m\u001b[0mbatch_size\u001b[0m\u001b[0;34m,\u001b[0m \u001b[0;34m**\u001b[0m\u001b[0mkwargs\u001b[0m\u001b[0;34m)\u001b[0m\u001b[0;34m\u001b[0m\u001b[0;34m\u001b[0m\u001b[0m\n\u001b[0m\u001b[1;32m    182\u001b[0m \u001b[0;34m\u001b[0m\u001b[0m\n\u001b[1;32m    183\u001b[0m             \u001b[0;31m# Merge sentences back to documents\u001b[0m\u001b[0;34m\u001b[0m\u001b[0;34m\u001b[0m\u001b[0;34m\u001b[0m\u001b[0m\n",
            "\u001b[0;32m/usr/local/lib/python3.7/dist-packages/easynmt/EasyNMT.py\u001b[0m in \u001b[0;36mtranslate_sentences\u001b[0;34m(self, sentences, target_lang, source_lang, show_progress_bar, beam_size, batch_size, **kwargs)\u001b[0m\n\u001b[1;32m    276\u001b[0m \u001b[0;34m\u001b[0m\u001b[0m\n\u001b[1;32m    277\u001b[0m             \u001b[0;32mfor\u001b[0m \u001b[0mstart_idx\u001b[0m \u001b[0;32min\u001b[0m \u001b[0miterator\u001b[0m\u001b[0;34m:\u001b[0m\u001b[0;34m\u001b[0m\u001b[0;34m\u001b[0m\u001b[0m\n\u001b[0;32m--> 278\u001b[0;31m                 \u001b[0moutput\u001b[0m\u001b[0;34m.\u001b[0m\u001b[0mextend\u001b[0m\u001b[0;34m(\u001b[0m\u001b[0mself\u001b[0m\u001b[0;34m.\u001b[0m\u001b[0mtranslator\u001b[0m\u001b[0;34m.\u001b[0m\u001b[0mtranslate_sentences\u001b[0m\u001b[0;34m(\u001b[0m\u001b[0msentences_sorted\u001b[0m\u001b[0;34m[\u001b[0m\u001b[0mstart_idx\u001b[0m\u001b[0;34m:\u001b[0m\u001b[0mstart_idx\u001b[0m\u001b[0;34m+\u001b[0m\u001b[0mbatch_size\u001b[0m\u001b[0;34m]\u001b[0m\u001b[0;34m,\u001b[0m \u001b[0msource_lang\u001b[0m\u001b[0;34m=\u001b[0m\u001b[0msource_lang\u001b[0m\u001b[0;34m,\u001b[0m \u001b[0mtarget_lang\u001b[0m\u001b[0;34m=\u001b[0m\u001b[0mtarget_lang\u001b[0m\u001b[0;34m,\u001b[0m \u001b[0mbeam_size\u001b[0m\u001b[0;34m=\u001b[0m\u001b[0mbeam_size\u001b[0m\u001b[0;34m,\u001b[0m \u001b[0mdevice\u001b[0m\u001b[0;34m=\u001b[0m\u001b[0mself\u001b[0m\u001b[0;34m.\u001b[0m\u001b[0mdevice\u001b[0m\u001b[0;34m,\u001b[0m \u001b[0;34m**\u001b[0m\u001b[0mkwargs\u001b[0m\u001b[0;34m)\u001b[0m\u001b[0;34m)\u001b[0m\u001b[0;34m\u001b[0m\u001b[0;34m\u001b[0m\u001b[0m\n\u001b[0m\u001b[1;32m    279\u001b[0m \u001b[0;34m\u001b[0m\u001b[0m\n\u001b[1;32m    280\u001b[0m             \u001b[0;31m#Restore original sorting of sentences\u001b[0m\u001b[0;34m\u001b[0m\u001b[0;34m\u001b[0m\u001b[0;34m\u001b[0m\u001b[0m\n",
            "\u001b[0;32m/usr/local/lib/python3.7/dist-packages/easynmt/models/AutoModel.py\u001b[0m in \u001b[0;36mtranslate_sentences\u001b[0;34m(self, sentences, source_lang, target_lang, device, beam_size, **kwargs)\u001b[0m\n\u001b[1;32m     51\u001b[0m             \u001b[0;32mif\u001b[0m \u001b[0mhasattr\u001b[0m\u001b[0;34m(\u001b[0m\u001b[0mself\u001b[0m\u001b[0;34m.\u001b[0m\u001b[0mtokenizer\u001b[0m\u001b[0;34m,\u001b[0m \u001b[0;34m'lang_code_to_id'\u001b[0m\u001b[0;34m)\u001b[0m\u001b[0;34m:\u001b[0m\u001b[0;34m\u001b[0m\u001b[0;34m\u001b[0m\u001b[0m\n\u001b[1;32m     52\u001b[0m                 \u001b[0mkwargs\u001b[0m\u001b[0;34m[\u001b[0m\u001b[0;34m'forced_bos_token_id'\u001b[0m\u001b[0;34m]\u001b[0m \u001b[0;34m=\u001b[0m \u001b[0mself\u001b[0m\u001b[0;34m.\u001b[0m\u001b[0mtokenizer\u001b[0m\u001b[0;34m.\u001b[0m\u001b[0mlang_code_to_id\u001b[0m\u001b[0;34m[\u001b[0m\u001b[0mtarget_lang\u001b[0m\u001b[0;34m]\u001b[0m\u001b[0;34m\u001b[0m\u001b[0;34m\u001b[0m\u001b[0m\n\u001b[0;32m---> 53\u001b[0;31m             \u001b[0mtranslated\u001b[0m \u001b[0;34m=\u001b[0m \u001b[0mself\u001b[0m\u001b[0;34m.\u001b[0m\u001b[0mmodel\u001b[0m\u001b[0;34m.\u001b[0m\u001b[0mgenerate\u001b[0m\u001b[0;34m(\u001b[0m\u001b[0;34m**\u001b[0m\u001b[0minputs\u001b[0m\u001b[0;34m,\u001b[0m \u001b[0mnum_beams\u001b[0m\u001b[0;34m=\u001b[0m\u001b[0mbeam_size\u001b[0m\u001b[0;34m,\u001b[0m \u001b[0;34m**\u001b[0m\u001b[0mkwargs\u001b[0m\u001b[0;34m)\u001b[0m\u001b[0;34m\u001b[0m\u001b[0;34m\u001b[0m\u001b[0m\n\u001b[0m\u001b[1;32m     54\u001b[0m             \u001b[0moutput\u001b[0m \u001b[0;34m=\u001b[0m \u001b[0;34m[\u001b[0m\u001b[0mself\u001b[0m\u001b[0;34m.\u001b[0m\u001b[0mtokenizer\u001b[0m\u001b[0;34m.\u001b[0m\u001b[0mdecode\u001b[0m\u001b[0;34m(\u001b[0m\u001b[0mt\u001b[0m\u001b[0;34m,\u001b[0m \u001b[0mskip_special_tokens\u001b[0m\u001b[0;34m=\u001b[0m\u001b[0;32mTrue\u001b[0m\u001b[0;34m)\u001b[0m \u001b[0;32mfor\u001b[0m \u001b[0mt\u001b[0m \u001b[0;32min\u001b[0m \u001b[0mtranslated\u001b[0m\u001b[0;34m]\u001b[0m\u001b[0;34m\u001b[0m\u001b[0;34m\u001b[0m\u001b[0m\n\u001b[1;32m     55\u001b[0m \u001b[0;34m\u001b[0m\u001b[0m\n",
            "\u001b[0;32m/usr/local/lib/python3.7/dist-packages/torch/autograd/grad_mode.py\u001b[0m in \u001b[0;36mdecorate_context\u001b[0;34m(*args, **kwargs)\u001b[0m\n\u001b[1;32m     25\u001b[0m         \u001b[0;32mdef\u001b[0m \u001b[0mdecorate_context\u001b[0m\u001b[0;34m(\u001b[0m\u001b[0;34m*\u001b[0m\u001b[0margs\u001b[0m\u001b[0;34m,\u001b[0m \u001b[0;34m**\u001b[0m\u001b[0mkwargs\u001b[0m\u001b[0;34m)\u001b[0m\u001b[0;34m:\u001b[0m\u001b[0;34m\u001b[0m\u001b[0;34m\u001b[0m\u001b[0m\n\u001b[1;32m     26\u001b[0m             \u001b[0;32mwith\u001b[0m \u001b[0mself\u001b[0m\u001b[0;34m.\u001b[0m\u001b[0m__class__\u001b[0m\u001b[0;34m(\u001b[0m\u001b[0;34m)\u001b[0m\u001b[0;34m:\u001b[0m\u001b[0;34m\u001b[0m\u001b[0;34m\u001b[0m\u001b[0m\n\u001b[0;32m---> 27\u001b[0;31m                 \u001b[0;32mreturn\u001b[0m \u001b[0mfunc\u001b[0m\u001b[0;34m(\u001b[0m\u001b[0;34m*\u001b[0m\u001b[0margs\u001b[0m\u001b[0;34m,\u001b[0m \u001b[0;34m**\u001b[0m\u001b[0mkwargs\u001b[0m\u001b[0;34m)\u001b[0m\u001b[0;34m\u001b[0m\u001b[0;34m\u001b[0m\u001b[0m\n\u001b[0m\u001b[1;32m     28\u001b[0m         \u001b[0;32mreturn\u001b[0m \u001b[0mcast\u001b[0m\u001b[0;34m(\u001b[0m\u001b[0mF\u001b[0m\u001b[0;34m,\u001b[0m \u001b[0mdecorate_context\u001b[0m\u001b[0;34m)\u001b[0m\u001b[0;34m\u001b[0m\u001b[0;34m\u001b[0m\u001b[0m\n\u001b[1;32m     29\u001b[0m \u001b[0;34m\u001b[0m\u001b[0m\n",
            "\u001b[0;32m/usr/local/lib/python3.7/dist-packages/transformers/generation_utils.py\u001b[0m in \u001b[0;36mgenerate\u001b[0;34m(self, input_ids, max_length, min_length, do_sample, early_stopping, num_beams, temperature, top_k, top_p, repetition_penalty, bad_words_ids, bos_token_id, pad_token_id, eos_token_id, length_penalty, no_repeat_ngram_size, encoder_no_repeat_ngram_size, num_return_sequences, max_time, decoder_start_token_id, use_cache, num_beam_groups, diversity_penalty, prefix_allowed_tokens_fn, output_attentions, output_hidden_states, output_scores, return_dict_in_generate, forced_bos_token_id, forced_eos_token_id, remove_invalid_values, **model_kwargs)\u001b[0m\n\u001b[1;32m   1064\u001b[0m                 \u001b[0moutput_scores\u001b[0m\u001b[0;34m=\u001b[0m\u001b[0moutput_scores\u001b[0m\u001b[0;34m,\u001b[0m\u001b[0;34m\u001b[0m\u001b[0;34m\u001b[0m\u001b[0m\n\u001b[1;32m   1065\u001b[0m                 \u001b[0mreturn_dict_in_generate\u001b[0m\u001b[0;34m=\u001b[0m\u001b[0mreturn_dict_in_generate\u001b[0m\u001b[0;34m,\u001b[0m\u001b[0;34m\u001b[0m\u001b[0;34m\u001b[0m\u001b[0m\n\u001b[0;32m-> 1066\u001b[0;31m                 \u001b[0;34m**\u001b[0m\u001b[0mmodel_kwargs\u001b[0m\u001b[0;34m,\u001b[0m\u001b[0;34m\u001b[0m\u001b[0;34m\u001b[0m\u001b[0m\n\u001b[0m\u001b[1;32m   1067\u001b[0m             )\n\u001b[1;32m   1068\u001b[0m \u001b[0;34m\u001b[0m\u001b[0m\n",
            "\u001b[0;32m/usr/local/lib/python3.7/dist-packages/transformers/generation_utils.py\u001b[0m in \u001b[0;36mbeam_search\u001b[0;34m(self, input_ids, beam_scorer, logits_processor, stopping_criteria, max_length, pad_token_id, eos_token_id, output_attentions, output_hidden_states, output_scores, return_dict_in_generate, **model_kwargs)\u001b[0m\n\u001b[1;32m   1734\u001b[0m                 \u001b[0mreturn_dict\u001b[0m\u001b[0;34m=\u001b[0m\u001b[0;32mTrue\u001b[0m\u001b[0;34m,\u001b[0m\u001b[0;34m\u001b[0m\u001b[0;34m\u001b[0m\u001b[0m\n\u001b[1;32m   1735\u001b[0m                 \u001b[0moutput_attentions\u001b[0m\u001b[0;34m=\u001b[0m\u001b[0moutput_attentions\u001b[0m\u001b[0;34m,\u001b[0m\u001b[0;34m\u001b[0m\u001b[0;34m\u001b[0m\u001b[0m\n\u001b[0;32m-> 1736\u001b[0;31m                 \u001b[0moutput_hidden_states\u001b[0m\u001b[0;34m=\u001b[0m\u001b[0moutput_hidden_states\u001b[0m\u001b[0;34m,\u001b[0m\u001b[0;34m\u001b[0m\u001b[0;34m\u001b[0m\u001b[0m\n\u001b[0m\u001b[1;32m   1737\u001b[0m             )\n\u001b[1;32m   1738\u001b[0m             \u001b[0mnext_token_logits\u001b[0m \u001b[0;34m=\u001b[0m \u001b[0moutputs\u001b[0m\u001b[0;34m.\u001b[0m\u001b[0mlogits\u001b[0m\u001b[0;34m[\u001b[0m\u001b[0;34m:\u001b[0m\u001b[0;34m,\u001b[0m \u001b[0;34m-\u001b[0m\u001b[0;36m1\u001b[0m\u001b[0;34m,\u001b[0m \u001b[0;34m:\u001b[0m\u001b[0;34m]\u001b[0m\u001b[0;34m\u001b[0m\u001b[0;34m\u001b[0m\u001b[0m\n",
            "\u001b[0;32m/usr/local/lib/python3.7/dist-packages/torch/nn/modules/module.py\u001b[0m in \u001b[0;36m_call_impl\u001b[0;34m(self, *input, **kwargs)\u001b[0m\n\u001b[1;32m    887\u001b[0m             \u001b[0mresult\u001b[0m \u001b[0;34m=\u001b[0m \u001b[0mself\u001b[0m\u001b[0;34m.\u001b[0m\u001b[0m_slow_forward\u001b[0m\u001b[0;34m(\u001b[0m\u001b[0;34m*\u001b[0m\u001b[0minput\u001b[0m\u001b[0;34m,\u001b[0m \u001b[0;34m**\u001b[0m\u001b[0mkwargs\u001b[0m\u001b[0;34m)\u001b[0m\u001b[0;34m\u001b[0m\u001b[0;34m\u001b[0m\u001b[0m\n\u001b[1;32m    888\u001b[0m         \u001b[0;32melse\u001b[0m\u001b[0;34m:\u001b[0m\u001b[0;34m\u001b[0m\u001b[0;34m\u001b[0m\u001b[0m\n\u001b[0;32m--> 889\u001b[0;31m             \u001b[0mresult\u001b[0m \u001b[0;34m=\u001b[0m \u001b[0mself\u001b[0m\u001b[0;34m.\u001b[0m\u001b[0mforward\u001b[0m\u001b[0;34m(\u001b[0m\u001b[0;34m*\u001b[0m\u001b[0minput\u001b[0m\u001b[0;34m,\u001b[0m \u001b[0;34m**\u001b[0m\u001b[0mkwargs\u001b[0m\u001b[0;34m)\u001b[0m\u001b[0;34m\u001b[0m\u001b[0;34m\u001b[0m\u001b[0m\n\u001b[0m\u001b[1;32m    890\u001b[0m         for hook in itertools.chain(\n\u001b[1;32m    891\u001b[0m                 \u001b[0m_global_forward_hooks\u001b[0m\u001b[0;34m.\u001b[0m\u001b[0mvalues\u001b[0m\u001b[0;34m(\u001b[0m\u001b[0;34m)\u001b[0m\u001b[0;34m,\u001b[0m\u001b[0;34m\u001b[0m\u001b[0;34m\u001b[0m\u001b[0m\n",
            "\u001b[0;32m/usr/local/lib/python3.7/dist-packages/transformers/models/m2m_100/modeling_m2m_100.py\u001b[0m in \u001b[0;36mforward\u001b[0;34m(self, input_ids, attention_mask, decoder_input_ids, decoder_attention_mask, head_mask, decoder_head_mask, encoder_outputs, past_key_values, inputs_embeds, decoder_inputs_embeds, labels, use_cache, output_attentions, output_hidden_states, return_dict)\u001b[0m\n\u001b[1;32m   1253\u001b[0m             \u001b[0mreturn_dict\u001b[0m\u001b[0;34m=\u001b[0m\u001b[0mreturn_dict\u001b[0m\u001b[0;34m,\u001b[0m\u001b[0;34m\u001b[0m\u001b[0;34m\u001b[0m\u001b[0m\n\u001b[1;32m   1254\u001b[0m         )\n\u001b[0;32m-> 1255\u001b[0;31m         \u001b[0mlm_logits\u001b[0m \u001b[0;34m=\u001b[0m \u001b[0mself\u001b[0m\u001b[0;34m.\u001b[0m\u001b[0mlm_head\u001b[0m\u001b[0;34m(\u001b[0m\u001b[0moutputs\u001b[0m\u001b[0;34m[\u001b[0m\u001b[0;36m0\u001b[0m\u001b[0;34m]\u001b[0m\u001b[0;34m)\u001b[0m\u001b[0;34m\u001b[0m\u001b[0;34m\u001b[0m\u001b[0m\n\u001b[0m\u001b[1;32m   1256\u001b[0m \u001b[0;34m\u001b[0m\u001b[0m\n\u001b[1;32m   1257\u001b[0m         \u001b[0mmasked_lm_loss\u001b[0m \u001b[0;34m=\u001b[0m \u001b[0;32mNone\u001b[0m\u001b[0;34m\u001b[0m\u001b[0;34m\u001b[0m\u001b[0m\n",
            "\u001b[0;32m/usr/local/lib/python3.7/dist-packages/torch/nn/modules/module.py\u001b[0m in \u001b[0;36m_call_impl\u001b[0;34m(self, *input, **kwargs)\u001b[0m\n\u001b[1;32m    887\u001b[0m             \u001b[0mresult\u001b[0m \u001b[0;34m=\u001b[0m \u001b[0mself\u001b[0m\u001b[0;34m.\u001b[0m\u001b[0m_slow_forward\u001b[0m\u001b[0;34m(\u001b[0m\u001b[0;34m*\u001b[0m\u001b[0minput\u001b[0m\u001b[0;34m,\u001b[0m \u001b[0;34m**\u001b[0m\u001b[0mkwargs\u001b[0m\u001b[0;34m)\u001b[0m\u001b[0;34m\u001b[0m\u001b[0;34m\u001b[0m\u001b[0m\n\u001b[1;32m    888\u001b[0m         \u001b[0;32melse\u001b[0m\u001b[0;34m:\u001b[0m\u001b[0;34m\u001b[0m\u001b[0;34m\u001b[0m\u001b[0m\n\u001b[0;32m--> 889\u001b[0;31m             \u001b[0mresult\u001b[0m \u001b[0;34m=\u001b[0m \u001b[0mself\u001b[0m\u001b[0;34m.\u001b[0m\u001b[0mforward\u001b[0m\u001b[0;34m(\u001b[0m\u001b[0;34m*\u001b[0m\u001b[0minput\u001b[0m\u001b[0;34m,\u001b[0m \u001b[0;34m**\u001b[0m\u001b[0mkwargs\u001b[0m\u001b[0;34m)\u001b[0m\u001b[0;34m\u001b[0m\u001b[0;34m\u001b[0m\u001b[0m\n\u001b[0m\u001b[1;32m    890\u001b[0m         for hook in itertools.chain(\n\u001b[1;32m    891\u001b[0m                 \u001b[0m_global_forward_hooks\u001b[0m\u001b[0;34m.\u001b[0m\u001b[0mvalues\u001b[0m\u001b[0;34m(\u001b[0m\u001b[0;34m)\u001b[0m\u001b[0;34m,\u001b[0m\u001b[0;34m\u001b[0m\u001b[0;34m\u001b[0m\u001b[0m\n",
            "\u001b[0;32m/usr/local/lib/python3.7/dist-packages/torch/nn/modules/linear.py\u001b[0m in \u001b[0;36mforward\u001b[0;34m(self, input)\u001b[0m\n\u001b[1;32m     92\u001b[0m \u001b[0;34m\u001b[0m\u001b[0m\n\u001b[1;32m     93\u001b[0m     \u001b[0;32mdef\u001b[0m \u001b[0mforward\u001b[0m\u001b[0;34m(\u001b[0m\u001b[0mself\u001b[0m\u001b[0;34m,\u001b[0m \u001b[0minput\u001b[0m\u001b[0;34m:\u001b[0m \u001b[0mTensor\u001b[0m\u001b[0;34m)\u001b[0m \u001b[0;34m->\u001b[0m \u001b[0mTensor\u001b[0m\u001b[0;34m:\u001b[0m\u001b[0;34m\u001b[0m\u001b[0;34m\u001b[0m\u001b[0m\n\u001b[0;32m---> 94\u001b[0;31m         \u001b[0;32mreturn\u001b[0m \u001b[0mF\u001b[0m\u001b[0;34m.\u001b[0m\u001b[0mlinear\u001b[0m\u001b[0;34m(\u001b[0m\u001b[0minput\u001b[0m\u001b[0;34m,\u001b[0m \u001b[0mself\u001b[0m\u001b[0;34m.\u001b[0m\u001b[0mweight\u001b[0m\u001b[0;34m,\u001b[0m \u001b[0mself\u001b[0m\u001b[0;34m.\u001b[0m\u001b[0mbias\u001b[0m\u001b[0;34m)\u001b[0m\u001b[0;34m\u001b[0m\u001b[0;34m\u001b[0m\u001b[0m\n\u001b[0m\u001b[1;32m     95\u001b[0m \u001b[0;34m\u001b[0m\u001b[0m\n\u001b[1;32m     96\u001b[0m     \u001b[0;32mdef\u001b[0m \u001b[0mextra_repr\u001b[0m\u001b[0;34m(\u001b[0m\u001b[0mself\u001b[0m\u001b[0;34m)\u001b[0m \u001b[0;34m->\u001b[0m \u001b[0mstr\u001b[0m\u001b[0;34m:\u001b[0m\u001b[0;34m\u001b[0m\u001b[0;34m\u001b[0m\u001b[0m\n",
            "\u001b[0;32m/usr/local/lib/python3.7/dist-packages/torch/nn/functional.py\u001b[0m in \u001b[0;36mlinear\u001b[0;34m(input, weight, bias)\u001b[0m\n\u001b[1;32m   1751\u001b[0m     \u001b[0;32mif\u001b[0m \u001b[0mhas_torch_function_variadic\u001b[0m\u001b[0;34m(\u001b[0m\u001b[0minput\u001b[0m\u001b[0;34m,\u001b[0m \u001b[0mweight\u001b[0m\u001b[0;34m)\u001b[0m\u001b[0;34m:\u001b[0m\u001b[0;34m\u001b[0m\u001b[0;34m\u001b[0m\u001b[0m\n\u001b[1;32m   1752\u001b[0m         \u001b[0;32mreturn\u001b[0m \u001b[0mhandle_torch_function\u001b[0m\u001b[0;34m(\u001b[0m\u001b[0mlinear\u001b[0m\u001b[0;34m,\u001b[0m \u001b[0;34m(\u001b[0m\u001b[0minput\u001b[0m\u001b[0;34m,\u001b[0m \u001b[0mweight\u001b[0m\u001b[0;34m)\u001b[0m\u001b[0;34m,\u001b[0m \u001b[0minput\u001b[0m\u001b[0;34m,\u001b[0m \u001b[0mweight\u001b[0m\u001b[0;34m,\u001b[0m \u001b[0mbias\u001b[0m\u001b[0;34m=\u001b[0m\u001b[0mbias\u001b[0m\u001b[0;34m)\u001b[0m\u001b[0;34m\u001b[0m\u001b[0;34m\u001b[0m\u001b[0m\n\u001b[0;32m-> 1753\u001b[0;31m     \u001b[0;32mreturn\u001b[0m \u001b[0mtorch\u001b[0m\u001b[0;34m.\u001b[0m\u001b[0m_C\u001b[0m\u001b[0;34m.\u001b[0m\u001b[0m_nn\u001b[0m\u001b[0;34m.\u001b[0m\u001b[0mlinear\u001b[0m\u001b[0;34m(\u001b[0m\u001b[0minput\u001b[0m\u001b[0;34m,\u001b[0m \u001b[0mweight\u001b[0m\u001b[0;34m,\u001b[0m \u001b[0mbias\u001b[0m\u001b[0;34m)\u001b[0m\u001b[0;34m\u001b[0m\u001b[0;34m\u001b[0m\u001b[0m\n\u001b[0m\u001b[1;32m   1754\u001b[0m \u001b[0;34m\u001b[0m\u001b[0m\n\u001b[1;32m   1755\u001b[0m \u001b[0;34m\u001b[0m\u001b[0m\n",
            "\u001b[0;31mRuntimeError\u001b[0m: CUDA out of memory. Tried to allocate 118.00 MiB (GPU 0; 14.76 GiB total capacity; 11.17 GiB already allocated; 35.75 MiB free; 13.69 GiB reserved in total by PyTorch)"
          ]
        }
      ]
    },
    {
      "cell_type": "code",
      "metadata": {
        "id": "yNP5BjWWsa7b",
        "colab": {
          "base_uri": "https://localhost:8080/"
        },
        "outputId": "fef5a264-9205-49b3-ad2f-e6d81d38432d"
      },
      "source": [
        "filtered_by_theme = []\n",
        "for line in open(base_path+'/filtered_by_theme.json', 'r'):\n",
        "    filtered_by_theme.append(json.loads(line))\n",
        "filtered_by_theme[0][105]"
      ],
      "execution_count": null,
      "outputs": [
        {
          "output_type": "execute_result",
          "data": {
            "text/plain": [
              "{'abstract': '  В этой статье описывается система, способная полуавтоматически заполнять шаблон XML из бесплатных текстов в клинической области (практические рекомендации). Шаблон XML содержит семантическую информацию, не зашифрованную в тексте (пары условий и действий/рекомендаций). Поэтому необходимо рассчитать точный диапазон условий над текстовыми последовательностями, выражающими необходимые действия. В этой статье мы представим правила, разработанные для этой задачи. Мы показываем, что система дает хорошие результаты при применении к анализу принципов французской практики. ',\n",
              " 'authors': 'Amanda Bouffier (LIPN)',\n",
              " 'authors_parsed': [['Bouffier', 'Amanda', '', 'LIPN']],\n",
              " 'categories': 'cs.AI',\n",
              " 'comments': None,\n",
              " 'doi': '10.1007/978-3-540-76298-0_69',\n",
              " 'id': '0709.4015',\n",
              " 'journal-ref': \"Dans International Semantic Web Conference Proceedings -\\n  International Semantic Web Conference-Doctoral Consortium, Busan : Cor\\\\'ee,\\n  R\\\\'epublique de (2007)\",\n",
              " 'license': None,\n",
              " 'report-no': None,\n",
              " 'submitter': 'Amanda Bouffier',\n",
              " 'title': 'От текстов к структурированным документам: руководящие принципы здравоохранения',\n",
              " 'update_date': '2015-05-13',\n",
              " 'versions': [{'created': 'Tue, 25 Sep 2007 19:26:08 GMT', 'version': 'v1'}]}"
            ]
          },
          "metadata": {
            "tags": []
          },
          "execution_count": 6
        }
      ]
    },
    {
      "cell_type": "markdown",
      "metadata": {
        "id": "LIuqnp9Ds0oN"
      },
      "source": [
        "# Парсинг сайта с переводом"
      ]
    },
    {
      "cell_type": "code",
      "metadata": {
        "colab": {
          "base_uri": "https://localhost:8080/",
          "height": 171
        },
        "id": "BCCAIgD6rQ4w",
        "outputId": "d09a7285-70c4-4839-faa8-294033200f8a"
      },
      "source": [
        "url = 'https://www.yogajournal.com/lifestyle/balance/stress-balance/how-to-manage-news-trauma/'\n",
        "html_page = getPageHtml(url)\n",
        "html_page"
      ],
      "execution_count": null,
      "outputs": [
        {
          "output_type": "execute_result",
          "data": {
            "application/vnd.google.colaboratory.intrinsic+json": {
              "type": "string"
            },
            "text/plain": [
              "'<!DOCTYPE html>\\n<html class=>\\n  <head>\\n  <meta charset=\"UTF-8\" />\\n  <meta http-equiv=\"Content-Type\" content=\"text/html; charset=UTF-8\" />\\n  <meta http-equiv=\"X-UA-Compatible\" content=\"IE=edge\"><script type=\"text/javascript\">(window.NREUM||(NREUM={})).loader_config={licenseKey:\"NRJS-48b9ed1c0b517b29335\",applicationID:\"882436314\"};window.NREUM||(NREUM={}),__nr_require=function(e,t,n){function r(n){if(!t[n]){var i=t[n]={exports:{}};e[n][0].call(i.exports,function(t){var i=e[n][1][t];return r(i||t)},i,i.exports)}return t[n].exports}if(\"function\"==typeof __nr_require)return __nr_require;for(var i=0;i<n.length;i++)r(n[i]);return r}({1:[function(e,t,n){function r(){}function i(e,t,n){return function(){return o(e,[u.now()].concat(c(arguments)),t?null:this,n),t?void 0:this}}var o=e(\"handle\"),a=e(7),c=e(8),f=e(\"ee\").get(\"tracer\"),u=e(\"loader\"),s=NREUM;\"undefined\"==typeof window.newrelic&&(newrelic=s);var d=[\"setPageViewName\",\"setCustomAttribute\",\"setErrorHandler\",\"finished\",\"addToTrace\",\"inlineHit\",\"addRelease\"],p=\"api-\",l=p+\"ixn-\";a(d,function(e,t){s[t]=i(p+t,!0,\"api\")}),s.addPageAction=i(p+\"addPageAction\",!0),s.setCurrentRouteName=i(p+\"routeName\",!0),t.exports=newrelic,s.interaction=function(){return(new r).get()};var m=r.prototype={createTracer:function(e,t){var n={},r=this,i=\"function\"==typeof t;return o(l+\"tracer\",[u.now(),e,n],r),function(){if(f.emit((i?\"\":\"no-\")+\"fn-start\",[u.now(),r,i],n),i)try{return t.apply(this,arguments)}catch(e){throw f.emit(\"fn-err\",[arguments,this,e],n),e}finally{f.emit(\"fn-end\",[u.now()],n)}}}};a(\"actionText,setName,setAttribute,save,ignore,onEnd,getContext,end,get\".split(\",\"),function(e,t){m[t]=i(l+t)}),newrelic.noticeError=function(e,t){\"string\"==typeof e&&(e=new Error(e)),o(\"err\",[e,u.now(),!1,t])}},{}],2:[function(e,t,n){function r(){return c.exists&&performance.now?Math.round(performance.now()):(o=Math.max((new Date).getTime(),o))-a}function i(){return o}var o=(new Date).getTime(),a=o,c=e(9);t.exports=r,t.exports.offset=a,t.exports.getLastTimestamp=i},{}],3:[function(e,t,n){function r(e){return!(!e||!e.protocol||\"file:\"===e.protocol)}t.exports=r},{}],4:[function(e,t,n){function r(e,t){var n=e.getEntries();n.forEach(function(e){\"first-paint\"===e.name?d(\"timing\",[\"fp\",Math.floor(e.startTime)]):\"first-contentful-paint\"===e.name&&d(\"timing\",[\"fcp\",Math.floor(e.startTime)])})}function i(e,t){var n=e.getEntries();n.length>0&&d(\"lcp\",[n[n.length-1]])}function o(e){e.getEntries().forEach(function(e){e.hadRecentInput||d(\"cls\",[e])})}function a(e){if(e instanceof m&&!g){var t=Math.round(e.timeStamp),n={type:e.type};t<=p.now()?n.fid=p.now()-t:t>p.offset&&t<=Date.now()?(t-=p.offset,n.fid=p.now()-t):t=p.now(),g=!0,d(\"timing\",[\"fi\",t,n])}}function c(e){d(\"pageHide\",[p.now(),e])}if(!(\"init\"in NREUM&&\"page_view_timing\"in NREUM.init&&\"enabled\"in NREUM.init.page_view_timing&&NREUM.init.page_view_timing.enabled===!1)){var f,u,s,d=e(\"handle\"),p=e(\"loader\"),l=e(6),m=NREUM.o.EV;if(\"PerformanceObserver\"in window&&\"function\"==typeof window.PerformanceObserver){f=new PerformanceObserver(r);try{f.observe({entryTypes:[\"paint\"]})}catch(v){}u=new PerformanceObserver(i);try{u.observe({entryTypes:[\"largest-contentful-paint\"]})}catch(v){}s=new PerformanceObserver(o);try{s.observe({type:\"layout-shift\",buffered:!0})}catch(v){}}if(\"addEventListener\"in document){var g=!1,w=[\"click\",\"keydown\",\"mousedown\",\"pointerdown\",\"touchstart\"];w.forEach(function(e){document.addEventListener(e,a,!1)})}l(c)}},{}],5:[function(e,t,n){function r(e,t){if(!i)return!1;if(e!==i)return!1;if(!t)return!0;if(!o)return!1;for(var n=o.split(\".\"),r=t.split(\".\"),a=0;a<r.length;a++)if(r[a]!==n[a])return!1;return!0}var i=null,o=null,a=/Version\\\\/(\\\\S+)\\\\s+Safari/;if(navigator.userAgent){var c=navigator.userAgent,f=c.match(a);f&&c.indexOf(\"Chrome\")===-1&&c.indexOf(\"Chromium\")===-1&&(i=\"Safari\",o=f[1])}t.exports={agent:i,version:o,match:r}},{}],6:[function(e,t,n){function r(e){function t(){e(a&&document[a]?document[a]:document[i]?\"hidden\":\"visible\")}\"addEventListener\"in document&&o&&document.addEventListener(o,t,!1)}t.exports=r;var i,o,a;\"undefined\"!=typeof document.hidden?(i=\"hidden\",o=\"visibilitychange\",a=\"visibilityState\"):\"undefined\"!=typeof document.msHidden?(i=\"msHidden\",o=\"msvisibilitychange\"):\"undefined\"!=typeof document.webkitHidden&&(i=\"webkitHidden\",o=\"webkitvisibilitychange\",a=\"webkitVisibilityState\")},{}],7:[function(e,t,n){function r(e,t){var n=[],r=\"\",o=0;for(r in e)i.call(e,r)&&(n[o]=t(r,e[r]),o+=1);return n}var i=Object.prototype.hasOwnProperty;t.exports=r},{}],8:[function(e,t,n){function r(e,t,n){t||(t=0),\"undefined\"==typeof n&&(n=e?e.length:0);for(var r=-1,i=n-t||0,o=Array(i<0?0:i);++r<i;)o[r]=e[t+r];return o}t.exports=r},{}],9:[function(e,t,n){t.exports={exists:\"undefined\"!=typeof window.performance&&window.performance.timing&&\"undefined\"!=typeof window.performance.timing.navigationStart}},{}],ee:[function(e,t,n){function r(){}function i(e){function t(e){return e&&e instanceof r?e:e?u(e,f,a):a()}function n(n,r,i,o,a){if(a!==!1&&(a=!0),!l.aborted||o){e&&a&&e(n,r,i);for(var c=t(i),f=v(n),u=f.length,s=0;s<u;s++)f[s].apply(c,r);var p=d[h[n]];return p&&p.push([b,n,r,c]),c}}function o(e,t){y[e]=v(e).concat(t)}function m(e,t){var n=y[e];if(n)for(var r=0;r<n.length;r++)n[r]===t&&n.splice(r,1)}function v(e){return y[e]||[]}function g(e){return p[e]=p[e]||i(n)}function w(e,t){s(e,function(e,n){t=t||\"feature\",h[n]=t,t in d||(d[t]=[])})}var y={},h={},b={on:o,addEventListener:o,removeEventListener:m,emit:n,get:g,listeners:v,context:t,buffer:w,abort:c,aborted:!1};return b}function o(e){return u(e,f,a)}function a(){return new r}function c(){(d.api||d.feature)&&(l.aborted=!0,d=l.backlog={})}var f=\"nr@context\",u=e(\"gos\"),s=e(7),d={},p={},l=t.exports=i();t.exports.getOrSetContext=o,l.backlog=d},{}],gos:[function(e,t,n){function r(e,t,n){if(i.call(e,t))return e[t];var r=n();if(Object.defineProperty&&Object.keys)try{return Object.defineProperty(e,t,{value:r,writable:!0,enumerable:!1}),r}catch(o){}return e[t]=r,r}var i=Object.prototype.hasOwnProperty;t.exports=r},{}],handle:[function(e,t,n){function r(e,t,n,r){i.buffer([e],r),i.emit(e,t,n)}var i=e(\"ee\").get(\"handle\");t.exports=r,r.ee=i},{}],id:[function(e,t,n){function r(e){var t=typeof e;return!e||\"object\"!==t&&\"function\"!==t?-1:e===window?0:a(e,o,function(){return i++})}var i=1,o=\"nr@id\",a=e(\"gos\");t.exports=r},{}],loader:[function(e,t,n){function r(){if(!E++){var e=x.info=NREUM.info,t=l.getElementsByTagName(\"script\")[0];if(setTimeout(u.abort,3e4),!(e&&e.licenseKey&&e.applicationID&&t))return u.abort();f(h,function(t,n){e[t]||(e[t]=n)});var n=a();c(\"mark\",[\"onload\",n+x.offset],null,\"api\"),c(\"timing\",[\"load\",n]);var r=l.createElement(\"script\");r.src=\"https://\"+e.agent,t.parentNode.insertBefore(r,t)}}function i(){\"complete\"===l.readyState&&o()}function o(){c(\"mark\",[\"domContent\",a()+x.offset],null,\"api\")}var a=e(2),c=e(\"handle\"),f=e(7),u=e(\"ee\"),s=e(5),d=e(3),p=window,l=p.document,m=\"addEventListener\",v=\"attachEvent\",g=p.XMLHttpRequest,w=g&&g.prototype;if(d(p.location)){NREUM.o={ST:setTimeout,SI:p.setImmediate,CT:clearTimeout,XHR:g,REQ:p.Request,EV:p.Event,PR:p.Promise,MO:p.MutationObserver};var y=\"\"+location,h={beacon:\"bam.nr-data.net\",errorBeacon:\"bam.nr-data.net\",agent:\"js-agent.newrelic.com/nr-1208.min.js\"},b=g&&w&&w[m]&&!/CriOS/.test(navigator.userAgent),x=t.exports={offset:a.getLastTimestamp(),now:a,origin:y,features:{},xhrWrappable:b,userAgent:s};e(1),e(4),l[m]?(l[m](\"DOMContentLoaded\",o,!1),p[m](\"load\",r,!1)):(l[v](\"onreadystatechange\",i),p[v](\"onload\",r)),c(\"mark\",[\"firstbyte\",a.getLastTimestamp()],null,\"api\");var E=0}},{}],\"wrap-function\":[function(e,t,n){function r(e,t){function n(t,n,r,f,u){function nrWrapper(){var o,a,s,p;try{a=this,o=d(arguments),s=\"function\"==typeof r?r(o,a):r||{}}catch(l){i([l,\"\",[o,a,f],s],e)}c(n+\"start\",[o,a,f],s,u);try{return p=t.apply(a,o)}catch(m){throw c(n+\"err\",[o,a,m],s,u),m}finally{c(n+\"end\",[o,a,p],s,u)}}return a(t)?t:(n||(n=\"\"),nrWrapper[p]=t,o(t,nrWrapper,e),nrWrapper)}function r(e,t,r,i,o){r||(r=\"\");var c,f,u,s=\"-\"===r.charAt(0);for(u=0;u<t.length;u++)f=t[u],c=e[f],a(c)||(e[f]=n(c,s?f+r:r,i,f,o))}function c(n,r,o,a){if(!m||t){var c=m;m=!0;try{e.emit(n,r,o,t,a)}catch(f){i([f,n,r,o],e)}m=c}}return e||(e=s),n.inPlace=r,n.flag=p,n}function i(e,t){t||(t=s);try{t.emit(\"internal-error\",e)}catch(n){}}function o(e,t,n){if(Object.defineProperty&&Object.keys)try{var r=Object.keys(e);return r.forEach(function(n){Object.defineProperty(t,n,{get:function(){return e[n]},set:function(t){return e[n]=t,t}})}),t}catch(o){i([o],n)}for(var a in e)l.call(e,a)&&(t[a]=e[a]);return t}function a(e){return!(e&&e instanceof Function&&e.apply&&!e[p])}function c(e,t){var n=t(e);return n[p]=e,o(e,n,s),n}function f(e,t,n){var r=e[t];e[t]=c(r,n)}function u(){for(var e=arguments.length,t=new Array(e),n=0;n<e;++n)t[n]=arguments[n];return t}var s=e(\"ee\"),d=e(8),p=\"nr@original\",l=Object.prototype.hasOwnProperty,m=!1;t.exports=r,t.exports.wrapFunction=c,t.exports.wrapInPlace=f,t.exports.argsToArray=u},{}]},{},[\"loader\"]);</script>\\n  <meta name=\"viewport\" content=\"width=device-width, initial-scale=1.0\">\\n  <link rel=\"pingback\" href=\"https://www.yogajournal.com/xmlrpc.php\" />\\n  <!-- ORDER IS IMPORTANT -->\\n  \\n\\n\\n\\n      <script src=\"https://cdn.cookielaw.org/consent/tcf.stub.js\" type=\"text/javascript\" charset=\"UTF-8\" defer></script>\\n  \\n  <!-- OneTrust Cookies Consent Notice start -->\\n  <script src=\"https://cdn.cookielaw.org/scripttemplates/otSDKStub.js\"  type=\"text/javascript\" charset=\"UTF-8\" data-domain-script=\"ac0b2d62-4969-41ef-9c8d-0e08119d2de3\" defer></script>\\n  <script type=\"text/javascript\">\\n  function OptanonWrapper() { }\\n  </script>\\n  <!-- OneTrust Cookies Consent Notice end  -->\\n\\n\\n\\n\\n  \\n\\t<!-- This site is optimized with the Yoast SEO Premium plugin v15.5 - https://yoast.com/wordpress/plugins/seo/ -->\\n\\t<title>Here&#039;s How to Deal With Trauma from the News Cycle | Yoga Journal</title>\\n\\t<meta name=\"description\" content=\"If you&#039;re experiencing trauma from the news cycle, you’re not alone. Here are seven tips on how to handle (and heal from) the stress.\" />\\n\\t<meta name=\"robots\" content=\"index, follow, max-snippet:-1, max-image-preview:large, max-video-preview:-1\" />\\n\\t<link rel=\"canonical\" href=\"https://www.yogajournal.com/lifestyle/balance/stress-balance/how-to-manage-news-trauma/\" />\\n\\t<meta property=\"og:locale\" content=\"en_US\" />\\n\\t<meta property=\"og:type\" content=\"article\" />\\n\\t<meta property=\"og:title\" content=\"The News Is Traumatizing Us. Here’s How to Break the Cycle\" />\\n\\t<meta property=\"og:description\" content=\"If the relentless stream of news has you in a spiral, you’re not alone. Here are seven tips on how to handle (and heal from) the stress.\" />\\n\\t<meta property=\"og:url\" content=\"https://www.yogajournal.com/lifestyle/balance/stress-balance/how-to-manage-news-trauma/\" />\\n\\t<meta property=\"og:site_name\" content=\"Yoga Journal\" />\\n\\t<meta property=\"article:published_time\" content=\"2021-04-21T21:28:12+00:00\" />\\n\\t<meta property=\"article:modified_time\" content=\"2021-04-22T04:20:19+00:00\" />\\n\\t<meta property=\"og:image\" content=\"https://www.yogajournal.com/wp-content/uploads/2021/04/GettyImages-722237701-scaled.jpg\" />\\n\\t<meta property=\"og:image:width\" content=\"2560\" />\\n\\t<meta property=\"og:image:height\" content=\"1708\" />\\n\\t<meta name=\"twitter:card\" content=\"summary_large_image\" />\\n\\t<meta name=\"twitter:creator\" content=\"@tamjeffries\" />\\n\\t<script type=\"application/ld+json\" class=\"yoast-schema-graph\">{\"@context\":\"https://schema.org\",\"@graph\":[{\"@type\":\"Organization\",\"@id\":\"https://www.yogajournal.com/#organization\",\"name\":\"Yoga Journal\",\"url\":\"https://www.yogajournal.com/\",\"sameAs\":[],\"logo\":{\"@type\":\"ImageObject\",\"@id\":\"https://www.yogajournal.com/#logo\",\"inLanguage\":\"en-US\",\"url\":\"https://www.yogajournal.com/wp-content/uploads/2020/12/yj-logo.png\",\"width\":1400,\"height\":360,\"caption\":\"Yoga Journal\"},\"image\":{\"@id\":\"https://www.yogajournal.com/#logo\"}},{\"@type\":\"WebSite\",\"@id\":\"https://www.yogajournal.com/#website\",\"url\":\"https://www.yogajournal.com/\",\"name\":\"Yoga Journal\",\"description\":\"Yoga Journal is your source for yoga pose instruction, sequences, free video classes, guided meditations, and information on the yogic lifestyle.\",\"publisher\":{\"@id\":\"https://www.yogajournal.com/#organization\"},\"potentialAction\":[{\"@type\":\"SearchAction\",\"target\":\"https://www.yogajournal.com/?s={search_term_string}\",\"query-input\":\"required name=search_term_string\"}],\"inLanguage\":\"en-US\"},{\"@type\":\"ImageObject\",\"@id\":\"https://www.yogajournal.com/lifestyle/balance/stress-balance/how-to-manage-news-trauma/#primaryimage\",\"inLanguage\":\"en-US\",\"url\":\"https://www.yogajournal.com/wp-content/uploads/2021/04/GettyImages-722237701-scaled.jpg\",\"width\":2560,\"height\":1708,\"caption\":\"Black man with beard wearing a red and blue striped shirt, sits cross legged reading a newspaper\"},{\"@type\":\"WebPage\",\"@id\":\"https://www.yogajournal.com/lifestyle/balance/stress-balance/how-to-manage-news-trauma/#webpage\",\"url\":\"https://www.yogajournal.com/lifestyle/balance/stress-balance/how-to-manage-news-trauma/\",\"name\":\"Here\\'s How to Deal With Trauma from the News Cycle | Yoga Journal\",\"isPartOf\":{\"@id\":\"https://www.yogajournal.com/#website\"},\"primaryImageOfPage\":{\"@id\":\"https://www.yogajournal.com/lifestyle/balance/stress-balance/how-to-manage-news-trauma/#primaryimage\"},\"datePublished\":\"2021-04-21T21:28:12+00:00\",\"dateModified\":\"2021-04-22T04:20:19+00:00\",\"description\":\"If you\\'re experiencing trauma from the news cycle, you\\\\u2019re not alone. Here are seven tips on how to handle (and heal from) the stress.\",\"inLanguage\":\"en-US\",\"potentialAction\":[{\"@type\":\"ReadAction\",\"target\":[\"https://www.yogajournal.com/lifestyle/balance/stress-balance/how-to-manage-news-trauma/\"]}]},{\"@type\":\"Article\",\"@id\":\"https://www.yogajournal.com/lifestyle/balance/stress-balance/how-to-manage-news-trauma/#article\",\"isPartOf\":{\"@id\":\"https://www.yogajournal.com/lifestyle/balance/stress-balance/how-to-manage-news-trauma/#webpage\"},\"author\":{\"@id\":\"https://www.yogajournal.com/#/schema/person/2f54f8515be2f4fa480ed1abd9f70a6a\"},\"headline\":\"The News Is Traumatizing. Here\\\\u2019s How to Break the Cycle\",\"datePublished\":\"2021-04-21T21:28:12+00:00\",\"dateModified\":\"2021-04-22T04:20:19+00:00\",\"mainEntityOfPage\":{\"@id\":\"https://www.yogajournal.com/lifestyle/balance/stress-balance/how-to-manage-news-trauma/#webpage\"},\"publisher\":{\"@id\":\"https://www.yogajournal.com/#organization\"},\"image\":{\"@id\":\"https://www.yogajournal.com/lifestyle/balance/stress-balance/how-to-manage-news-trauma/#primaryimage\"},\"articleSection\":\"Stress\",\"inLanguage\":\"en-US\"},{\"@type\":\"Person\",\"@id\":\"https://www.yogajournal.com/#/schema/person/2f54f8515be2f4fa480ed1abd9f70a6a\",\"name\":\"tjeffries\",\"sameAs\":[\"https://twitter.com/tamjeffries\"]}]}</script>\\n\\t<!-- / Yoast SEO Premium plugin. -->\\n\\n\\n<link rel=\\'dns-prefetch\\' href=\\'//www.yogajournal.com\\' />\\n<link rel=\\'dns-prefetch\\' href=\\'//s.w.org\\' />\\n<link rel=\\'stylesheet\\' id=\\'wp-parsely-style-css\\'  href=\\'https://www.yogajournal.com/wp-content/plugins/wp-parsely/wp-parsely.css?ver=1619040966\\' type=\\'text/css\\' media=\\'all\\' />\\n<link rel=\\'stylesheet\\' id=\\'sage/main.css-css\\'  href=\\'https://www.yogajournal.com/wp-content/themes/yogajournal-child/dist/styles/main_2520b05b.css\\' type=\\'text/css\\' media=\\'all\\' />\\n<script type=\\'text/javascript\\' src=\\'https://www.yogajournal.com/wp-includes/js/jquery/jquery.min.js?ver=3.5.1\\' id=\\'jquery-core-js\\'></script>\\n<link rel=\"https://api.w.org/\" href=\"https://www.yogajournal.com/wp-json/\" /><link rel=\"alternate\" type=\"application/json\" href=\"https://www.yogajournal.com/wp-json/wp/v2/posts/59799\" /><link rel=\"EditURI\" type=\"application/rsd+xml\" title=\"RSD\" href=\"https://www.yogajournal.com/xmlrpc.php?rsd\" />\\n<link rel=\"wlwmanifest\" type=\"application/wlwmanifest+xml\" href=\"https://www.yogajournal.com/wp-includes/wlwmanifest.xml\" /> \\n<meta name=\"generator\" content=\"WordPress 5.6.2\" />\\n<link rel=\\'shortlink\\' href=\\'https://www.yogajournal.com/?p=59799\\' />\\n<link rel=\"alternate\" type=\"application/json+oembed\" href=\"https://www.yogajournal.com/wp-json/oembed/1.0/embed?url=https%3A%2F%2Fwww.yogajournal.com%2Flifestyle%2Fbalance%2Fstress-balance%2Fhow-to-manage-news-trauma%2F\" />\\n<link rel=\"alternate\" type=\"text/xml+oembed\" href=\"https://www.yogajournal.com/wp-json/oembed/1.0/embed?url=https%3A%2F%2Fwww.yogajournal.com%2Flifestyle%2Fbalance%2Fstress-balance%2Fhow-to-manage-news-trauma%2F&#038;format=xml\" />\\n\\n<!-- BEGIN wp-parsely Plugin Version 2.3 -->\\n<meta name=\"wp-parsely_version\" id=\"wp-parsely_version\" content=\"2.3\"/>\\n\\t\\t\\t<script type=\"application/ld+json\">\\n\\t\\t{\"@context\":\"http:\\\\/\\\\/schema.org\",\"@type\":\"NewsArticle\",\"mainEntityOfPage\":{\"@type\":\"WebPage\",\"@id\":\"http:\\\\/\\\\/www.yogajournal.com\\\\/lifestyle\\\\/balance\\\\/stress-balance\\\\/how-to-manage-news-trauma\\\\/\"},\"headline\":\"The News Is Traumatizing. Here\\\\u2019s How to Break the Cycle\",\"url\":\"http:\\\\/\\\\/www.yogajournal.com\\\\/lifestyle\\\\/balance\\\\/stress-balance\\\\/how-to-manage-news-trauma\\\\/\",\"thumbnailUrl\":\"https:\\\\/\\\\/www.yogajournal.com\\\\/wp-content\\\\/uploads\\\\/2021\\\\/04\\\\/GettyImages-722237701-scaled.jpg\",\"image\":{\"@type\":\"ImageObject\",\"url\":\"https:\\\\/\\\\/www.yogajournal.com\\\\/wp-content\\\\/uploads\\\\/2021\\\\/04\\\\/GettyImages-722237701-scaled.jpg\"},\"dateCreated\":\"2021-04-21T21:28:12Z\",\"datePublished\":\"2021-04-21T21:28:12Z\",\"dateModified\":\"2021-04-21T21:28:12Z\",\"articleSection\":\"Stress\",\"author\":[{\"@type\":\"Person\",\"name\":\"Afi-Odelia Scruggs\"}],\"publisher\":{\"@type\":\"Organization\",\"name\":\"Yoga Journal\",\"logo\":\"https:\\\\/\\\\/www.yogajournal.com\\\\/wp-content\\\\/uploads\\\\/2020\\\\/12\\\\/cropped-favicon-1.png\"},\"keywords\":[]}\\n\\t\\t</script>\\n\\n\\t\\t\\t<!-- END wp-parsely Plugin Version 2.3 -->\\n<style type=\"text/css\">.recentcomments a{display:inline !important;padding:0 !important;margin:0 !important;}</style><link rel=\"icon\" href=\"https://www.yogajournal.com/wp-content/uploads/2020/12/cropped-favicon-1-32x32.png\" sizes=\"32x32\" />\\n<link rel=\"icon\" href=\"https://www.yogajournal.com/wp-content/uploads/2020/12/cropped-favicon-1-192x192.png\" sizes=\"192x192\" />\\n<link rel=\"apple-touch-icon\" href=\"https://www.yogajournal.com/wp-content/uploads/2020/12/cropped-favicon-1-180x180.png\" />\\n<meta name=\"msapplication-TileImage\" content=\"https://www.yogajournal.com/wp-content/uploads/2020/12/cropped-favicon-1-270x270.png\" />\\n\\n  <!-- global js vars -->\\n<script>\\n    var gpt_ad_vars = {\"id\":\"21732621108\",\"property\":\"yoga_journal\",\"wordcount\":\"350\",\"uam\":\"\",\"hb\":\"\\\\/\\\\/dq8g97q5wsoq7.cloudfront.net\\\\/POM\\\\/yj\\\\/pt_config.js\",\"abv\":\"yj\",\"targets\":{\"env\":\"production\",\"ID\":\"59799\",\"Type\":\"post\",\"Title\":\"The News Is Traumatizing. Here\\\\u2019s How to Break the Cycle\",\"Category\":\"balance\",\"Subcategory\":\"stress-balance\",\"Tag\":\"\",\"ad_cat\":\"\"}};\\n    var analytics_vars = {\"domain\":\"yogajournal\",\"segmentID\":\"7Czv78OEhbtbOtpdK633ijW0HXe2AOVJ\",\"status\":\"publish\"};\\n    var gtm_id = \"GTM-TKGQSD2\";\\n    var jw_id = \"xgtNgD95\";\\n    var jw_membership_id = \"5HDK2QkJ\";\\n    var ad_tag = \"https://pubads.g.doubleclick.net/gampad/ads?iu=/21732621108/yoga_journal/pre-roll-yj&description_url=[placeholder]&tfcd=0&npa=0&sz=400x300%7C640x480&gdfp_req=1&output=vast&unviewed_position_start=1&env=vp&impl=s&correlator=\";\\n    var opt_id = \"OPT-PSFP3D9\";\\n    var pom_dd = {\"env\":\"production\",\"applicationId\":\"e5a429c9-6926-42bc-ac54-c8c79f3e1e2c\",\"clientToken\":\"pub6c00d3924c75205b15bcd9922d69d379\"};\\n  </script></head>\\n  <body class=\"post-template-default single single-post postid-59799 single-format-standard how-to-manage-news-trauma site--yoga-journal site-property--yoga-journal\" data-template=\"base.twig\">\\n    <!-- Google Tag Manager (noscript) -->\\n<noscript><iframe src=\"https://www.googletagmanager.com/ns.html?id=GTM-TKGQSD2\"\\n    height=\"0\" width=\"0\" style=\"display:none;visibility:hidden\"></iframe></noscript>\\n<!-- End Google Tag Manager (noscript) -->\\n    <header class=\"c-main-header c-main-header--fixed \">\\n\\n  <div class=\"l-wrap c-main-header__bottom u-fixed \">\\n    <div class=\"c-main-header__inner\">\\n\\n              <div class=\"c-main-header__toggled-nav\">\\n          \\n<div class=\"c-hamburger-menu u-background-color--primary u-reversed-out\">\\n\\n  <div class=\"l-wrap\">\\n\\n    <div bp=\"container\" class=\"u-position--relative\">\\n\\n      <button class=\"c-hamburger-menu__close o-close o-icon u-icon--m u-path-fill--white js-toggle\" data-remove-class=\"menu-is-active\" data-analytics-event=\"click\" data-analytics-data=\\'{\"name\": \"Element Clicked\", \"props\": {\"domain\": \"<<analytics_vars.domain>>\", \"name\": \"burger\", \"type\": \"burger\"}}\\'><svg xmlns=\"http://www.w3.org/2000/svg\" viewBox=\"0 0 30 30\"><polygon points=\"30 28.349 16.652 15.001 29.999 1.653 28.349 0 15 13.349 1.652 0.001 0 1.652 13.349 15 0.001 28.349 1.652 30 15 16.652 28.348 29.999 30 28.349\"/></svg>\\n</button>\\n\\n      <div bp=\"grid\" class=\"c-hamburger-menu__inner\">\\n\\n        <div bp=\"5@md\">\\n          <a href=\"#\" data-prevent-default class=\"c-large-link js-search-trigger js-toggle\" data-toggled=\".c-main-header\" data-prefix=\"search\" data-analytics-event=\"click\" data-analytics-data=\\'{\"name\": \"Element Clicked\", \"props\": { \"domain\": \"<<analytics_vars.domain>>\", \"name\": \"burger-navigation-search\", \"type\": \"link\"}}\\'><strong>Search</strong> <span class=\"o-icon u-icon--s u-path-fill--white\"><svg xmlns=\"http://www.w3.org/2000/svg\" viewBox=\"0 0 30 30\"><path d=\"M3.8,16.2a9.5,9.5,0,1,1,15.52,2.95h0A9.5,9.5,0,0,1,3.8,16.2Zm16.38,5.94a12.42,12.42,0,1,1,2-2l7.47,7.46a1.4,1.4,0,0,1-.09,2,1.38,1.38,0,0,1-1.89,0Z\" fill-rule=\"evenodd\"/></svg>\\n</span></a>\\n          <a href=\"https://www.yogajournal.com\" data-href-is-logged-in=\"https://www.yogajournal.com?h=y\" class=\"c-large-link\" data-analytics-event=\"click\" data-analytics-data=\\'{\"name\": \"Element Clicked\", \"props\": { \"domain\": \"<<analytics_vars.domain>>\", \"name\": \"burger-navigation-home\", \"type\": \"link\"}}\\'><strong>Home</strong> <span class=\"o-icon u-icon--s u-path-fill--white\"><svg xmlns=\"http://www.w3.org/2000/svg\" viewBox=\"0 0 30 30\"><polygon points=\"7.89 -0.01 6.6 1.24 20.86 15.02 6.59 28.81 7.9 29.99 23.4 15.02 7.89 -0.01\"/></svg>\\n</span></a>\\n        </div>\\n\\n        <div bp=\"3@md offset-7@md\">\\n          <h5 class=\"c-menu__heading\"><span class=\"u-text-transform--upper u-letter-spacing--1\">Sections</span></h5>\\n          <nav class=\"c-menu c-menu--primary\" role=\"navigation\" aria-label=\"Primary Menu\">\\n            <ul class=\"c-menu__list\" role=\"menubar\" aria-label=\"Primary Menu\">\\n\\n              \\n                                  <li class=\"c-menu__menu-item  c-menu__menu-item c-menu__menu-item-type-taxonomy c-menu__menu-item-object-category c-menu__menu-item-52502 c-menu__menu-item-has-children\">\\n                    <a role=\"menuitem\" tabindex=\"0\" class=\"c-menu__link\" href=\"https://www.yogajournal.com/poses/\"><span>Poses</span></a>\\n                  </li>\\n                                  <li class=\"c-menu__menu-item  c-menu__menu-item c-menu__menu-item-type-taxonomy c-menu__menu-item-object-category c-menu__menu-item-52697 c-menu__menu-item-has-children\">\\n                    <a role=\"menuitem\" tabindex=\"-1\" class=\"c-menu__link\" href=\"https://www.yogajournal.com/practice/\"><span>Practice</span></a>\\n                  </li>\\n                                  <li class=\"c-menu__menu-item  c-menu__menu-item c-menu__menu-item-type-taxonomy c-menu__menu-item-object-category c-menu__menu-item-52737 c-menu__menu-item-has-children\">\\n                    <a role=\"menuitem\" tabindex=\"-1\" class=\"c-menu__link\" href=\"https://www.yogajournal.com/yoga-101/\"><span>Yoga 101</span></a>\\n                  </li>\\n                                  <li class=\"c-menu__menu-item  c-menu__menu-item c-menu__menu-item-type-taxonomy c-menu__menu-item-object-category c-menu__menu-item-52769 c-menu__menu-item-has-children\">\\n                    <a role=\"menuitem\" tabindex=\"-1\" class=\"c-menu__link\" href=\"https://www.yogajournal.com/meditation/\"><span>Meditation</span></a>\\n                  </li>\\n                                  <li class=\"c-menu__menu-item  c-menu__menu-item c-menu__menu-item-type-taxonomy c-menu__menu-item-object-category c-menu__current-post-ancestor c-menu__menu-item-52556 c-menu__menu-item-has-children\">\\n                    <a role=\"menuitem\" tabindex=\"-1\" class=\"c-menu__link\" href=\"https://www.yogajournal.com/lifestyle/\"><span>Life</span></a>\\n                  </li>\\n                                  <li class=\"c-menu__menu-item  c-menu__menu-item c-menu__menu-item-type-taxonomy c-menu__menu-item-object-category c-menu__menu-item-52553 c-menu__menu-item-has-children\">\\n                    <a role=\"menuitem\" tabindex=\"-1\" class=\"c-menu__link\" href=\"https://www.yogajournal.com/yoga-videos/\"><span>Video</span></a>\\n                  </li>\\n                                  <li class=\"c-menu__menu-item  c-menu__menu-item c-menu__menu-item-type-taxonomy c-menu__menu-item-object-category c-menu__menu-item-52528 c-menu__menu-item-has-children\">\\n                    <a role=\"menuitem\" tabindex=\"-1\" class=\"c-menu__link\" href=\"https://www.yogajournal.com/teach/\"><span>Teach</span></a>\\n                  </li>\\n                \\n                          </ul>\\n          </nav>\\n        </div>\\n\\n                  <div bp=\"3@md offset-10@md\">\\n\\n                          <h5 class=\"c-menu__heading\"><span class=\"u-text-transform--upper u-letter-spacing--1\">Topics</span></h5>\\n              <nav class=\"c-menu c-menu--topics\" role=\"navigation\" aria-label=\"Topics Menu\">\\n                <ul class=\"c-menu__list\" role=\"navigation\" aria-label=\"Topics Menu\">\\n                                      <li class=\"c-menu__menu-item\">\\n      <a role=\"menuitem\" tabindex=\"0\" class=\"c-menu__link\" href=\"https://www.yogajournal.com/category/balance\" data-analytics-event=\"click\" data-analytics-data=\\'{\"name\": \"Element Clicked\", \"props\": {\"destination_url\": \"https://www.yogajournal.com/category/balance\", \"domain\": \"<<analytics_vars.domain>>\", \"name\": \"menu-topic\", \"type\": \"link\" }}\\'>\\n      <span>Balance</span>\\n    </a>\\n  </li>\\n                                      <li class=\"c-menu__menu-item\">\\n      <a role=\"menuitem\" tabindex=\"0\" class=\"c-menu__link\" href=\"https://www.yogajournal.com/tag/must-try-yoga-sequences\" data-analytics-event=\"click\" data-analytics-data=\\'{\"name\": \"Element Clicked\", \"props\": {\"destination_url\": \"https://www.yogajournal.com/tag/must-try-yoga-sequences\", \"domain\": \"<<analytics_vars.domain>>\", \"name\": \"menu-topic\", \"type\": \"link\" }}\\'><span>Must-Try Yoga Sequences</span></a>\\n  </li>\\n                                      <li class=\"c-menu__menu-item\">\\n      <a role=\"menuitem\" tabindex=\"0\" class=\"c-menu__link\" href=\"https://www.yogajournal.com/category/poses\" data-analytics-event=\"click\" data-analytics-data=\\'{\"name\": \"Element Clicked\", \"props\": {\"destination_url\": \"https://www.yogajournal.com/category/poses\", \"domain\": \"<<analytics_vars.domain>>\", \"name\": \"menu-topic\", \"type\": \"link\" }}\\'>\\n      <span>Yoga Poses</span>\\n    </a>\\n  </li>\\n                                  </ul>\\n              </nav>\\n            \\n            <h5 class=\"c-menu__heading\"><span class=\"u-text-transform--upper u-letter-spacing--1\">Brands</span></h5>\\n            <nav class=\"c-menu c-menu--secondary\" role=\"navigation\" aria-label=\"Publications Menu\">\\n              <ul class=\"c-menu__list\" role=\"menubar\" aria-label=\"Publications Menu\">\\n                                  <li class=\"c-menu__menu-item\"><a role=\"menuitem\" tabindex=\"0\" target=\"\" class=\"c-menu__link\" href=\"https://www.betternutrition.com/\"><span>Better Nutrition</span></a></li>\\n                                  <li class=\"c-menu__menu-item\"><a role=\"menuitem\" tabindex=\"0\" target=\"\" class=\"c-menu__link\" href=\"https://www.cleaneatingmag.com/\"><span>Clean Eating</span></a></li>\\n                                  <li class=\"c-menu__menu-item\"><a role=\"menuitem\" tabindex=\"0\" target=\"\" class=\"c-menu__link\" href=\"https://www.oxygenmag.com/\"><span>Oxygen</span></a></li>\\n                                  <li class=\"c-menu__menu-item\"><a role=\"menuitem\" tabindex=\"0\" target=\"\" class=\"c-menu__link\" href=\"https://www.podiumrunner.com/\"><span>Podium Runner</span></a></li>\\n                                  <li class=\"c-menu__menu-item\"><a role=\"menuitem\" tabindex=\"0\" target=\"\" class=\"c-menu__link\" href=\"https://www.triathlete.com/\"><span>Triathlete</span></a></li>\\n                                  <li class=\"c-menu__menu-item\"><a role=\"menuitem\" tabindex=\"0\" target=\"\" class=\"c-menu__link\" href=\"https://www.vegetariantimes.com/\"><span>Vegetarian Times</span></a></li>\\n                                  <li class=\"c-menu__menu-item\"><a role=\"menuitem\" tabindex=\"0\" target=\"\" class=\"c-menu__link\" href=\"https://www.velonews.com/\"><span>VeloNews</span></a></li>\\n                                  <li class=\"c-menu__menu-item\"><a role=\"menuitem\" tabindex=\"0\" target=\"\" class=\"c-menu__link\" href=\"https://www.womensrunning.com/\"><span>Women\\'s Running</span></a></li>\\n                              </ul>\\n            </nav>\\n\\n          </div>\\n        \\n      </div>\\n\\n      <a href=\"https://www.yogajournal.com\" class=\"c-hamburger-menu__logo u-path-fill--white\">\\n                  <svg xmlns=\"http://www.w3.org/2000/svg\" viewBox=\"0 0 1092.15 202.25\"><path d=\"M122,49.11h5.35a1.79,1.79,0,0,0,0-3.57H84.18a1.79,1.79,0,0,0,0,3.57H95.32a8.74,8.74,0,0,1,8,12.06l-25,62.06a2.17,2.17,0,0,1-4,0L42.76,62.51a9.17,9.17,0,0,1,8-13.4h6.68a1.79,1.79,0,0,0,0-3.57H1.78a1.79,1.79,0,0,0,0,3.57H3.12a16.11,16.11,0,0,1,13.8,8.49l45.44,90.18c1.78,3.13,1.33,7.14-.45,10.27-13.36,21-15.14,20.54-34.29,23.22-7.58.89-8.91,11.6-3.12,16.51,4.9,4.47,11.13,3.13,14.7.45,12-8.93,26.27-28.57,35.18-50.45l38.31-92.42A9.84,9.84,0,0,1,122,49.11Z\" fill=\"#fff\"/><path d=\"M172.37,43.31c-34.74,0-54.34,21.88-54.34,50.9,0,31.25,19.6,51.34,53,51.34,31.18,0,52.55-21,52.55-50.9C223.59,67.42,204,43.31,172.37,43.31Zm1.78,96c-26.72,0-37-26.79-37-48.67,0-26.34,10.24-41.52,31.17-41.52,19.16,0,36.08,17,36.08,47.33C204.44,121.44,196.43,139.3,174.15,139.3Z\" fill=\"#fff\"/><path d=\"M285.51,132.6c-16.48,0-27.16-1.34-31.17-4.46-3.12-2.24-3.57-6.25-1.34-10.27s4.9-5.81,7.12-5.81c1.78,0,8.91,1.79,15.59,1.79,25.84,0,39.2-18.31,39.2-36.61A69.74,69.74,0,0,0,314,66.52c-.89-3.57-1.78-5.8,0-5.8,4.9,0,17.37-7.59,17.37-14.73,0-4-4-8.93-9.8-8.93-9.35,0-9.8,22.32-16,16.52a42.08,42.08,0,0,0-27.17-10.27c-24.94,0-41,12.95-41,36.61a33.5,33.5,0,0,0,13.81,27.23c3.12,2.23,2.67,4.47-2.23,7.59-5.79,3.57-9.8,9.38-9.8,15.18,0,9.82,12,13,12,16.07,0,3.58-22.72,4-22.72,28.58,0,15.62,12.92,27.68,47.66,27.68,35.19,0,52.11-12.95,52.11-37.95C328.72,145.55,313.58,132.6,285.51,132.6Zm-8-83.49c11.59,0,18.27,10.72,18.27,30.36,0,16.52-3.57,28.13-19.16,28.13-13.36,0-18.25-12.5-18.25-28.13C257.9,58.49,264.13,49.11,277.49,49.11Zm0,146.89c-21.82,0-31.17-8.48-31.17-24.56,0-17.41,12.47-24.11,30.73-24.11,24.5,0,38.3,6.25,38.3,21.88C315.35,191.09,297.09,196,277.49,196Z\" fill=\"#fff\"/><path d=\"M432.49,133.05c0-4.91-7.57,3.12-14.25,3.12s-7.57-3.57-7.57-7.59v-63c0-14.29-12.92-21.88-30.74-21.88-26.27,0-39.64,9.83-39.64,21.43,0,5.36,5.35,8.49,9.36,8.49,10.69,0,5.79-24.11,27.16-24.11,11.14,0,14.26,5.36,14.26,15.62V80.36c0,3.58-.89,4.91-4,5.81-6.24,1.78-55.68.89-55.68,36.16,0,10.72,8.47,22.77,26.28,22.77,28.51,0,32.07-15.63,33-15.63.45,0,.89.45.89,3.13,0,7.14,6.24,12.05,15.6,12.05C421.8,143.76,432.49,138,432.49,133.05ZM392,111.62c0,13.84-7.13,23.21-26.73,23.21-8,0-12.91-4.91-12.91-15.62,0-23.22,24.05-26.35,34.74-27.68A4.33,4.33,0,0,1,392,96Z\" fill=\"#fff\"/><path d=\"M583,43.31c-34.74,0-54.35,21.88-54.35,50.9,0,31.25,19.61,51.34,53,51.34,31.18,0,52.56-21,52.56-50.9C634.26,67.42,614.66,43.31,583,43.31Zm1.78,96c-26.72,0-37-26.79-37-48.67,0-26.34,10.25-41.52,31.18-41.52,19.15,0,36.08,17,36.08,47.33C615.11,121.44,607.09,139.3,584.82,139.3Z\" fill=\"#fff\"/><path d=\"M828.9,48.22c0-4-6.68-4.92-11.58-4.92-20.93,0-28.51,28.58-28.51,15.63V45.09a4,4,0,0,0-4-4c-2.22,0-12.46,4-27.16,4a1.79,1.79,0,1,0,0,3.57h5.79c4,0,6.23,2.23,6.23,6.7v75.9a7,7,0,0,1-7.12,7.14h-4.9a1.79,1.79,0,1,0,0,3.57h43.2a1.79,1.79,0,0,0,0-3.57h-5.35a7,7,0,0,1-7.12-7.14V92c0-19.2,8.91-34.83,17.37-34.83,7.57,0,11.58,7.59,17.82,7.59C827.57,64.29,828.9,53.57,828.9,48.22Z\" fill=\"#fff\"/><path d=\"M502.42,29a12.5,12.5,0,1,0-12.48-12.5C490.39,23.22,495.74,29,502.42,29Z\" fill=\"#fff\"/><path d=\"M1089.93,138.4h-5.35a7,7,0,0,1-7.13-7.14V4a4,4,0,0,0-4-4c-2.22,0-12.47,4-27.17,4a1.91,1.91,0,0,0-1.78,1.78,1.92,1.92,0,0,0,1.78,1.79h5.79c4,0,6.24,2.23,6.24,6.7v113.4c0,6.25-5.79,10.27-12,10.27-7.13,0-12-4.91-12-10.27V65.18c0-14.28-12.92-21.87-30.74-21.87-26.27,0-39.64,9.82-39.64,21.43,0,5.35,5.35,8.48,9.36,8.48,10.69,0,5.79-24.11,27.17-24.11,11.13,0,14.25,5.36,14.25,15.63V79.92c0,3.57-.89,4.91-4,5.8-6.24,1.79-55.68.89-55.68,36.16,0,10.72,8.47,22.77,26.29,22.77,28.5,0,32.06-15.62,33-15.62.45,0,.9.44.9,3.12,0,7.15,6.23,12.06,15.59,12.06,8.45,0,20.93-2.23,29.39-2.23h30.29a1.92,1.92,0,0,0,1.78-1.79C1092.15,139.3,1090.81,138.4,1089.93,138.4Zm-75.28-26.78c0,13.84-7.13,23.21-26.73,23.21-8,0-12.91-4.91-12.91-15.62,0-23.22,24-26.35,34.74-27.69a4.34,4.34,0,0,1,4.9,4.47Z\" fill=\"#fff\"/><path d=\"M512.23,45.54a4,4,0,0,0-4-4c-2.23,0-12.48,4-27.18,4a1.79,1.79,0,0,0,0,3.57h5.79c4,0,6.24,2.23,6.24,6.7V172.33c0,20.1-4,24.11-12,24.11-10.69,0-12.91-12.5-16.47-17.85s-12.48,0-12.48,7.14c0,7.59,13.81,14.73,28.51,14.73,20,0,31.62-11.61,31.62-29.91Z\" fill=\"#fff\"/><path d=\"M949.63,138h-5.35a7.05,7.05,0,0,1-7.13-7.15V75c-.44-25.9-18.25-32.15-33.85-32.15s-29.84,11.61-32.06,17.41V44.65a4,4,0,0,0-4-4c-2.23,0-12.48,4-27.18,4a1.79,1.79,0,0,0,0,3.57h5.8c4,0,6.23,2.23,6.23,6.69v75.9A7.05,7.05,0,0,1,845,138h-4.9a1.79,1.79,0,0,0,0,3.57h43.21a1.79,1.79,0,0,0,0-3.57h-5.34a7.05,7.05,0,0,1-7.13-7.15V66.52c.45-.89,1.34-1.34,2.67-2.23,3.57-2.23,12.48-8,25.39-8,14.25,0,18.71,7.59,19.15,20.54.45,13.4.45,45.54,0,54.92a7,7,0,0,1-7.12,7.14H906a1.79,1.79,0,0,0,0,3.57h43.2a1.91,1.91,0,0,0,1.78-1.78C951,139.74,950.52,138,949.63,138Z\" fill=\"#fff\"/><path d=\"M749.19,138.4c-1.79,0-4.46-.45-5.8-.45-4,0-6.23-2.23-6.23-6.69V45.09a4,4,0,0,0-4-4c-2.23,0-12.47,4-27.17,4a1.79,1.79,0,0,0,0,3.57h5.79c4,0,6.24,2.23,6.24,6.7v65.18c-.45,1.79-1.78,3.13-4.9,4.91-3.57,2.24-11.58,7.59-24.06,7.59-13.8,0-18.7-7.59-18.7-24.55V45.09a4,4,0,0,0-4-4c-2.23,0-12.47,4-27.17,4a1.79,1.79,0,0,0,0,3.57H645c4,0,6.23,2.23,6.23,6.7v56.7c0,27.23,17.82,32.14,32.07,32.14,21.83,0,32.52-16.07,34.3-16.07.89,0,.89,2.68.89,6.7v6.25a4,4,0,0,0,4,4c2.23,0,12.47-4,27.17-4a1.92,1.92,0,0,0,1.78-1.79A3.4,3.4,0,0,0,749.19,138.4Z\" fill=\"#fff\"/></svg>\\n              </a>\\n\\n    </div>\\n  </div>\\n</div>\\n        </div>\\n      \\n              <div class=\"c-main-header__search\">\\n          <div class=\"c-search-overlay\">\\n  <div class=\"l-wrap\">\\n    <div bp=\"container\" class=\"u-position--relative\">\\n    \\t<button class=\"c-search-overlay__close o-close o-icon u-icon--m js-toggle\" data-remove-class=\"search-is-active\"><svg xmlns=\"http://www.w3.org/2000/svg\" viewBox=\"0 0 30 30\"><polygon points=\"30 28.349 16.652 15.001 29.999 1.653 28.349 0 15 13.349 1.652 0.001 0 1.652 13.349 15 0.001 28.349 1.652 30 15 16.652 28.348 29.999 30 28.349\"/></svg>\\n</button>\\n      <form class=\"c-search-form\" action=\"https://www.yogajournal.com\" method=\"get\">\\n\\t<input class=\"o-input o-input--big c-search-form__input\" type=\"search\" name=\"s\" placeholder=\"Search\" value=\"\">\\n\\t<button class=\"c-search-form__submit u-path-fill--primary\"><svg xmlns=\"http://www.w3.org/2000/svg\" viewBox=\"0 0 30 30\"><path d=\"M3.8,16.2a9.5,9.5,0,1,1,15.52,2.95h0A9.5,9.5,0,0,1,3.8,16.2Zm16.38,5.94a12.42,12.42,0,1,1,2-2l7.47,7.46a1.4,1.4,0,0,1-.09,2,1.38,1.38,0,0,1-1.89,0Z\" fill-rule=\"evenodd\"/></svg>\\n</button>\\n</form>\\n          </div>\\n  </div>\\n</div>\\n        </div>\\n      \\n      \\n        <div class=\"c-main-header__utility c-main-header__utility--left\">\\n          <div class=\"c-main-header__toggle\">\\n            <button class=\"o-menu-toggle js-toggle\" aria-label=\"Menu\" data-toggled=\".c-main-header\" data-prefix=\"menu\" aria-expanded=\"false\">\\n  <span class=\"o-menu-toggle__line\"></span>\\n  <span class=\"o-menu-toggle__line\"></span>\\n  <span class=\"o-menu-toggle__line\"></span>\\n</button>\\n          </div>\\n          <button class=\"c-main-header__search-trigger o-icon u-icon--m js-toggle\" data-toggled=\".c-main-header\" data-prefix=\"search\" data-analytics-event=\"click\" data-analytics-data=\\'{\"name\": \"Element Clicked\", \"props\": { \"domain\": \"<<analytics_vars.domain>>\", \"name\": \"navigation-search\", \"type\": \"button\"}}\\'><svg xmlns=\"http://www.w3.org/2000/svg\" viewBox=\"0 0 30 30\"><path d=\"M3.8,16.2a9.5,9.5,0,1,1,15.52,2.95h0A9.5,9.5,0,0,1,3.8,16.2Zm16.38,5.94a12.42,12.42,0,1,1,2-2l7.47,7.46a1.4,1.4,0,0,1-.09,2,1.38,1.38,0,0,1-1.89,0Z\" fill-rule=\"evenodd\"/></svg>\\n</button>\\n        </div>\\n\\n        <div class=\"o-logo\" role=\"banner\">\\n\\n  \\n  <a class=\"o-logo__link\" href=\"https://www.yogajournal.com\" data-href-is-logged-in=\"https://www.yogajournal.com?h=y\" rel=\"home\">Yoga Journal</a>\\n</div>\\n\\n\\n        <div class=\"c-main-header__utility\">\\n          <img data-cookie=\"santa-hat\" style=\"display: none;\" data-expire=\"100\" class=\"c-ny-hat c-santa-hat js-has-cookie\" src=\"/wp-content/themes/pom-sites/resources/assets/images/ny-hat.svg\" alt=\"New Years Hat - Happy Holidays!\">\\n          <button class=\"c-main-header__app-trigger\">\\n            <a class=\"o-pill o-pill--fill\" data-analytics-event=\"click\" href=\"#_active-pass\" data-analytics-data=\\'{\"name\": \"Element Clicked\", \"props\": {\"domain\": \"<<analytics_vars.domain>>\", \"name\": \"join-nav\", \"type\": \"button\"}}\\'>Join</a>\\n            <a class=\"u-font--xs u-display--inline-block u-text-transform--upper u-space--half--left u-letter-spacing--1 u-color--black\" data-analytics-event=\"click\" href=\"#_login\" data-analytics-data=\\'{\"name\": \"Element Clicked\", \"props\": {\"domain\": \"<<analytics_vars.domain>>\", \"name\": \"sign-in-nav\", \"type\": \"button\"}}\\'>Sign In</a>\\n            <span class=\"o-icon u-icon--m js-toggle js-toggle--app-menu\" data-prevent-default data-toggled=\"body, .c-main-header__app-trigger\" data-prefix=\"app-menu\" data-analytics-event=\"click\" data-analytics-data=\\'{\"name\": \"Element Clicked\", \"props\": {\"domain\": \"<<analytics_vars.domain>>\", \"name\": \"user-menu\", \"type\": \"button\"}}\\'>\\n<svg xmlns=\"http://www.w3.org/2000/svg\" viewBox=\"0 0 1000 1000\">\\n<g><path d=\"M500,10C228.8,10,10,228.8,10,500c0,271.3,218.8,490,490,490c271.3,0,490-218.8,490-490C990,228.8,771.3,10,500,10z M804.5,822C794,657.5,619,613.8,619,613.8s106.8-71.8,68.3-217c-19.3-75.3-91-131.3-189-131.3c-98,0-169.7,56-189,131.3c-38.5,145.2,68.2,217,68.2,217S202.5,652.3,192,822C109.7,739.7,57.3,626,57.3,500C57.3,255,255,57.3,500,57.3C745,57.3,942.8,255,942.8,500C942.8,626,890.2,739.7,804.5,822z\"/></g>\\n</svg></span>\\n          </button>\\n        </div>\\n\\n      \\n    </div>\\n  </div>\\n\\n      <div class=\"c-main-header__app\">\\n        \\n<div id=\"root\" class=\"c-app\" data-site-key=\"MZGxxz7O.chm3Zj633OdZJsLrVLHpIuWAJcb7RFUi\" data-site-name=\"Yoga Journal\"></div>\\n    </div>\\n  \\n            <div class=\"c-main-header__main-nav\">\\n        <nav class=\"c-menu c-inline-menu o-scroll-nav\" role=\"navigation\" aria-label=\"Main Menu\">\\n  <ul class=\"c-menu__list o-scroll-nav__links\" role=\"menubar\" aria-label=\"Main Menu\">\\n\\n    \\n              <li class=\"c-menu__menu-item  c-menu__menu-item c-menu__menu-item-type-taxonomy c-menu__menu-item-object-category c-menu__menu-item-52502 c-menu__menu-item-has-children\">\\n          <a role=\"menuitem\" tabindex=\"0\" class=\"c-menu__link\" href=\"https://www.yogajournal.com/poses/\" data-analytics-event=\"click\" data-analytics-data=\\'{\"name\": \"Element Clicked\", \"props\": {\"destination_url\": \"https://www.yogajournal.com/poses/\", \"domain\": \"<<analytics_vars.domain>>\", \"name\": \"main-navigation\", \"type\": \"link\"}}\\'><span>Poses</span></a>\\n        </li>\\n              <li class=\"c-menu__menu-item  c-menu__menu-item c-menu__menu-item-type-taxonomy c-menu__menu-item-object-category c-menu__menu-item-52697 c-menu__menu-item-has-children\">\\n          <a role=\"menuitem\" tabindex=\"-1\" class=\"c-menu__link\" href=\"https://www.yogajournal.com/practice/\" data-analytics-event=\"click\" data-analytics-data=\\'{\"name\": \"Element Clicked\", \"props\": {\"destination_url\": \"https://www.yogajournal.com/practice/\", \"domain\": \"<<analytics_vars.domain>>\", \"name\": \"main-navigation\", \"type\": \"link\"}}\\'><span>Practice</span></a>\\n        </li>\\n              <li class=\"c-menu__menu-item  c-menu__menu-item c-menu__menu-item-type-taxonomy c-menu__menu-item-object-category c-menu__menu-item-52737 c-menu__menu-item-has-children\">\\n          <a role=\"menuitem\" tabindex=\"-1\" class=\"c-menu__link\" href=\"https://www.yogajournal.com/yoga-101/\" data-analytics-event=\"click\" data-analytics-data=\\'{\"name\": \"Element Clicked\", \"props\": {\"destination_url\": \"https://www.yogajournal.com/yoga-101/\", \"domain\": \"<<analytics_vars.domain>>\", \"name\": \"main-navigation\", \"type\": \"link\"}}\\'><span>Yoga 101</span></a>\\n        </li>\\n              <li class=\"c-menu__menu-item  c-menu__menu-item c-menu__menu-item-type-taxonomy c-menu__menu-item-object-category c-menu__menu-item-52769 c-menu__menu-item-has-children\">\\n          <a role=\"menuitem\" tabindex=\"-1\" class=\"c-menu__link\" href=\"https://www.yogajournal.com/meditation/\" data-analytics-event=\"click\" data-analytics-data=\\'{\"name\": \"Element Clicked\", \"props\": {\"destination_url\": \"https://www.yogajournal.com/meditation/\", \"domain\": \"<<analytics_vars.domain>>\", \"name\": \"main-navigation\", \"type\": \"link\"}}\\'><span>Meditation</span></a>\\n        </li>\\n              <li class=\"c-menu__menu-item  c-menu__menu-item c-menu__menu-item-type-taxonomy c-menu__menu-item-object-category c-menu__current-post-ancestor c-menu__menu-item-52556 c-menu__menu-item-has-children\">\\n          <a role=\"menuitem\" tabindex=\"-1\" class=\"c-menu__link\" href=\"https://www.yogajournal.com/lifestyle/\" data-analytics-event=\"click\" data-analytics-data=\\'{\"name\": \"Element Clicked\", \"props\": {\"destination_url\": \"https://www.yogajournal.com/lifestyle/\", \"domain\": \"<<analytics_vars.domain>>\", \"name\": \"main-navigation\", \"type\": \"link\"}}\\'><span>Life</span></a>\\n        </li>\\n              <li class=\"c-menu__menu-item  c-menu__menu-item c-menu__menu-item-type-taxonomy c-menu__menu-item-object-category c-menu__menu-item-52553 c-menu__menu-item-has-children\">\\n          <a role=\"menuitem\" tabindex=\"-1\" class=\"c-menu__link\" href=\"https://www.yogajournal.com/yoga-videos/\" data-analytics-event=\"click\" data-analytics-data=\\'{\"name\": \"Element Clicked\", \"props\": {\"destination_url\": \"https://www.yogajournal.com/yoga-videos/\", \"domain\": \"<<analytics_vars.domain>>\", \"name\": \"main-navigation\", \"type\": \"link\"}}\\'><span>Video</span></a>\\n        </li>\\n              <li class=\"c-menu__menu-item  c-menu__menu-item c-menu__menu-item-type-taxonomy c-menu__menu-item-object-category c-menu__menu-item-52528 c-menu__menu-item-has-children\">\\n          <a role=\"menuitem\" tabindex=\"-1\" class=\"c-menu__link\" href=\"https://www.yogajournal.com/teach/\" data-analytics-event=\"click\" data-analytics-data=\\'{\"name\": \"Element Clicked\", \"props\": {\"destination_url\": \"https://www.yogajournal.com/teach/\", \"domain\": \"<<analytics_vars.domain>>\", \"name\": \"main-navigation\", \"type\": \"link\"}}\\'><span>Teach</span></a>\\n        </li>\\n      \\n    \\n  </ul>\\n</nav>\\n      </div>\\n      \\n  \\n</header>\\n    <main class=\"l-main\" role=\"document\">\\n              <div class=\"l-wrap \">\\n        \\t\\t<article class=\"l-container l-article l-article--post u-spacing--triple\" data-uuid=\"9f159654c006a27e9b00ccc9106ddb0e\" data-post-analytics-data=\"{&quot;authors&quot;:[&quot;Afi-Odelia Scruggs&quot;],&quot;categories&quot;:[&quot;stress-balance&quot;],&quot;tags&quot;:[],&quot;domain&quot;:&quot;&lt;&lt;analytics_vars.domain&gt;&gt;&quot;,&quot;post_uuid&quot;:&quot;9f159654c006a27e9b00ccc9106ddb0e&quot;,&quot;publish_date&quot;:&quot;April 21, 2021&quot;,&quot;title&quot;:&quot;The News Is Traumatizing. Here\\\\u2019s How to Break the Cycle&quot;,&quot;type&quot;:&quot;post&quot;}\">\\n\\t\\t\\n\\n      \\n\\n<header class=\"c-article-header c-article-header--post u-align--center u-padding--quarter--bottom\">\\n\\n  <div class=\"c-article-lead u-breakout\">\\n                  <picture class=\"lazy\" data-class=\"u-center-block\" data-micromodal-trigger=\"hero-enlarge\" data-alt=\"Black man with beard wearing a red and blue striped shirt, sits cross legged reading a newspaper\" data-iesrc=\"https://www.yogajournal.com/wp-content/uploads/2021/04/GettyImages-722237701-scaled.jpg?crop=535:301&width=1070&enable=upscale\">\\n          <source srcset=\"https://www.yogajournal.com/wp-content/uploads/2021/04/GettyImages-722237701-scaled.jpg?crop=535:301&width=1070&enable=upscale\" media=\"(min-width: 600px)\">\\n                                    <source srcset=\"https://www.yogajournal.com/wp-content/uploads/2021/04/GettyImages-722237701-scaled.jpg?crop=1:1&width=800&enable=upscale\" media=\"(min-width: 0px)\">\\n                              </picture>\\n        <span class=\"o-icon o-icon--enlarge u-icon--m\"><svg xmlns=\"http://www.w3.org/2000/svg\" viewBox=\"0 0 30 30\"><path d=\"M29.39,16.42a1.33,1.33,0,0,0-1.31,0,1.25,1.25,0,0,0-.64,1.11l-.05,8.05-23-23,8.05,0a1.26,1.26,0,0,0,1.11-.63,1.32,1.32,0,0,0,0-1.32A1.28,1.28,0,0,0,12.48,0L1.33.05A1.31,1.31,0,0,0,0,1.34L0,12.48a1.24,1.24,0,0,0,1.26,1.28h0a1.28,1.28,0,0,0,1.29-1.28l0-8,23,23-8,.05a1.26,1.26,0,0,0-1.28,1.3A1.24,1.24,0,0,0,17.51,30h0L28.67,30A1.31,1.31,0,0,0,30,28.66l0-11.14A1.24,1.24,0,0,0,29.39,16.42Z\" /></svg>\\n</span>\\n\\n                    </div>\\n\\n      <div class=\"c-article-header__text u-position--relative u-padding--top\">\\n\\n        <div class=\"c-article-header__kicker u-corner-accent o-kicker-container\">\\n              <a href=\"https://www.yogajournal.com/lifestyle/balance/stress-balance/\" class=\"o-kicker\">Stress</a>\\n          </div>\\n  \\n  <div class=\"u-spacing--double u-padding--half--top\">\\n\\n    <hgroup bp=\"10--max\" class=\"c-article-headings u-spacing u-center-block\">\\n\\n      <h1>The News Is Traumatizing. Here’s How to Break the Cycle</h1>\\n\\n              <div class=\"c-article-dek\">\\n          <h2>If the relentless stream of news has you in a spiral, you’re not alone. Here are seven tips on how to handle (and heal from) the stress. </h2>\\n        </div>\\n      \\n    </hgroup>\\n\\n          <div class=\"c-article-meta u-spacing\">\\n                              <div class=\"o-post-meta u-spacing--quarter\">\\n      <time class=\"o-timestamp u-text-transform--upper u-color--gray--dark u-display--block u-font--xs u-letter-spacing--1\"><strong>April 21, 2021</strong></time>\\n    \\n  \\n\\n\\n        \\n\\n\\n            <a rel=\"author\" class=\"o-byline u-text-transform--upper u-display--inline-block u-font--xs u-letter-spacing--1\" href=\"https://www.yogajournal.com/byline/afi-odelia-scruggs/\"><strong>Afi-Odelia Scruggs</strong></a>      \\n\\n  </div>\\n                          <hr class=\"u-center-block\">\\n        <div class=\"c-utility-tray c-utility-links c-toggle-join \">\\n  <div class=\"c-utility-tray__item\">\\n    <button class=\"c-utility-tray__button o-bookmark c-utility-links__link u-path-stroke--primary js-utility-toggle\" data-rivt-route=\"#_save/9f159654c006a27e9b00ccc9106ddb0e\" data-toggled=\".c-toggle-join\" data-prefix=\"join-modal\" data-analytics-event=\"click\" data-analytics-data=\\'{\"name\": \"Element Clicked\", \"props\": {\"domain\": \"<<analytics_vars.domain>>\", \"name\": \"button-bookmark\", \"type\": \"button\"}}\\'>\\n      <svg xmlns=\"http://www.w3.org/2000/svg\" viewBox=\"0 0 30 30\"><path d=\"M23.12.11H6.89a2.66,2.66,0,0,0-2.72,2.6h0V29.44a.64.64,0,0,0,.4.61.73.73,0,0,0,.75-.1L15,22.17,24.69,30a.81.81,0,0,0,.47.16.68.68,0,0,0,.67-.67V2.72A2.66,2.66,0,0,0,23.12.11Zm1.3,2.61V28l-9-7.2a.68.68,0,0,0-.45-.17.64.64,0,0,0-.44.17l-9,7.2V2.72A1.27,1.27,0,0,1,6.86,1.45H23.14a1.27,1.27,0,0,1,1.28,1.27Z\"/><path d=\"M24.42,28l-9-7.2a.69.69,0,0,0-.46-.17.63.63,0,0,0-.43.17l-9,7.2V2.72A1.27,1.27,0,0,1,6.86,1.45H23.14a1.27,1.27,0,0,1,1.28,1.27h0Z\"/></svg>\\n    </button>\\n  </div>\\n  <div class=\"c-utility-tray__item\">\\n    <button class=\"c-utility-tray__button c-utility-links__link u-path-stroke--primary js-utility-toggle\" data-rivt-route=\"#_like/9f159654c006a27e9b00ccc9106ddb0e\" data-toggled=\".c-toggle-join\" data-prefix=\"join-modal\" data-analytics-event=\"click\" data-analytics-data=\\'{\"name\": \"Element Clicked\", \"props\": {\"domain\": \"<<analytics_vars.domain>>\", \"name\": \"button-like\", \"type\": \"button\"}}\\'>\\n      <svg xmlns=\"http://www.w3.org/2000/svg\" viewBox=\"0 0 30 30\"><path d=\"M10.91,28.12H23.18a2.72,2.72,0,0,0,2.51-1.61l4.12-9.25a2.57,2.57,0,0,0,.19-1V13.69a2.68,2.68,0,0,0-2.73-2.63H18.65l1.31-6a1.87,1.87,0,0,0,0-.42,2,2,0,0,0-.6-1.39L18,1.88,9,10.51a2.56,2.56,0,0,0-.81,1.86V25.5A2.6,2.6,0,0,0,9,27.36,2.79,2.79,0,0,0,10.91,28.12ZM9.58,12.37a1.17,1.17,0,0,1,.38-.85l8-7.71.47.45a.55.55,0,0,1,.17.38v.13l-1.31,6-.37,1.7H27.27a1.29,1.29,0,0,1,1.33,1.23v2.62a1.09,1.09,0,0,1-.07.39L24.41,26a1.32,1.32,0,0,1-1.23.76H10.91a1.4,1.4,0,0,1-1-.38,1.17,1.17,0,0,1-.37-.85Z\"/><path d=\"M10.91,26.73H23.18A1.32,1.32,0,0,0,24.41,26l4.12-9.27a1.09,1.09,0,0,0,.07-.39V13.69a1.29,1.29,0,0,0-1.33-1.23H16.92l.37-1.7,1.31-6V4.64a.55.55,0,0,0-.17-.38L18,3.81l-8,7.71a1.17,1.17,0,0,0-.38.85V25.5a1.17,1.17,0,0,0,.37.85A1.4,1.4,0,0,0,10.91,26.73Z\"/><rect y=\"12.38\" width=\"5.45\" height=\"15.75\"/></svg>\\n    </button>\\n  </div>\\n  <div class=\"c-utility-tray__item\">\\n    <button class=\"c-utility-tray__button c-utility-links__link u-path-stroke--primary js-utility-toggle\" data-rivt-route=\"#_dislike/9f159654c006a27e9b00ccc9106ddb0e\" data-toggled=\".c-toggle-join\" data-prefix=\"join-modal\" data-analytics-event=\"click\" data-analytics-data=\\'{\"name\": \"Element Clicked\", \"props\": {\"domain\": \"<<analytics_vars.domain>>\", \"name\": \"button-dislike\", \"type\": \"button\"}}\\'>\\n      <svg xmlns=\"http://www.w3.org/2000/svg\" viewBox=\"0 0 30 30\"><path d=\"M19.09,1.88H6.82a2.71,2.71,0,0,0-2.51,1.6L.19,12.73a2.57,2.57,0,0,0-.19,1v2.62a2.68,2.68,0,0,0,2.73,2.63h8.62l-1.31,6a1.87,1.87,0,0,0,0,.42,2,2,0,0,0,.6,1.39L12,28.13l9-8.64a2.56,2.56,0,0,0,.81-1.86V4.5A2.6,2.6,0,0,0,21,2.64,2.79,2.79,0,0,0,19.09,1.88Zm1.33,15.75a1.17,1.17,0,0,1-.38.85l-8,7.71-.47-.45a.55.55,0,0,1-.17-.38v-.13l1.31-6,.37-1.7H2.73A1.29,1.29,0,0,1,1.4,16.31V13.69a1.09,1.09,0,0,1,.07-.39L5.59,4a1.32,1.32,0,0,1,1.23-.76H19.09a1.4,1.4,0,0,1,1,.38,1.17,1.17,0,0,1,.37.85Z\"/><path d=\"M19.09,3.27H6.82A1.32,1.32,0,0,0,5.59,4L1.47,13.3a1.09,1.09,0,0,0-.07.39v2.62a1.29,1.29,0,0,0,1.33,1.23H13.08l-.37,1.7-1.31,6v.13a.55.55,0,0,0,.17.38l.47.45,8-7.71a1.17,1.17,0,0,0,.38-.85V4.5a1.17,1.17,0,0,0-.37-.85A1.4,1.4,0,0,0,19.09,3.27Z\" /><rect x=\"24.55\" y=\"1.87\" width=\"5.45\" height=\"15.75\"/></svg>\\n    </button>\\n  </div>\\n  <div class=\"c-utility-tray__item c-toggle-share\">\\n    <button class=\"c-utility-tray__button c-utility-links__link u-path-stroke--primary js-toggle\" data-toggled=\".c-toggle-share\" data-prefix=\"share-modal\" data-analytics-event=\"click\" data-analytics-data=\\'{\"name\": \"Element Clicked\", \"props\": {\"domain\": \"<<analytics_vars.domain>>\", \"name\": \"button-share\", \"type\": \"button\"}}\\'>\\n      <svg xmlns=\"http://www.w3.org/2000/svg\" viewBox=\"0 0 30 30\"><path d=\"M24.07,8.47H18.94v1.79h5.13a.86.86,0,0,1,.91.9V27.3a.85.85,0,0,1-.91.89H5.93A.85.85,0,0,1,5,27.3V11.16a.86.86,0,0,1,.91-.9h4.53V8.47H5.93a2.65,2.65,0,0,0-2.72,2.69V27.31A2.66,2.66,0,0,0,5.93,30H24.07a2.66,2.66,0,0,0,2.72-2.69V11.17A2.66,2.66,0,0,0,24.07,8.47Z\"/><polygon points=\"14.1 3.41 14.1 20.83 15.9 20.83 15.9 3.41 19.81 7.27 21.08 6.01 15 0 8.92 6.01 10.19 7.27 14.1 3.41\"/></svg>\\n    </button>\\n\\n    <div class=\"o-mini-modal o-mini-modal--share u-background-color--secondary u-corner-rounded u-align--center\">\\n      <div class=\"o-mini-modal__inner\">\\n        <button class=\"o-mini-modal__close o-close o-icon u-icon--s js-toggle\" data-remove-class=\"share-modal-is-active\"><svg xmlns=\"http://www.w3.org/2000/svg\" viewBox=\"0 0 30 30\"><polygon points=\"30 28.349 16.652 15.001 29.999 1.653 28.349 0 15 13.349 1.652 0.001 0 1.652 13.349 15 0.001 28.349 1.652 30 15 16.652 28.348 29.999 30 28.349\"/></svg>\\n</button>\\n        <h3 class=\"u-font--body u-space--bottom\">Share this</h3>\\n        \\n\\n<div class=\"c-utility-links c-utility-links--share\">\\n\\n  <a target=\"_blank\" href=\"https://facebook.com/sharer/sharer.php?u=https%3A%2F%2Fwww.yogajournal.com%2Flifestyle%2Fbalance%2Fstress-balance%2Fhow-to-manage-news-trauma%2F?utm_medium=social%26utm_source=facebook%26utm_campaign=onsiteshare\" class=\"c-utility-links__link o-icon o-icon--facebook \" data-analytics-event=\"click\" data-analytics-data=\\'{\"name\": \"Post Shared\", \"props\": {\"authors\": [\"Afi-Odelia Scruggs\"], \"categories\": [\"stress-balance\"], \"domain\": \"<<analytics_vars.domain>>\", \"platform\": \"Facebook\", \"post_uuid\": \"9f159654c006a27e9b00ccc9106ddb0e\", \"publish_date\": \"April 21, 2021\", \"tags\": [], \"title\": \"The News Is Traumatizing. Here\\\\u2019s How to Break the Cycle\" }}\\'><svg xmlns=\"http://www.w3.org/2000/svg\" viewBox=\"0 0 512 512\"><title>Facebook Icon</title><path d=\"M294.51,509.5V256h68.84l9-87.34H294.51l.12-43.73c0-22.83,2.16-35.08,34.36-35.08h43V2.5H303c-82.78,0-111.85,42.41-111.85,113.65v52.38H139.64V256H191.3V509.5Z\"/></svg>\\n</a>\\n\\n  <a target=\"_blank\" href=\"https://twitter.com/intent/tweet/?text=The%20News%20Is%20Traumatizing.%20Here%E2%80%99s%20How%20to%20Break%20the%20Cycle%26url=https%3A%2F%2Fwww.yogajournal.com%2Flifestyle%2Fbalance%2Fstress-balance%2Fhow-to-manage-news-trauma%2F?utm_medium=social%26utm_source=twitter%26utm_campaign=onsiteshare\" class=\"c-utility-links__link o-icon o-icon--twitter \" data-analytics-event=\"click\" data-analytics-data=\\'{\"name\": \"Post Shared\", \"props\": {\"authors\": [\"Afi-Odelia Scruggs\"], \"categories\": [\"stress-balance\"], \"domain\": \"<<analytics_vars.domain>>\", \"platform\": \"Twitter\", \"post_uuid\": \"9f159654c006a27e9b00ccc9106ddb0e\", \"publish_date\": \"April 21, 2021\", \"tags\": [], \"title\": \"The News Is Traumatizing. Here\\\\u2019s How to Break the Cycle\" }}\\'><svg xmlns=\"http://www.w3.org/2000/svg\" viewBox=\"0 0 512 512\"><title>Twitter Icon</title><path d=\"M248.63,158.41l1.08,18-18.23-2.16C165,165.73,107,136.95,57.58,88.74l-24.11-24L27.24,82.38C14,121.84,22.44,163.57,49.91,191.51,64.42,207,61.18,209.26,36,200c-8.75-2.88-16.43-5.16-17.15-4.08-2.52,2.64,6.24,36.1,13.19,49.41,9.47,18.47,28.9,36.46,50.13,47.25L100,301l-21.23.36c-20.51,0-21.23.36-18.95,8.16,7.32,24,36.22,49.41,68.36,60.44l22.67,7.68L131.1,389.4a206.11,206.11,0,0,1-97.86,27.22c-16.43.36-30,1.8-30,3,0,3.72,44.61,24.35,70.52,32.5,77.83,24,170.18,13.67,239.62-27.34C362.68,395.63,412,337.71,435,281.7c12.35-29.86,24.83-84.43,24.83-110.57,0-16.91,1.08-19.19,21.59-39.46C493.53,119.92,504.8,107,507,103.25c3.6-7,3.24-7-15.35-.72-31.06,11-35.5,9.59-20.15-7,11.39-11.87,24.83-33.22,24.83-39.46,0-1.08-5.52.72-11.63,4.08-6.6,3.72-21.23,9.23-32.14,12.59L432.72,79,414.85,66.79c-9.83-6.6-23.75-14-31.06-16.19-18.59-5.16-47.13-4.44-63.92,1.44C274.18,68.83,245.39,111.52,248.63,158.41Z\"/></svg>\\n</a>\\n\\n  <a target=\"_blank\" href=\"mailto:?subject=The%20News%20Is%20Traumatizing.%20Here%E2%80%99s%20How%20to%20Break%20the%20Cycle&amp;body=https%3A%2F%2Fwww.yogajournal.com%2Flifestyle%2Fbalance%2Fstress-balance%2Fhow-to-manage-news-trauma%2F?utm_medium=social%26utm_source=email%26utm_campaign=onsiteshare\" class=\"c-utility-links__link o-icon o-icon--mail \" data-analytics-event=\"click\" data-analytics-data=\\'{\"name\": \"Post Shared\", \"props\": {\"authors\": [\"Afi-Odelia Scruggs\"], \"categories\": [\"stress-balance\"], \"domain\": \"<<analytics_vars.domain>>\", \"platform\": \"Email\", \"post_uuid\": \"9f159654c006a27e9b00ccc9106ddb0e\", \"publish_date\": \"April 21, 2021\", \"tags\": [], \"title\": \"The News Is Traumatizing. Here\\\\u2019s How to Break the Cycle\" }}\\'><svg xmlns=\"http://www.w3.org/2000/svg\" viewBox=\"0 0 30 30\"><title>Email Icon</title><path d=\"M2.8841,10.4822q.57.402,3.4329,2.3853t4.3847,3.0561c.1113.08.3473.2492.7119.511s.6639.4759.9038.6355c.24.1629.53.3418.8731.5429a5.011,5.011,0,0,0,.9594.45,2.6173,2.6173,0,0,0,.8367.15h.0326a2.6951,2.6951,0,0,0,.8366-.15,5.062,5.062,0,0,0,.9614-.45c.3416-.2011.6294-.3832.8712-.5429.24-.1629.5411-.3736.9038-.6355.3646-.2618.6006-.431.7138-.511q1.537-1.0728,7.8329-5.4414a7.9127,7.9127,0,0,0,2.04-2.06A4.4228,4.4228,0,0,0,30,5.8964a2.5611,2.5611,0,0,0-.7944-1.8905A2.5938,2.5938,0,0,0,27.3212,3.22H2.6788A2.3872,2.3872,0,0,0,.6965,4.092,3.3849,3.3849,0,0,0,0,6.2667,3.9234,3.9234,0,0,0,.9192,8.5533,8.6185,8.6185,0,0,0,2.8841,10.4822Z\" /><path d=\"M28.3305,12.2694q-5.489,3.7172-8.3376,5.7767-.9555.7042-1.55,1.0953a9.6139,9.6139,0,0,1-1.5793.8047,4.8,4.8,0,0,1-1.844.4088h-.0307a4.8739,4.8739,0,0,1-1.8422-.4088,9.4067,9.4067,0,0,1-1.5811-.8047c-.3972-.2618-.9134-.6291-1.5486-1.0953q-2.2623-1.6574-8.32-5.7767a8.969,8.969,0,0,1-1.6925-1.456v13.29a2.5756,2.5756,0,0,0,.7868,1.89,2.5753,2.5753,0,0,0,1.89.7856H27.3212a2.6843,2.6843,0,0,0,2.6769-2.6759v-13.29A8.8342,8.8342,0,0,1,28.3305,12.2694Z\" /></svg>\\n</a>\\n\\n</div>\\n      </div>\\n    </div>\\n\\n  </div>\\n\\n  <div class=\"o-mini-modal o-mini-modal--join u-background-color--secondary u-corner-rounded u-align--center\">\\n    <div class=\"o-mini-modal__inner\">\\n      <button class=\"o-mini-modal__close o-close o-icon u-icon--s js-toggle\" data-remove-class=\"join-modal-is-active\"><svg xmlns=\"http://www.w3.org/2000/svg\" viewBox=\"0 0 30 30\"><polygon points=\"30 28.349 16.652 15.001 29.999 1.653 28.349 0 15 13.349 1.652 0.001 0 1.652 13.349 15 0.001 28.349 1.652 30 15 16.652 28.348 29.999 30 28.349\"/></svg>\\n</button>\\n      <span class=\"o-welcome-icon\"></span>\\n      <div class=\"u-spacing\">\\n        <h3 class=\"u-space--bottom js-modal-title\">Join Yoga Journal</h3>\\n        <p class=\"u-font--xs u-color--gray--dark\">Create a personalized feed and bookmark your favorites.</p>\\n        <div class=\"u-spacing--and-half\">\\n          <a href=\"#_signup\" class=\"o-button\" data-analytics-event=\"click\" data-analytics-data=\\'{\"name\": \"Element Clicked\", \"props\": {\"domain\": \"<<analytics_vars.domain>>\", \"name\": \"join-modal\", \"type\": \"button\"}}\\'>Join for free</a>\\n          <div class=\"u-spacing--half\">\\n            <p class=\"u-font--xs u-color--gray--dark\">Already have an account?</p>\\n            <a href=\"#_login\" class=\"o-rubric u-text-transform--upper\"><strong>Sign In</strong></a>\\n          </div>\\n        </div>\\n      </div>\\n    </div>\\n  </div>\\n\\n  <div class=\"o-mini-modal u-background-color--secondary u-corner-rounded u-align--center o-mini-modal--join\">\\n  <div class=\"o-mini-modal__inner u-spacing--quarter\">\\n\\n          <button class=\"o-mini-modal__close o-close o-icon u-icon--s js-toggle\" data-remove-class=\"join-modal-is-active\"><svg xmlns=\"http://www.w3.org/2000/svg\" viewBox=\"0 0 30 30\"><polygon points=\"30 28.349 16.652 15.001 29.999 1.653 28.349 0 15 13.349 1.652 0.001 0 1.652 13.349 15 0.001 28.349 1.652 30 15 16.652 28.348 29.999 30 28.349\"/></svg>\\n</button>\\n    \\n          <span class=\"o-welcome-icon\"></span>\\n    \\n    <div class=\"u-spacing--and-half\">\\n      <div class=\"u-spacing--half\">\\n        <h3 class=\"js-modal-title\">Join Yoga Journal</h3>\\n        <p class=\"u-font--s u-color--gray--dark\">Create a personalized feed and bookmark your favorites.</p>\\n      </div>\\n      <a href=\"#_signup\" class=\"o-button\" data-analytics-event=\"click\" data-analytics-data=\\'{\"name\": \"Element Clicked\", \"props\": {\"domain\": \"<<analytics_vars.domain>>\", \"name\": \"join-modal\", \"type\": \"button\"}}\\'> Join for free</a>\\n      <div class=\"u-spacing--quarter\">\\n        <p class=\"u-font--s u-color--gray--dark\">Already have an account?</p>\\n        <a href=\"#_login\" class=\"o-rubric u-text-transform--upper\"><strong>Sign In</strong></a>\\n      </div>\\n    </div>\\n  </div>\\n</div>\\n\\n</div>\\n      </div>\\n      </div>\\n\\n</div>\\n  \\n</header>\\n\\n  <div class=\"o-modal o-modal--micromodal-slide\" id=\"hero-enlarge\" aria-hidden=\"true\">\\n  <div class=\"o-modal__overlay\" tabindex=\"-1\" data-micromodal-close>\\n    <div class=\"o-modal__container\" role=\"dialog\" aria-modal=\"true\">\\n      <button class=\"o-modal__close o-icon--x\" data-micromodal-close aria-label=\"Close modal\"></button>\\n      <main class=\"o-modal__content\" id=\"o-modal-content\">\\n                          <div class=\"o-modal__hero u-spacing--half\">\\n            <div class=\"o-modal__image\">\\n              <picture class=\"lazy\" data-alt=\"Black man with beard wearing a red and blue striped shirt, sits cross legged reading a newspaper\" data-iesrc=\"https://www.yogajournal.com/wp-content/uploads/2021/04/GettyImages-722237701-scaled.jpg?width=1400&enable=upscale\">\\n                <source srcset=\"https://www.yogajournal.com/wp-content/uploads/2021/04/GettyImages-722237701-scaled.jpg?width=1400&enable=upscale\" media=\"(min-width: 900px)\">\\n                <source srcset=\"https://www.yogajournal.com/wp-content/uploads/2021/04/GettyImages-722237701-scaled.jpg?width=900&enable=upscale\" media=\"(min-width: 500px)\">\\n                <source srcset=\"https://www.yogajournal.com/wp-content/uploads/2021/04/GettyImages-722237701-scaled.jpg?width=500&enable=upscale\" media=\"(min-width: 0px)\">\\n              </picture>\\n            </div>\\n                          <div class=\"o-modal__meta\">\\n                <p class=\"o-caption u-font--xs\"> <span class=\"o-credit u-text-transform--upper u-letter-spacing--1 u-font--xxs\">Photo: Westend61/Getty Images</span>\\n              </div>\\n                      </div>\\n              </main>\\n    </div>\\n  </div>\\n</div>\\n\\n  <section class=\"c-content l-columns\">\\n\\n    <div class=\"l-columns--lg\">\\n\\n      \\n                        <div class=\"u-align--center o-ad--leaderboard u-hide-after--l\">\\n            <div class=\"o-ad o-ad--initial-leaderboard\">\\n  <div class=\"js-ad js-scroll-load\" data-child-zone=\"initial-leaderboard-yj\" data-size=\"[[320,50],[300,50],[320,100],[300,100]]\" data-size-map=\"[[[851,0],[]],[[0,0],[[320,50],[300,50],[320,100],[300,100]]]]\"></div>\\n</div>\\n          </div>\\n              \\n      <div class=\"o-rte-text u-spacing--and-half c-content__post js-fitvids  \"  data-inject-ads data-inject-ads-options=\\'{ \"markup\": [\"<div class=&#39;js-ad js-hide-elements js-scroll-load c-ad--inline&#39; data-child-zone=&#39;in-content-leaderboard-yj&#39; data-size=&#39;[\\\\\"fluid\\\\\",[300,50],[300,100],[728,90],[320,50],[320,100],[468,60],[300,250],[1,1]]&#39; data-size-map=&#39;[[[1145,0],[\\\\\"fluid\\\\\",[728,90],[468,60],[1,1]]],[[850,0],[\\\\\"fluid\\\\\",[468,60],[1,1]]],[[0,0],[\\\\\"fluid\\\\\",[300,250],[320,100],[300,100],[320,50],[300,50],[1,1]]]]&#39; data-hide-elements=&#39;.o-banner-ad__vertical .js-ad&#39;></div>\"], \"filter\": { \"nextExceptions\": \"img, blockquote, div\", \"nextContainsExceptions\": \"img, blockquote\"} }\\'>\\n\\n        \\n                  \\n        \\n        <p>Whether it’s yet another video of a police altercation gone wrong or alerts about the latest mass shooting, we face a seemingly unrelenting deluge of disturbing news in our media feeds, timelines, and DMs on a daily basis. And it&#8217;s wearing us down.</p>\\n<p>About two-thirds of Americans say they&#8217;re worn out by the amount of news that&#8217;s coming at them, according to a<a href=\"https://www.pewresearch.org/fact-tank/2020/02/26/almost-seven-in-ten-americans-have-news-fatigue-more-among-republicans/\" target=\"_blank\" rel=\"noopener\"> Pew Research Center study</a>. The 24-hour news cycle is not just exhausting; it can be traumatic—so much so that researchers believe <a href=\"https://www.dailymail.co.uk/health/article-3071103/Online-videos-cause-post-traumatic-stress-disorder.html#ixzz4hwcU8bKf\" target=\"_blank\" rel=\"noopener\">watching violent videos</a> causes symptoms of post-traumatic stress disorder (PTSD). Even people who view videos of merely confrontational situations suffer, according to the Dr. Margo Jacquot, founder of<a href=\"https://www.thejunipercenter.com/\" target=\"_blank\" rel=\"noopener\"> the Juniper Center</a>, a Chicago-area counseling agency.</p>\\n<p>“Trauma responses are a result of the brain’s emergency response system getting stuck in the <em>on</em> position,” she <a href=\"https://www.thejunipercenter.com/1099-2/\" target=\"_blank\" rel=\"noopener\">writes</a>. “Graphic images of horrific events come to us across television and social media in real time. Some people may experience vicarious trauma.&#8221; If we&#8217;ve experienced trauma first-hand, witnessed a trauma in real-life, or had something traumatic happened to someone we&#8217;re close to, watching violent images cause us to “re-live” the experience.</p>\\n<p>Why can’t we just disengage—turn off the television or put down the phone? Researchers think we’re caught in a cycle: The more we see, the more we want to see, especially if we already worry about violence like the mass shootings and police violence. We may think of being informed as a kind of self protection: If we know what&#8217;s happening, we know what to expect. But when we watch cell-phone recordings or body-cam footage of violent acts, we’re likely to feel a surge in anxiety. Those anxious feelings can continue to cycle for up to two years after the initial triggering event, <a href=\"https://advances.sciencemag.org/content/5/4/eaav3502\" target=\"_blank\" rel=\"noopener\">according to a study published in 2019</a>.</p>\\n<h2>Use your yoga tools</h2>\\n<p><span style=\"font-weight: 400;\">No one knows the impact of the news cycle better than news reporters. While they’re the ones responsible for bringing the news to our TV screens, journalists and reporters aren’t immune to the effects of covering traumatic events. It’s such a concern that professional organizations like the\\xa0 </span><a href=\"https://www.journaliststoolbox.org/2021/04/16/mental-health-for-journalists/\" target=\"_blank\" rel=\"noopener\"><span style=\"font-weight: 400;\">Society of Professional Journalists</span></a><span style=\"font-weight: 400;\"> and the </span><a href=\"https://www.aaja.org/2021/02/25/mental-wellness-resources/\" target=\"_blank\" rel=\"noopener\"><span style=\"font-weight: 400;\">Asian American Journalists Association</span></a><span style=\"font-weight: 400;\"> provide mental health resources for their members.\\xa0\\xa0</span></p>\\n<p>Leslie Rangel, <a href=\"https://thenewsyogi.com/\" target=\"_blank\" rel=\"noopener\">the News Yogi</a>, co-anchors a morning show on Fox 7 in Austin, Texas. She’s an evangelist when it comes to using yoga to help manage stress. While she targets other journalists with her message, the techniques she uses work for anyone looking for a way to manage news burnout.</p>\\n<p>“I think there&#8217;s a common misconception that yoga is about peace and flowers and beautiful rainbows and butterflies,” she says. But it&#8217;s a tool we can use to notice discomfort, acknowledge it, and heal from it. “When we can learn, like we do in our yoga practice, to really sit with the discomfort and allow space for it&#8230;that is when healing begins.”</p>\\n<p>To handle news stress, Rangel says she doesn’t depend so much on postures as something she calls “yoga psychology.”</p>\\n<p>“Yes, it&#8217;s wonderful to do a tree pose,” she says. “But I think sometimes it&#8217;s even more important to just sit and notice, and perhaps even just lie down and meditate.” That aligns with suggestions medical professions give for handling PTSD.</p>\\n<h2>Tips for managing the stress of the news cycle</h2>\\n<h3>Schedule your news</h3>\\n<p>The <a href=\"https://newpaltz.edu/media/idmh/covid-19/IDMH%20COVID19%20Community%20Stress%20Management%20Tip%20Sheet%202020%20Final.pdf\" target=\"_blank\" rel=\"noopener\">Institute for Disaster Mental Health at State University of New York New Paltz</a> recommends setting specific times for news consumption. “You may find it reduces your stress considerably to limit your exposure to a few intentional news checks a day, rather than&#8230;constantly monitoring the latest information.” Times to avoid: first thing in the morning and right before bedtime.</p>\\n<h3>Choose your medium</h3>\\n<p>Watching a graphic video may be more anxiety-producing than reading about the same event. <a href=\"https://www.everydayhealth.com/wellness/united-states-of-stress/stressed-by-the-news-consider-your-options/\" target=\"_blank\" rel=\"noopener\">Some experts suggest</a> reading (on paper or online) or listening to the radio (but avoiding the shock jocks) may be a less stressful way to consume media.</p>\\n<h3>Distract yourself</h3>\\n<p>Clinical psychologist <a href=\"https://www.psychologytoday.com/us/blog/compassion-matters/201807/5-truths-about-anxiety-help-you-stay-present\" target=\"_blank\" rel=\"noopener\">Lisa Firestone</a> says disconnecting doesn’t mean you’re turning your back on current events. “We can give ourselves permission to pause and do something completely distracting, any activity that brings us pleasure and takes our mind off the source of our stress,” she says in an article for <a href=\"https://www.psychologytoday.com/us/blog/compassion-matters/202003/tips-coping-the-stress-current-affairs\" target=\"_blank\" rel=\"noopener\">Psychology Today</a>.</p>\\n<h3>Practice mindful breathing</h3>\\n<p><a href=\"https://www.ptsd.va.gov/gethelp/mindfulness_tx.asp\" target=\"_blank\" rel=\"noopener\">Focus on the breath </a>to ground yourself in the present and combat anxiety. Rangel suggests <a href=\"https://www.yogajournal.com/video/de-stress-2-minutes-box-breathing/\">box breathing</a>: inhaling for four counts, pausing for four, then exhaling for four and pausing for four.</p>\\n<h3>Get moving</h3>\\n<p><a href=\"https://www.yogajournal.com/lifestyle/want-to-better-manage-stress-get-your-body-moving/\">Exercise releases endorphins</a>, the brain’s “feel-good neurotransmitters. A vigorous yoga practice counts. Rangel varies her practice according to her physical and emotional needs. “On weeks where perhaps I was feeling really sluggish and almost in a depressive state, maybe [I’d do] an Ashtanga type practice where it was 90 minutes and you&#8217;re just moving and flowing,” she says.</p>\\n<h3>Rest and restore</h3>\\n<p>Taking time to be still and quiet is just as important, says Rangel. “Maybe today&#8217;s practice is just five minutes of breathing, five minutes of being able to just notice and be mindful, five minutes of getting outside and grounding, being in the grass with toes on the ground.”</p>\\n<h3>Stay connected</h3>\\n<p>Just because you’re disconnecting from the news, doesn’t mean you have to disconnect from your community. In fact, staying in touch with <a href=\"https://newpaltz.edu/media/idmh/covid-19/IDMH%20COVID19%20Community%20Stress%20Management%20Tip%20Sheet%202020%20Final.pdf\" target=\"_blank\" rel=\"noopener\">friends and family, online or in person</a> can help relieve stress. If you&#8217;re not likely to get embroiled in a tense political conversation, staying in touch with your social networks—and staying in touch with yourself—does a lot to ease news exhaustion.</p>\\n<p><em>See also:\\xa0</em></p>\\n<p><a href=\"https://www.yogajournal.com/practice/yoga-sequences/grounding-yoga-sequence-for-school-shooting-aftermath/\">Try This Grounding Practice in the Aftermath of Scary News Events</a></p>\\n<p><a href=\"https://www.yogajournal.com/practice/poses-calm-nervous-system-stress-relief/\" data-outbound-instanced=\"true\">6 Poses to Calm Your Nervous System and Find a Sense of Safety</a></p>\\n<p><a href=\"https://www.yogajournal.com/lifestyle/resources-for-black-yogis/\">31 Yoga and Self-Care Resources for Black Yogis</a></p>\\n\\n\\n        \\n\\n        \\n                          \\n      </div>\\n\\n    </div>\\n\\n          <aside class=\"c-content__aside l-columns--sm u-align--center u-spacing--double\">\\n                  \\n                                          <div class=\"o-ad o-ad--right-rail u-align--center u-full-width \">\\n  <div class=\"js-ad js-scroll-load\" data-child-zone=\"initial-leaderboard-yj\" data-size=\"[[300,250]]\" data-size-map=\"[[[851,0],[[300,250]]],[[0,0],[]]]\"></div>\\n</div>\\n              \\n              \\n<div class=\"c-recirc-spotlight u-spacing u-space--top\" data-analytics-event=\"observe\" data-analytics-data=\\'{\"name\": \"Element Observed\", \"props\": {\"domain\": \"<<analytics_vars.domain>>\", \"name\": \"Recirc Spotlight\", \"type\": \"sidebar item\"}}\\'>\\n  <header class=\"o-section__header u-space--bottom\">\\n    <h4 class=\"o-heading--s u-font--primary u-text-transform--upper u-font-weight--bold u-color--gold-member\">Membership Spotlight</h4>\\n  </header>\\n\\n      <div class=\"c-recirc-spotlight--item\">\\n      <h5 class=\"u-font--xs u-space--quarter--bottom\"><a href=\"https://www.yogajournal.com/lifestyle/balance/stress-balance/stay-focused-herbs-breathwortk-mindfulness/\" class=\"o-heading-link\" data-analytics-event=\"click\" data-analytics-data=\\'{\"name\": \"Post Clicked\", \"props\": {\"domain\": \"<<analytics_vars.domain>>\", \"path\": \"https://www.yogajournal.com/lifestyle/balance/stress-balance/stay-focused-herbs-breathwortk-mindfulness/\", \"listing_type\": \"recirc-spotlight\", \"location\": \"sidebar\", \"title\": \"Yoga Toolkit: Stay Focused With Herbs, Breathwork, and Mindfulness\"}}\\'>Yoga Toolkit: Stay Focused With Herbs, Breathwork, and Mindfulness</a></h5>\\n\\n              <div class=\"o-post-meta\">\\n          \\n\\n\\n        \\n\\n\\n            <a rel=\"author\" class=\"o-byline u-text-transform--upper u-display--inline-block u-font--xs u-letter-spacing--1\" href=\"https://www.yogajournal.com/byline/stephanie-anderson-witmer/\"><strong>Stephanie Anderson Witmer</strong></a>      \\n        </div>\\n          </div>\\n      <div class=\"c-recirc-spotlight--item\">\\n      <h5 class=\"u-font--xs u-space--quarter--bottom\"><a href=\"https://www.yogajournal.com/lifestyle/balance/stress-balance/beat-stress-and-anxiety-with-mindful-hypnotherapy/\" class=\"o-heading-link\" data-analytics-event=\"click\" data-analytics-data=\\'{\"name\": \"Post Clicked\", \"props\": {\"domain\": \"<<analytics_vars.domain>>\", \"path\": \"https://www.yogajournal.com/lifestyle/balance/stress-balance/beat-stress-and-anxiety-with-mindful-hypnotherapy/\", \"listing_type\": \"recirc-spotlight\", \"location\": \"sidebar\", \"title\": \"Beat Stress and Anxiety with DIY Mindful Hypnotherapy\"}}\\'>Beat Stress and Anxiety with DIY Mindful Hypnotherapy</a></h5>\\n\\n              <div class=\"o-post-meta\">\\n          \\n\\n\\n        \\n\\n\\n            <a rel=\"author\" class=\"o-byline u-text-transform--upper u-display--inline-block u-font--xs u-letter-spacing--1\" href=\"https://www.yogajournal.com/byline/ellen-obrien/\"><strong>Ellen O\\'Brien</strong></a>      \\n        </div>\\n          </div>\\n  </div>\\n            \\n                          <div class=\"o-ad o-ad--right-rail u-align--center u-full-width is-sticky\">\\n    <div class=\"js-ad js-scroll-load\" data-child-zone=\"right-rail-yj\" data-size=\"[[300,250],[300,600],[160,600],[1,1]]\" data-size-map=\"[[[970,0],[[300,600],[160,600],[300,250],[1,1]]],[[851,0],[[160,600],[1,1]]],[[0,0],[]]]\"></div>\\n</div>\\n            \\n          \\n      </aside>\\n    \\n  </section>\\n\\n    <div class=\"u-align--center u-space--double--bottom\">\\n\\t\\t\\t<div class=\"o-ad o-ad--footer\">\\n  <div class=\"js-ad js-scroll-load\" data-child-zone=\"footer-yj\" data-size=\\'[\"fluid\",[320,50],[970,250],[300,250],[728,90],[300,100],[970,90],[300,50],[320,100],[336,280],[1,1]]\\' data-size-map=\\'[[[1040,0],[\"fluid\",[970,250],[970,90],[728,90],[1,1]]],[[790,0],[\"fluid\",[728,90],[1,1]]],[[0,0],[\"fluid\",[300,250],[320,100],[300,100],[320,50],[300,50],[336,280],[1,1]]]]\\'></div>\\n</div>\\n\\t\\t</div>\\n\\t</article>\\n      </div>\\n              <div bp=\"container\">\\n          <section class=\"c-newsletter-subscribe o-section u-align--center u-padding--double\">\\n  <div bp=\"8--max\" class=\"c-newsletter-subscribe__inner u-center-block u-spacing--half\">\\n    <h2 class=\"o-section__heading\">Yoga Journal Newsletter</h2>\\n    <p class=\"u-font--secondary u-space--bottom\">Inspire your practice, deepen your knowledge, and stay on top of the latest news.</p>\\n    \\n  <div class=\"c-newsletter-form\">\\n        <script>\\n      function loadHBForm() {\\n        hbspt.forms.create({\\n          portalId: \"4566937\",\\n          formId: \"eb843839-b184-4276-a532-ce265fb200e7\"\\n        });\\n      }\\n    </script>\\n    <script charset=\"utf-8\" type=\"text/javascript\" src=\"//js.hsforms.net/forms/v2.js\" onload=\"loadHBForm();\" defer></script>\\n  </div>\\n\\n  </div>\\n</section>\\n        </div>\\n                  \\n\\n<div bp=\"container\">\\n\\t<div class=\"c-recirc-module o-section u-align--center u-spacing--double\">\\n\\t\\t<header class=\"o-section__header u-spacing\">\\n\\t\\t\\t<h3 class=\"o-section__heading\">Stay On Topic</h3>\\n\\t\\t</header>\\n\\n    <section bp=\"grid 4@md\" class=\"c-featured-articles o-section u-grid-gap--l\">\\n\\n                    \\n  \\n<article class=\"c-block c-block-standard u-align--center c-block--inline-until-medium\">\\n\\n  <div class=\"c-block__media u-position--relative\">\\n    \\n          <a href=\"http://www.yogajournal.com/yoga-101/sanskrit/40-common-sanskrit-words-for-yogis/?itm_source=parsely-api\" data-analytics-event=\"click\" data-analytics-data=\\'{\"name\": \"Post Clicked\", \"props\": {\"domain\": \"<<analytics_vars.domain>>\", \"path\": \"http://www.yogajournal.com/yoga-101/sanskrit/40-common-sanskrit-words-for-yogis/?itm_source=parsely-api\", \"listing_type\": \"recirc\", \"location\": \"list\", \"title\": \"40 Sanskrit Words Every Yogi Should Know\"}}\\'>\\n    \\n                    \\n      <picture class=\"lazy\" data-alt=\"Placeholder\" data-iesrc=\"https://www.yogajournal.com/wp-content/uploads/2015/06/Sanskrit-Hero-Image.jpg?crop=604:344&width=604\">\\n                              <source srcset=\"https://www.yogajournal.com/wp-content/uploads/2015/06/Sanskrit-Hero-Image.jpg?crop=604:344&width=604\" media=\"(min-width: 700px)\">\\n                    <source srcset=\"https://www.yogajournal.com/wp-content/uploads/2015/06/Sanskrit-Hero-Image.jpg?crop=1:1&width=150\" media=\"(min-width: 0)\">\\n              </picture>\\n\\n      \\n    </a>\\n  </div>\\n\\n  <div class=\"c-block__content u-position--relative u-padding--top\">\\n\\n    \\n    <div class=\"c-block__inner u-spacing--half u-flex u-flex-directon--column\">\\n\\n      \\n      <h3 class=\"c-block__title\">\\n                <a class=\"o-heading-link\" href=\"http://www.yogajournal.com/yoga-101/sanskrit/40-common-sanskrit-words-for-yogis/?itm_source=parsely-api\"  data-analytics-event=\"click\" data-analytics-data=\\'{\"name\": \"Post Clicked\", \"props\": {\"domain\": \"<<analytics_vars.domain>>\", \"path\": \"http://www.yogajournal.com/yoga-101/sanskrit/40-common-sanskrit-words-for-yogis/?itm_source=parsely-api\", \"listing_type\": \"recirc\", \"location\": \"list\", \"title\": \"40 Sanskrit Words Every Yogi Should Know\"}}\\'>\\n                40 Sanskrit Words Every Yogi Should Know\\n        </a>\\n      </h3>\\n\\n            \\n      \\n      \\n    </div>\\n  </div>\\n\\n</article>\\n                \\n  \\n<article class=\"c-block c-block-standard u-align--center c-block--inline-until-medium\">\\n\\n  <div class=\"c-block__media u-position--relative\">\\n    \\n          <a href=\"http://www.yogajournal.com/poses/yoga-by-benefit/back-pain/is-your-yoga-practice-hurting-your-back/?itm_source=parsely-api\" data-analytics-event=\"click\" data-analytics-data=\\'{\"name\": \"Post Clicked\", \"props\": {\"domain\": \"<<analytics_vars.domain>>\", \"path\": \"http://www.yogajournal.com/poses/yoga-by-benefit/back-pain/is-your-yoga-practice-hurting-your-back/?itm_source=parsely-api\", \"listing_type\": \"recirc\", \"location\": \"list\", \"title\": \"Is Your Yoga Practice Hurting Your Back?\"}}\\'>\\n    \\n                    \\n      <picture class=\"lazy\" data-alt=\"Placeholder\" data-iesrc=\"https://www.yogajournal.com/wp-content/uploads/2021/04/GettyImages-1157312626-scaled.jpg?crop=604:344&width=604\">\\n                              <source srcset=\"https://www.yogajournal.com/wp-content/uploads/2021/04/GettyImages-1157312626-scaled.jpg?crop=604:344&width=604\" media=\"(min-width: 700px)\">\\n                    <source srcset=\"https://www.yogajournal.com/wp-content/uploads/2021/04/GettyImages-1157312626-scaled.jpg?crop=1:1&width=150\" media=\"(min-width: 0)\">\\n              </picture>\\n\\n      \\n    </a>\\n  </div>\\n\\n  <div class=\"c-block__content u-position--relative u-padding--top\">\\n\\n    \\n    <div class=\"c-block__inner u-spacing--half u-flex u-flex-directon--column\">\\n\\n      \\n      <h3 class=\"c-block__title\">\\n                <a class=\"o-heading-link\" href=\"http://www.yogajournal.com/poses/yoga-by-benefit/back-pain/is-your-yoga-practice-hurting-your-back/?itm_source=parsely-api\"  data-analytics-event=\"click\" data-analytics-data=\\'{\"name\": \"Post Clicked\", \"props\": {\"domain\": \"<<analytics_vars.domain>>\", \"path\": \"http://www.yogajournal.com/poses/yoga-by-benefit/back-pain/is-your-yoga-practice-hurting-your-back/?itm_source=parsely-api\", \"listing_type\": \"recirc\", \"location\": \"list\", \"title\": \"Is Your Yoga Practice Hurting Your Back?\"}}\\'>\\n                Is Your Yoga Practice Hurting Your Back?\\n        </a>\\n      </h3>\\n\\n            \\n      \\n      \\n    </div>\\n  </div>\\n\\n</article>\\n                \\n  \\n<article class=\"c-block c-block-standard u-align--center c-block--inline-until-medium\">\\n\\n  <div class=\"c-block__media u-position--relative\">\\n    \\n          <a href=\"http://www.yogajournal.com/yoga-faq-videos/benefits-yoga-everyday/?itm_source=parsely-api\" data-analytics-event=\"click\" data-analytics-data=\\'{\"name\": \"Post Clicked\", \"props\": {\"domain\": \"<<analytics_vars.domain>>\", \"path\": \"http://www.yogajournal.com/yoga-faq-videos/benefits-yoga-everyday/?itm_source=parsely-api\", \"listing_type\": \"recirc\", \"location\": \"list\", \"title\": \"Watch: This Yogi Practiced for 100 Straight Days\"}}\\'>\\n    \\n                    \\n      <picture class=\"lazy\" data-alt=\"Placeholder\" data-iesrc=\"https://www.yogajournal.com/wp-content/uploads/2021/04/Shaurya-Sinha.jpg?crop=604:344&width=604\">\\n                              <source srcset=\"https://www.yogajournal.com/wp-content/uploads/2021/04/Shaurya-Sinha.jpg?crop=604:344&width=604\" media=\"(min-width: 700px)\">\\n                    <source srcset=\"https://www.yogajournal.com/wp-content/uploads/2021/04/Shaurya-Sinha.jpg?crop=1:1&width=150\" media=\"(min-width: 0)\">\\n              </picture>\\n\\n      \\n    </a>\\n  </div>\\n\\n  <div class=\"c-block__content u-position--relative u-padding--top\">\\n\\n    \\n    <div class=\"c-block__inner u-spacing--half u-flex u-flex-directon--column\">\\n\\n      \\n      <h3 class=\"c-block__title\">\\n                <a class=\"o-heading-link\" href=\"http://www.yogajournal.com/yoga-faq-videos/benefits-yoga-everyday/?itm_source=parsely-api\"  data-analytics-event=\"click\" data-analytics-data=\\'{\"name\": \"Post Clicked\", \"props\": {\"domain\": \"<<analytics_vars.domain>>\", \"path\": \"http://www.yogajournal.com/yoga-faq-videos/benefits-yoga-everyday/?itm_source=parsely-api\", \"listing_type\": \"recirc\", \"location\": \"list\", \"title\": \"Watch: This Yogi Practiced for 100 Straight Days\"}}\\'>\\n                Watch: This Yogi Practiced for 100 Straight Days\\n        </a>\\n      </h3>\\n\\n            \\n      \\n      \\n    </div>\\n  </div>\\n\\n</article>\\n              </section>\\n  </div>\\n</div>\\n    </main>\\n    <footer class=\"c-main-footer u-align--center u-background-color--secondary \">\\n  <div class=\"l-wrap\">\\n\\n          \\n      <div class=\"c-main-footer__inner u-spacing--triple\">\\n\\n        \\n          <section class=\"c-magazine-promo o-section u-spacing\">\\n                          <h2 class=\"o-section__heading\">Active Pass</h2>\\n                                      <a class=\"c-magazine-promo__cover u-display--inline-block\" href=\"https://www.yogajournal.com/#_active-pass\">\\n                <img class=\"lazy\" data-src=\"https://www.yogajournal.com/wp-content/uploads/2020/12/jan-feb-2021-yj-cover.jpg?width=200\" alt=\"\">\\n              </a>\\n                                      <div class=\"u-spacing--double\">\\n                                  <p bp=\"5--max\" class=\"c-magazine-promo__copy u-center-block u-font--secondary u-font--s u-padding--half--right u-padding--half--left\"><strong>Join Active Pass to get Yoga Journal magazine, access to exclusive sequences and other members-only content, and more than 8,000 healthy recipes. </strong></p>\\n                                                  <a href=\"https://www.yogajournal.com/#_active-pass\" class=\"c-magazine-promo__cta o-button\" data-analytics-event=\"click\" data-analytics-data=\\'{\"name\": \"Element Clicked\", \"props\": {\"destination_url\": \"https://www.yogajournal.com/#_active-pass\", \"domain\": \"<<analytics_vars.domain>>\", \"name\": \"footer-print-subscribe\", \"type\": \"button\"}}\\'>Learn More</a>\\n                              </div>\\n                      </section>\\n\\n        \\n        <div class=\"c-main-footer__social\">\\n          <div class=\"c-utility-links\">\\n\\n  <a href=\"https://www.facebook.com/yogajournal\" class=\"c-utility-links__link o-icon o-icon--facebook u-icon--m\" data-analytics-event=\"click\" data-analytics-data=\\'{\"name\": \"Element Clicked\", \"props\": {\"domain\": \"<<analytics_vars.domain>>\", \"name\": \"social-profile-facebook\", \"type\": \"button\"}}\\' target=\"_blank\"><svg xmlns=\"http://www.w3.org/2000/svg\" viewBox=\"0 0 512 512\"><title>Facebook Icon</title><path d=\"M294.51,509.5V256h68.84l9-87.34H294.51l.12-43.73c0-22.83,2.16-35.08,34.36-35.08h43V2.5H303c-82.78,0-111.85,42.41-111.85,113.65v52.38H139.64V256H191.3V509.5Z\"/></svg>\\n</a>\\n\\n  <a href=\"https://twitter.com/yoga_journal\" class=\"c-utility-links__link o-icon o-icon--twitter u-icon--m\" data-analytics-event=\"click\" data-analytics-data=\\'{\"name\": \"Element Clicked\", \"props\": {\"domain\": \"<<analytics_vars.domain>>\", \"name\": \"social-profile-twitter\", \"type\": \"button\"}}\\' target=\"_blank\"><svg xmlns=\"http://www.w3.org/2000/svg\" viewBox=\"0 0 512 512\"><title>Twitter Icon</title><path d=\"M248.63,158.41l1.08,18-18.23-2.16C165,165.73,107,136.95,57.58,88.74l-24.11-24L27.24,82.38C14,121.84,22.44,163.57,49.91,191.51,64.42,207,61.18,209.26,36,200c-8.75-2.88-16.43-5.16-17.15-4.08-2.52,2.64,6.24,36.1,13.19,49.41,9.47,18.47,28.9,36.46,50.13,47.25L100,301l-21.23.36c-20.51,0-21.23.36-18.95,8.16,7.32,24,36.22,49.41,68.36,60.44l22.67,7.68L131.1,389.4a206.11,206.11,0,0,1-97.86,27.22c-16.43.36-30,1.8-30,3,0,3.72,44.61,24.35,70.52,32.5,77.83,24,170.18,13.67,239.62-27.34C362.68,395.63,412,337.71,435,281.7c12.35-29.86,24.83-84.43,24.83-110.57,0-16.91,1.08-19.19,21.59-39.46C493.53,119.92,504.8,107,507,103.25c3.6-7,3.24-7-15.35-.72-31.06,11-35.5,9.59-20.15-7,11.39-11.87,24.83-33.22,24.83-39.46,0-1.08-5.52.72-11.63,4.08-6.6,3.72-21.23,9.23-32.14,12.59L432.72,79,414.85,66.79c-9.83-6.6-23.75-14-31.06-16.19-18.59-5.16-47.13-4.44-63.92,1.44C274.18,68.83,245.39,111.52,248.63,158.41Z\"/></svg>\\n</a>\\n\\n  <a href=\"https://www.instagram.com/yogajournal/\" class=\"c-utility-links__link o-icon o-icon--instagram u-icon--m\" data-analytics-event=\"click\" data-analytics-data=\\'{\"name\": \"Element Clicked\", \"props\": {\"domain\": \"<<analytics_vars.domain>>\", \"name\": \"social-profile-instagram\", \"type\": \"button\"}}\\' target=\"_blank\"><svg xmlns=\"http://www.w3.org/2000/svg\" viewBox=\"0 0 512 512\"><title>Instagram Icon</title><path d=\"M256,49.47c67.27,0,75.23.26,101.8,1.47,24.56,1.12,37.9,5.22,46.78,8.67a78.05,78.05,0,0,1,29,18.84,78.05,78.05,0,0,1,18.84,29c3.45,8.88,7.55,22.22,8.67,46.78,1.21,26.56,1.47,34.53,1.47,101.8s-.26,75.23-1.47,101.8c-1.12,24.56-5.22,37.9-8.67,46.78a83.43,83.43,0,0,1-47.81,47.81c-8.88,3.45-22.22,7.55-46.78,8.67-26.56,1.21-34.53,1.47-101.8,1.47s-75.24-.26-101.8-1.47c-24.56-1.12-37.9-5.22-46.78-8.67a78.05,78.05,0,0,1-29-18.84,78.05,78.05,0,0,1-18.84-29c-3.45-8.88-7.55-22.22-8.67-46.78-1.21-26.56-1.47-34.53-1.47-101.8s.26-75.23,1.47-101.8c1.12-24.56,5.22-37.9,8.67-46.78a78.05,78.05,0,0,1,18.84-29,78.05,78.05,0,0,1,29-18.84c8.88-3.45,22.22-7.55,46.78-8.67,26.56-1.21,34.53-1.47,101.8-1.47m0-45.39c-68.42,0-77,.29-103.87,1.52S107,11.08,91,17.31A123.49,123.49,0,0,0,46.36,46.36,123.49,123.49,0,0,0,17.31,91C11.08,107,6.82,125.32,5.6,152.13S4.08,187.58,4.08,256s.29,77,1.52,103.87S11.08,405,17.31,421a123.49,123.49,0,0,0,29.06,44.62A123.49,123.49,0,0,0,91,494.7c16,6.23,34.34,10.49,61.15,11.71s35.45,1.52,103.87,1.52,77-.29,103.87-1.52S405,500.92,421,494.7A128.82,128.82,0,0,0,494.7,421c6.23-16,10.49-34.34,11.71-61.15s1.52-35.45,1.52-103.87-.29-77-1.52-103.87S500.92,107,494.7,91a123.49,123.49,0,0,0-29.06-44.62A123.49,123.49,0,0,0,421,17.31C405,11.08,386.68,6.82,359.87,5.6S324.42,4.08,256,4.08Z\"/><path d=\"M256,126.64A129.36,129.36,0,1,0,385.36,256,129.36,129.36,0,0,0,256,126.64ZM256,340a84,84,0,1,1,84-84A84,84,0,0,1,256,340Z\"/><circle cx=\"390.48\" cy=\"121.52\" r=\"30.23\"/></svg>\\n</a>\\n\\n  \\n  \\n</div>\\n        </div>\\n\\n        <nav class=\"c-main-footer__nav\" role=\"navigation\" aria-label=\"Footer Menu\">\\n                      <ul class=\"o-inline-list\" role=\"menubar\" aria-label=\"Footer Menu\">\\n                              <li><a class=\"o-rubric\" target=\"_blank\" role=\"menuitem\" tabindex=\"0\" href=\"https://www.pocketoutdoormedia.com/advertise/\" data-analytics-event=\"click\" data-analytics-data=\\'{\"name\": \"Element Clicked\", \"props\": {\"destination_url\": \"\", \"domain\": \"<<analytics_vars.domain>>\", \"name\": \"footer-menu\", \"type\": \"link\"}}\\'>Advertise</a></li>\\n                              <li><a class=\"o-rubric\" target=\"_blank\" role=\"menuitem\" tabindex=\"0\" href=\"https://www.pocketoutdoormedia.com/privacy-policy/\" data-analytics-event=\"click\" data-analytics-data=\\'{\"name\": \"Element Clicked\", \"props\": {\"destination_url\": \"\", \"domain\": \"<<analytics_vars.domain>>\", \"name\": \"footer-menu\", \"type\": \"link\"}}\\'>Privacy Policy</a></li>\\n                              <li><a class=\"o-rubric\" target=\"_blank\" role=\"menuitem\" tabindex=\"0\" href=\"https://www.pocketoutdoormedia.com/contact/\" data-analytics-event=\"click\" data-analytics-data=\\'{\"name\": \"Element Clicked\", \"props\": {\"destination_url\": \"\", \"domain\": \"<<analytics_vars.domain>>\", \"name\": \"footer-menu\", \"type\": \"link\"}}\\'>Contact</a></li>\\n                              <li><a class=\"o-rubric\" target=\"_blank\" role=\"menuitem\" tabindex=\"0\" href=\"https://www.pocketoutdoormedia.com/jobs/\" data-analytics-event=\"click\" data-analytics-data=\\'{\"name\": \"Element Clicked\", \"props\": {\"destination_url\": \"\", \"domain\": \"<<analytics_vars.domain>>\", \"name\": \"footer-menu\", \"type\": \"link\"}}\\'>Careers</a></li>\\n                            <li class=\"cookie-settings\">\\n                <!-- OneTrust Cookies Settings button start -->\\n                <button class=\"o-rubric\">\\n                  <a class=\"ot-sdk-show-settings\">Cookie Settings</a>\\n                </button>\\n                <!-- OneTrust Cookies Settings button end -->\\n              </li>\\n             </ul>\\n                  </nav>\\n\\n      </div>\\n    \\n  </div>\\n\\n      <div class=\"c-main-footer__lower u-background-color--black\">\\n      <div bp=\"container\" class=\"l-wrap u-spacing--double\">\\n                  <div class=\"o-image-carousel glide js-glide\">\\n            <div class=\"glide__track\" data-glide-el=\"track\">\\n              <ul class=\"glide__slides\">\\n                                                    <li class=\"glide__slide\">\\n                                          <a href=\"https://www.yogajournal.com/\" data-href-is-logged-in=\"https://www.yogajournal.com/?h=y\" target=\"_blank\" data-analytics-event=\"click\" data-analytics-data=\\'{\"name\": \"Element Clicked\", \"props\": {\"destination_url\": \"https://www.yogajournal.com/\", \"domain\": \"<<analytics_vars.domain>>\", \"name\": \"footer-carousel\", \"type\": \"link\"}}\\'>\\n                        <img src=\"https://www.yogajournal.com/wp-content/uploads/2021/01/yoga-journal.svg?width=150\" alt=\"\" />\\n                      </a>\\n                                      </li>\\n                                                    <li class=\"glide__slide\">\\n                                          <a href=\"https://www.backpacker.com/\" data-href-is-logged-in=\"https://www.backpacker.com/?h=y\" target=\"_blank\" data-analytics-event=\"click\" data-analytics-data=\\'{\"name\": \"Element Clicked\", \"props\": {\"destination_url\": \"https://www.backpacker.com/\", \"domain\": \"<<analytics_vars.domain>>\", \"name\": \"footer-carousel\", \"type\": \"link\"}}\\'>\\n                        <img src=\"https://www.yogajournal.com/wp-content/uploads/2021/01/backpacker.svg?width=150\" alt=\"\" />\\n                      </a>\\n                                      </li>\\n                                                    <li class=\"glide__slide\">\\n                                          <a href=\"https://www.betamtb.com/\" data-href-is-logged-in=\"https://www.betamtb.com/?h=y\" target=\"_blank\" data-analytics-event=\"click\" data-analytics-data=\\'{\"name\": \"Element Clicked\", \"props\": {\"destination_url\": \"https://www.betamtb.com/\", \"domain\": \"<<analytics_vars.domain>>\", \"name\": \"footer-carousel\", \"type\": \"link\"}}\\'>\\n                        <img src=\"https://www.yogajournal.com/wp-content/uploads/2021/02/beta-mtb.svg?width=150\" alt=\"\" />\\n                      </a>\\n                                      </li>\\n                                                    <li class=\"glide__slide\">\\n                                          <a href=\"https://www.betternutrition.com/\" data-href-is-logged-in=\"https://www.betternutrition.com/?h=y\" target=\"_blank\" data-analytics-event=\"click\" data-analytics-data=\\'{\"name\": \"Element Clicked\", \"props\": {\"destination_url\": \"https://www.betternutrition.com/\", \"domain\": \"<<analytics_vars.domain>>\", \"name\": \"footer-carousel\", \"type\": \"link\"}}\\'>\\n                        <img src=\"https://www.yogajournal.com/wp-content/uploads/2021/01/better-nutrition.svg?width=150\" alt=\"\" />\\n                      </a>\\n                                      </li>\\n                                                    <li class=\"glide__slide\">\\n                                          <a href=\"https://www.bicycleretailer.com/\" data-href-is-logged-in=\"https://www.bicycleretailer.com/?h=y\" target=\"_blank\" data-analytics-event=\"click\" data-analytics-data=\\'{\"name\": \"Element Clicked\", \"props\": {\"destination_url\": \"https://www.bicycleretailer.com/\", \"domain\": \"<<analytics_vars.domain>>\", \"name\": \"footer-carousel\", \"type\": \"link\"}}\\'>\\n                        <img src=\"https://www.yogajournal.com/wp-content/uploads/2021/01/BRAIN.svg?width=150\" alt=\"\" />\\n                      </a>\\n                                      </li>\\n                                                    <li class=\"glide__slide\">\\n                                          <a href=\"https://www.cleaneatingmag.com/\" data-href-is-logged-in=\"https://www.cleaneatingmag.com/?h=y\" target=\"_blank\" data-analytics-event=\"click\" data-analytics-data=\\'{\"name\": \"Element Clicked\", \"props\": {\"destination_url\": \"https://www.cleaneatingmag.com/\", \"domain\": \"<<analytics_vars.domain>>\", \"name\": \"footer-carousel\", \"type\": \"link\"}}\\'>\\n                        <img src=\"https://www.yogajournal.com/wp-content/uploads/2021/01/clean-eating.svg?width=150\" alt=\"\" />\\n                      </a>\\n                                      </li>\\n                                                    <li class=\"glide__slide\">\\n                                          <a href=\"https://www.climbing.com/\" data-href-is-logged-in=\"https://www.climbing.com/?h=y\" target=\"_blank\" data-analytics-event=\"click\" data-analytics-data=\\'{\"name\": \"Element Clicked\", \"props\": {\"destination_url\": \"https://www.climbing.com/\", \"domain\": \"<<analytics_vars.domain>>\", \"name\": \"footer-carousel\", \"type\": \"link\"}}\\'>\\n                        <img src=\"https://www.yogajournal.com/wp-content/uploads/2021/01/climbing.svg?width=150\" alt=\"\" />\\n                      </a>\\n                                      </li>\\n                                                    <li class=\"glide__slide\">\\n                                          <a href=\"https://www.muscleandperformance.com/\" data-href-is-logged-in=\"https://www.muscleandperformance.com/?h=y\" target=\"_blank\" data-analytics-event=\"click\" data-analytics-data=\\'{\"name\": \"Element Clicked\", \"props\": {\"destination_url\": \"https://www.muscleandperformance.com/\", \"domain\": \"<<analytics_vars.domain>>\", \"name\": \"footer-carousel\", \"type\": \"link\"}}\\'>\\n                        <img src=\"https://www.yogajournal.com/wp-content/uploads/2021/01/mp.svg?width=150\" alt=\"\" />\\n                      </a>\\n                                      </li>\\n                                                    <li class=\"glide__slide\">\\n                                          <a href=\"https://thenaturx.com/\" data-href-is-logged-in=\"https://thenaturx.com/?h=y\" target=\"_blank\" data-analytics-event=\"click\" data-analytics-data=\\'{\"name\": \"Element Clicked\", \"props\": {\"destination_url\": \"https://thenaturx.com/\", \"domain\": \"<<analytics_vars.domain>>\", \"name\": \"footer-carousel\", \"type\": \"link\"}}\\'>\\n                        <img src=\"https://www.yogajournal.com/wp-content/uploads/2021/01/naturx.svg?width=150\" alt=\"\" />\\n                      </a>\\n                                      </li>\\n                                                    <li class=\"glide__slide\">\\n                                          <a href=\"https://www.nationalparktripsmedia.com/\" data-href-is-logged-in=\"https://www.nationalparktripsmedia.com/?h=y\" target=\"_blank\" data-analytics-event=\"click\" data-analytics-data=\\'{\"name\": \"Element Clicked\", \"props\": {\"destination_url\": \"https://www.nationalparktripsmedia.com/\", \"domain\": \"<<analytics_vars.domain>>\", \"name\": \"footer-carousel\", \"type\": \"link\"}}\\'>\\n                        <img src=\"https://www.yogajournal.com/wp-content/uploads/2021/01/NPT.svg?width=150\" alt=\"\" />\\n                      </a>\\n                                      </li>\\n                                                    <li class=\"glide__slide\">\\n                                          <a href=\"https://www.outsideonline.com/\" data-href-is-logged-in=\"https://www.outsideonline.com/?h=y\" target=\"_blank\" data-analytics-event=\"click\" data-analytics-data=\\'{\"name\": \"Element Clicked\", \"props\": {\"destination_url\": \"https://www.outsideonline.com/\", \"domain\": \"<<analytics_vars.domain>>\", \"name\": \"footer-carousel\", \"type\": \"link\"}}\\'>\\n                        <img src=\"https://www.yogajournal.com/wp-content/uploads/2021/02/outside.svg?width=150\" alt=\"\" />\\n                      </a>\\n                                      </li>\\n                                                    <li class=\"glide__slide\">\\n                                          <a href=\"https://www.oxygenmag.com/\" data-href-is-logged-in=\"https://www.oxygenmag.com/?h=y\" target=\"_blank\" data-analytics-event=\"click\" data-analytics-data=\\'{\"name\": \"Element Clicked\", \"props\": {\"destination_url\": \"https://www.oxygenmag.com/\", \"domain\": \"<<analytics_vars.domain>>\", \"name\": \"footer-carousel\", \"type\": \"link\"}}\\'>\\n                        <img src=\"https://www.yogajournal.com/wp-content/uploads/2021/01/oxygen.svg?width=150\" alt=\"\" />\\n                      </a>\\n                                      </li>\\n                                                    <li class=\"glide__slide\">\\n                                          <a href=\"https://www.podiumrunner.com/\" data-href-is-logged-in=\"https://www.podiumrunner.com/?h=y\" target=\"_blank\" data-analytics-event=\"click\" data-analytics-data=\\'{\"name\": \"Element Clicked\", \"props\": {\"destination_url\": \"https://www.podiumrunner.com/\", \"domain\": \"<<analytics_vars.domain>>\", \"name\": \"footer-carousel\", \"type\": \"link\"}}\\'>\\n                        <img src=\"https://www.yogajournal.com/wp-content/uploads/2021/01/podiumrunner.svg?width=150\" alt=\"\" />\\n                      </a>\\n                                      </li>\\n                                                    <li class=\"glide__slide\">\\n                                          <a href=\"https://www.rollmassif.com/\" data-href-is-logged-in=\"https://www.rollmassif.com/?h=y\" target=\"_blank\" data-analytics-event=\"click\" data-analytics-data=\\'{\"name\": \"Element Clicked\", \"props\": {\"destination_url\": \"https://www.rollmassif.com/\", \"domain\": \"<<analytics_vars.domain>>\", \"name\": \"footer-carousel\", \"type\": \"link\"}}\\'>\\n                        <img src=\"https://www.yogajournal.com/wp-content/uploads/2021/01/Roll-Massif.svg?width=150\" alt=\"\" />\\n                      </a>\\n                                      </li>\\n                                                    <li class=\"glide__slide\">\\n                                          <a href=\"https://www.skimag.com/\" data-href-is-logged-in=\"https://www.skimag.com/?h=y\" target=\"_blank\" data-analytics-event=\"click\" data-analytics-data=\\'{\"name\": \"Element Clicked\", \"props\": {\"destination_url\": \"https://www.skimag.com/\", \"domain\": \"<<analytics_vars.domain>>\", \"name\": \"footer-carousel\", \"type\": \"link\"}}\\'>\\n                        <img src=\"https://www.yogajournal.com/wp-content/uploads/2021/01/ski.svg?width=150\" alt=\"\" />\\n                      </a>\\n                                      </li>\\n                                                    <li class=\"glide__slide\">\\n                                          <a href=\"https://www.snewsnet.com/\" data-href-is-logged-in=\"https://www.snewsnet.com/?h=y\" target=\"_blank\" data-analytics-event=\"click\" data-analytics-data=\\'{\"name\": \"Element Clicked\", \"props\": {\"destination_url\": \"https://www.snewsnet.com/\", \"domain\": \"<<analytics_vars.domain>>\", \"name\": \"footer-carousel\", \"type\": \"link\"}}\\'>\\n                        <img src=\"https://www.yogajournal.com/wp-content/uploads/2021/01/SNEWS.svg?width=150\" alt=\"\" />\\n                      </a>\\n                                      </li>\\n                                                    <li class=\"glide__slide\">\\n                                          <a href=\"https://www.theboxmag.com/\" data-href-is-logged-in=\"https://www.theboxmag.com/?h=y\" target=\"_blank\" data-analytics-event=\"click\" data-analytics-data=\\'{\"name\": \"Element Clicked\", \"props\": {\"destination_url\": \"https://www.theboxmag.com/\", \"domain\": \"<<analytics_vars.domain>>\", \"name\": \"footer-carousel\", \"type\": \"link\"}}\\'>\\n                        <img src=\"https://www.yogajournal.com/wp-content/uploads/2021/01/the-box.svg?width=150\" alt=\"\" />\\n                      </a>\\n                                      </li>\\n                                                    <li class=\"glide__slide\">\\n                                          <a href=\"https://www.triathlete.com/\" data-href-is-logged-in=\"https://www.triathlete.com/?h=y\" target=\"_blank\" data-analytics-event=\"click\" data-analytics-data=\\'{\"name\": \"Element Clicked\", \"props\": {\"destination_url\": \"https://www.triathlete.com/\", \"domain\": \"<<analytics_vars.domain>>\", \"name\": \"footer-carousel\", \"type\": \"link\"}}\\'>\\n                        <img src=\"https://www.yogajournal.com/wp-content/uploads/2021/01/triathlete.svg?width=150\" alt=\"\" />\\n                      </a>\\n                                      </li>\\n                                                    <li class=\"glide__slide\">\\n                                          <a href=\"https://www.vegetariantimes.com/\" data-href-is-logged-in=\"https://www.vegetariantimes.com/?h=y\" target=\"_blank\" data-analytics-event=\"click\" data-analytics-data=\\'{\"name\": \"Element Clicked\", \"props\": {\"destination_url\": \"https://www.vegetariantimes.com/\", \"domain\": \"<<analytics_vars.domain>>\", \"name\": \"footer-carousel\", \"type\": \"link\"}}\\'>\\n                        <img src=\"https://www.yogajournal.com/wp-content/uploads/2021/01/vegetarian-times.svg?width=150\" alt=\"\" />\\n                      </a>\\n                                      </li>\\n                                                    <li class=\"glide__slide\">\\n                                          <a href=\"https://www.velonews.com/\" data-href-is-logged-in=\"https://www.velonews.com/?h=y\" target=\"_blank\" data-analytics-event=\"click\" data-analytics-data=\\'{\"name\": \"Element Clicked\", \"props\": {\"destination_url\": \"https://www.velonews.com/\", \"domain\": \"<<analytics_vars.domain>>\", \"name\": \"footer-carousel\", \"type\": \"link\"}}\\'>\\n                        <img src=\"https://www.yogajournal.com/wp-content/uploads/2021/01/velonews.svg?width=150\" alt=\"\" />\\n                      </a>\\n                                      </li>\\n                                                    <li class=\"glide__slide\">\\n                                          <a href=\"https://www.velopress.com/\" data-href-is-logged-in=\"https://www.velopress.com/?h=y\" target=\"_blank\" data-analytics-event=\"click\" data-analytics-data=\\'{\"name\": \"Element Clicked\", \"props\": {\"destination_url\": \"https://www.velopress.com/\", \"domain\": \"<<analytics_vars.domain>>\", \"name\": \"footer-carousel\", \"type\": \"link\"}}\\'>\\n                        <img src=\"https://www.yogajournal.com/wp-content/uploads/2021/01/velopress.svg?width=150\" alt=\"\" />\\n                      </a>\\n                                      </li>\\n                                                    <li class=\"glide__slide\">\\n                                          <a href=\"https://www.womensrunning.com/\" data-href-is-logged-in=\"https://www.womensrunning.com/?h=y\" target=\"_blank\" data-analytics-event=\"click\" data-analytics-data=\\'{\"name\": \"Element Clicked\", \"props\": {\"destination_url\": \"https://www.womensrunning.com/\", \"domain\": \"<<analytics_vars.domain>>\", \"name\": \"footer-carousel\", \"type\": \"link\"}}\\'>\\n                        <img src=\"https://www.yogajournal.com/wp-content/uploads/2021/01/womensrunning.svg?width=150\" alt=\"\" />\\n                      </a>\\n                                      </li>\\n                              </ul>\\n            </div>\\n            <nav class=\"glide__arrows\" data-glide-el=\"controls\">\\n              <button class=\"glide__arrow glide__arrow--left\" data-glide-dir=\"<\"><svg xmlns=\"http://www.w3.org/2000/svg\" viewBox=\"0 0 30 30\"><polygon points=\"22.1 -0.01 23.38 1.24 9.13 15.02 23.4 28.81 22.09 29.99 6.59 15.02 22.1 -0.01\"/></svg>\\n</button>\\n              <button class=\"glide__arrow glide__arrow--right\" data-glide-dir=\">\"><svg xmlns=\"http://www.w3.org/2000/svg\" viewBox=\"0 0 30 30\"><polygon points=\"7.89 -0.01 6.6 1.24 20.86 15.02 6.59 28.81 7.9 29.99 23.4 15.02 7.89 -0.01\"/></svg>\\n</button>\\n            </nav>\\n          </div>\\n        \\n        <p class=\"u-color--gray u-font--xs u-letter-spacing--1 u-font--primary\">&copy; 2021 Pocket Outdoor Media Inc. All Rights Reserved.</p>\\n      </div>\\n\\n    </div>\\n\\n  \\n</footer>\\n    \\n\\n<!-- START Parse.ly Include: Standard -->\\n\\n<script data-cfasync=\"false\" id=\"parsely-cfg\" data-parsely-site=\"yogajournal.com\" src=\"//cdn.parsely.com/keys/yogajournal.com/p.js\"></script>\\n\\n<!-- END Parse.ly Include: Standard -->\\n<script type=\\'text/javascript\\' src=\\'https://www.yogajournal.com/wp-content/themes/yogajournal-child/dist/scripts/main_2520b05b.js\\' id=\\'sage/main.js-js\\'></script>\\n<script type=\\'text/javascript\\' src=\\'https://www.yogajournal.com/wp-includes/js/wp-embed.min.js?ver=5.6.2\\' id=\\'wp-embed-js\\'></script>\\n\\n  <script type=\"text/javascript\">window.NREUM||(NREUM={});NREUM.info={\"beacon\":\"bam.nr-data.net\",\"licenseKey\":\"NRJS-48b9ed1c0b517b29335\",\"applicationID\":\"882436314\",\"transactionName\":\"ZlRSYhNZWBBVW0EKWV8eZUQIFxkKWlxQGxhBWUA=\",\"queueTime\":0,\"applicationTime\":822,\"atts\":\"ShNRFFtDSx4=\",\"errorBeacon\":\"bam.nr-data.net\",\"agent\":\"\"}</script></body>\\n</html>\\n'"
            ]
          },
          "metadata": {
            "tags": []
          },
          "execution_count": 4
        }
      ]
    },
    {
      "cell_type": "code",
      "metadata": {
        "colab": {
          "base_uri": "https://localhost:8080/",
          "height": 273
        },
        "id": "gu-uUrU5u6Gb",
        "outputId": "e83fe156-6c76-4eb0-e54c-70bf46ee4e83"
      },
      "source": [
        "text = html_page.split('<p>')[1:4]\n",
        "text = ' '.join(map(str, text))\n",
        "text"
      ],
      "execution_count": null,
      "outputs": [
        {
          "output_type": "execute_result",
          "data": {
            "application/vnd.google.colaboratory.intrinsic+json": {
              "type": "string"
            },
            "text/plain": [
              "'Whether it’s yet another video of a police altercation gone wrong or alerts about the latest mass shooting, we face a seemingly unrelenting deluge of disturbing news in our media feeds, timelines, and DMs on a daily basis. And it&#8217;s wearing us down.</p>\\n About two-thirds of Americans say they&#8217;re worn out by the amount of news that&#8217;s coming at them, according to a<a href=\"https://www.pewresearch.org/fact-tank/2020/02/26/almost-seven-in-ten-americans-have-news-fatigue-more-among-republicans/\" target=\"_blank\" rel=\"noopener\"> Pew Research Center study</a>. The 24-hour news cycle is not just exhausting; it can be traumatic—so much so that researchers believe <a href=\"https://www.dailymail.co.uk/health/article-3071103/Online-videos-cause-post-traumatic-stress-disorder.html#ixzz4hwcU8bKf\" target=\"_blank\" rel=\"noopener\">watching violent videos</a> causes symptoms of post-traumatic stress disorder (PTSD). Even people who view videos of merely confrontational situations suffer, according to the Dr. Margo Jacquot, founder of<a href=\"https://www.thejunipercenter.com/\" target=\"_blank\" rel=\"noopener\"> the Juniper Center</a>, a Chicago-area counseling agency.</p>\\n “Trauma responses are a result of the brain’s emergency response system getting stuck in the <em>on</em> position,” she <a href=\"https://www.thejunipercenter.com/1099-2/\" target=\"_blank\" rel=\"noopener\">writes</a>. “Graphic images of horrific events come to us across television and social media in real time. Some people may experience vicarious trauma.&#8221; If we&#8217;ve experienced trauma first-hand, witnessed a trauma in real-life, or had something traumatic happened to someone we&#8217;re close to, watching violent images cause us to “re-live” the experience.</p>\\n'"
            ]
          },
          "metadata": {
            "tags": []
          },
          "execution_count": 8
        }
      ]
    },
    {
      "cell_type": "code",
      "metadata": {
        "colab": {
          "base_uri": "https://localhost:8080/",
          "height": 171
        },
        "id": "_t_2L58AvTs8",
        "outputId": "7af81f1a-edef-4148-fca4-ea52f0f9457b"
      },
      "source": [
        "translated_text = model.translate(text, target_lang='ru',  beam_size=20)\n",
        "translated_text"
      ],
      "execution_count": null,
      "outputs": [
        {
          "output_type": "execute_result",
          "data": {
            "application/vnd.google.colaboratory.intrinsic+json": {
              "type": "string"
            },
            "text/plain": [
              "'Будь то еще одно видео полицейского столкновения, которое пошло не так, или предупреждения о последней массовой стрельбе, мы ежедневно сталкиваемся с, казалось бы, неустанным потоком тревожных новостей в наших средствах массовой информации, расписаниях и СМИ. И это&#8217;s носить нас вниз.</p>\\n Около двух третей американцев говорят, что они исчерпаны количеством новостей, которые приходят к ним, согласно <a href=\"https://www.pewresearch.org/fact-tank/2020/02/26/almost-seven-in-ten-Americans-have-news-fatigue-more-among-republicans/\" target=\"_blank\" rel=\"noopener\"> исследование Pew Research Center</a>. 24-часовой цикл новостей не просто истощает; он может быть травматичным — настолько, что исследователи считают <a href=\"https://www.dailymail.co.uk/health/article-3071103/Online-videos-cause-post-traumatic-stress-disorder.html#ixzz4hwcU8bKf\" target=\"_blank\" rel=\"noopener\">просмотр насильственных видео</a> вызывает симптомы посттравматического стрессового расстройства (ПТСР). Даже люди, которые смотрят видео просто конфронтационных ситуаций, страдают, по словам доктора Марго Джакоута, основателя <a href=\"https://www.thejunipercenter.com/\" target=\"_blank\" rel=\"noopener\"> Juniper Center</a>, консультационного агентства в Чикаго.</p>\\n «Ответы на травмы являются результатом того, что система реагирования на чрезвычайные ситуации мозга застряла в положении <em>on</em>», — пишет она <a href=\"https://www.thejunipercenter.com/1099-2/\" target=\"_blank\" rel=\"noopener\">. «Графические изображения ужасных событий приходят к нам через телевидение и социальные сети в реальном времени. Некоторые люди могут испытывать викарийную травму.&#8217;Если мы пережили травму из первых рук, стали свидетелями травмы в реальной жизни, или случилось что-то травматическое с кем-то, с кем мы рядом, просмотр насильственных изображений заставляет нас «пережить» опыт.</p>\\n'"
            ]
          },
          "metadata": {
            "tags": []
          },
          "execution_count": 9
        }
      ]
    },
    {
      "cell_type": "markdown",
      "metadata": {
        "id": "XihnG9cvoteW"
      },
      "source": [
        "# Добавление данных в WP"
      ]
    },
    {
      "cell_type": "markdown",
      "metadata": {
        "id": "8vuFcelpapow"
      },
      "source": [
        "## Через REST API"
      ]
    },
    {
      "cell_type": "code",
      "metadata": {
        "colab": {
          "base_uri": "https://localhost:8080/"
        },
        "id": "vcBTlGaJo9NN",
        "outputId": "372e7588-f265-4b71-d43c-35620bb1528b"
      },
      "source": [
        "import base64\n",
        "from datetime import datetime\n",
        "\n",
        "base_url = 'https://tyumile-joomla.myjino.ru/wp-json/wp/v2'\n",
        "user = 'tyumile'\n",
        "password = 'dKua 6Wuq LxsT 5C5i 7vho 6gRL'\n",
        "creds = user + ':' + password\n",
        "token = base64.b64encode(creds.encode())\n",
        "header = {'Authorization':'Basic' + token.decode('utf-8')}\n",
        "post = {\n",
        "    # 'date': \"2021-11-08 03:01:46\",\n",
        "    # 'id':'9',\n",
        "    'title':'Newnewnew 4444',\n",
        "    'content':'My first API post contentf f sdf s ',\n",
        "    # 'tags':['AI', 'DS'],\n",
        "    # 'status': 'publish',\n",
        "    # 'User-Agent':'test',\n",
        "    'author': '1'\n",
        "}\n",
        "\n",
        "\n",
        "r = requests.post(base_url + '/posts', headers = header, json = post, verify=False)\n",
        "print(r.text)"
      ],
      "execution_count": null,
      "outputs": [
        {
          "output_type": "stream",
          "text": [
            "/usr/local/lib/python3.7/dist-packages/urllib3/connectionpool.py:847: InsecureRequestWarning: Unverified HTTPS request is being made. Adding certificate verification is strongly advised. See: https://urllib3.readthedocs.io/en/latest/advanced-usage.html#ssl-warnings\n",
            "  InsecureRequestWarning)\n"
          ],
          "name": "stderr"
        },
        {
          "output_type": "stream",
          "text": [
            "[{\"id\":11,\"date\":\"2021-04-29T13:50:26\",\"date_gmt\":\"2021-04-29T10:50:26\",\"guid\":{\"rendered\":\"http:\\/\\/tyumile-joomla.myjino.ru\\/?p=11\"},\"modified\":\"2021-04-29T13:50:26\",\"modified_gmt\":\"2021-04-29T10:50:26\",\"slug\":\"53w45w3\",\"status\":\"publish\",\"type\":\"post\",\"link\":\"http:\\/\\/tyumile-joomla.myjino.ru\\/2021\\/04\\/29\\/53w45w3\\/\",\"title\":{\"rendered\":\"53w45w3\"},\"content\":{\"rendered\":\"\\n<p>45sgsdfgsg<\\/p>\\n\",\"protected\":false},\"excerpt\":{\"rendered\":\"<p>45sgsdfgsg<\\/p>\\n\",\"protected\":false},\"author\":1,\"featured_media\":0,\"comment_status\":\"open\",\"ping_status\":\"open\",\"sticky\":false,\"template\":\"\",\"format\":\"standard\",\"meta\":[],\"categories\":[1],\"tags\":[],\"_links\":{\"self\":[{\"href\":\"http:\\/\\/tyumile-joomla.myjino.ru\\/wp-json\\/wp\\/v2\\/posts\\/11\"}],\"collection\":[{\"href\":\"http:\\/\\/tyumile-joomla.myjino.ru\\/wp-json\\/wp\\/v2\\/posts\"}],\"about\":[{\"href\":\"http:\\/\\/tyumile-joomla.myjino.ru\\/wp-json\\/wp\\/v2\\/types\\/post\"}],\"author\":[{\"embeddable\":true,\"href\":\"http:\\/\\/tyumile-joomla.myjino.ru\\/wp-json\\/wp\\/v2\\/users\\/1\"}],\"replies\":[{\"embeddable\":true,\"href\":\"http:\\/\\/tyumile-joomla.myjino.ru\\/wp-json\\/wp\\/v2\\/comments?post=11\"}],\"version-history\":[{\"count\":1,\"href\":\"http:\\/\\/tyumile-joomla.myjino.ru\\/wp-json\\/wp\\/v2\\/posts\\/11\\/revisions\"}],\"predecessor-version\":[{\"id\":12,\"href\":\"http:\\/\\/tyumile-joomla.myjino.ru\\/wp-json\\/wp\\/v2\\/posts\\/11\\/revisions\\/12\"}],\"wp:attachment\":[{\"href\":\"http:\\/\\/tyumile-joomla.myjino.ru\\/wp-json\\/wp\\/v2\\/media?parent=11\"}],\"wp:term\":[{\"taxonomy\":\"category\",\"embeddable\":true,\"href\":\"http:\\/\\/tyumile-joomla.myjino.ru\\/wp-json\\/wp\\/v2\\/categories?post=11\"},{\"taxonomy\":\"post_tag\",\"embeddable\":true,\"href\":\"http:\\/\\/tyumile-joomla.myjino.ru\\/wp-json\\/wp\\/v2\\/tags?post=11\"}],\"curies\":[{\"name\":\"wp\",\"href\":\"https:\\/\\/api.w.org\\/{rel}\",\"templated\":true}]}},{\"id\":9,\"date\":\"2021-04-29T13:45:57\",\"date_gmt\":\"2021-04-29T10:45:57\",\"guid\":{\"rendered\":\"http:\\/\\/tyumile-joomla.myjino.ru\\/?p=9\"},\"modified\":\"2021-04-29T13:45:57\",\"modified_gmt\":\"2021-04-29T10:45:57\",\"slug\":\"gsfgsdfg\",\"status\":\"publish\",\"type\":\"post\",\"link\":\"http:\\/\\/tyumile-joomla.myjino.ru\\/2021\\/04\\/29\\/gsfgsdfg\\/\",\"title\":{\"rendered\":\"gsfgsdfg\"},\"content\":{\"rendered\":\"\\n<p>gsgsfgsdfgs fg serg ser <\\/p>\\n\",\"protected\":false},\"excerpt\":{\"rendered\":\"<p>gsgsfgsdfgs fg serg ser<\\/p>\\n\",\"protected\":false},\"author\":1,\"featured_media\":0,\"comment_status\":\"open\",\"ping_status\":\"open\",\"sticky\":false,\"template\":\"\",\"format\":\"standard\",\"meta\":[],\"categories\":[1],\"tags\":[],\"_links\":{\"self\":[{\"href\":\"http:\\/\\/tyumile-joomla.myjino.ru\\/wp-json\\/wp\\/v2\\/posts\\/9\"}],\"collection\":[{\"href\":\"http:\\/\\/tyumile-joomla.myjino.ru\\/wp-json\\/wp\\/v2\\/posts\"}],\"about\":[{\"href\":\"http:\\/\\/tyumile-joomla.myjino.ru\\/wp-json\\/wp\\/v2\\/types\\/post\"}],\"author\":[{\"embeddable\":true,\"href\":\"http:\\/\\/tyumile-joomla.myjino.ru\\/wp-json\\/wp\\/v2\\/users\\/1\"}],\"replies\":[{\"embeddable\":true,\"href\":\"http:\\/\\/tyumile-joomla.myjino.ru\\/wp-json\\/wp\\/v2\\/comments?post=9\"}],\"version-history\":[{\"count\":1,\"href\":\"http:\\/\\/tyumile-joomla.myjino.ru\\/wp-json\\/wp\\/v2\\/posts\\/9\\/revisions\"}],\"predecessor-version\":[{\"id\":10,\"href\":\"http:\\/\\/tyumile-joomla.myjino.ru\\/wp-json\\/wp\\/v2\\/posts\\/9\\/revisions\\/10\"}],\"wp:attachment\":[{\"href\":\"http:\\/\\/tyumile-joomla.myjino.ru\\/wp-json\\/wp\\/v2\\/media?parent=9\"}],\"wp:term\":[{\"taxonomy\":\"category\",\"embeddable\":true,\"href\":\"http:\\/\\/tyumile-joomla.myjino.ru\\/wp-json\\/wp\\/v2\\/categories?post=9\"},{\"taxonomy\":\"post_tag\",\"embeddable\":true,\"href\":\"http:\\/\\/tyumile-joomla.myjino.ru\\/wp-json\\/wp\\/v2\\/tags?post=9\"}],\"curies\":[{\"name\":\"wp\",\"href\":\"https:\\/\\/api.w.org\\/{rel}\",\"templated\":true}]}}]\n"
          ],
          "name": "stdout"
        }
      ]
    },
    {
      "cell_type": "code",
      "metadata": {
        "id": "Jkja-jymI4I-"
      },
      "source": [
        "# JWC\n",
        "\n",
        "import base64\n",
        "from datetime import datetime\n",
        "\n",
        "base_url = 'http://tyumile-joomla.myjino.ru//wp-json/jwt-auth/v1/token'\n",
        "user = 'tyumile'\n",
        "password = 'secretkey'\n",
        "creds = user + ':' + password\n",
        "token = base64.b64encode(creds.encode())\n",
        "header = {'Authorization':'Basic' + token.decode('utf-8')}\n",
        "# header = {'username':'tyumile','password':'12131415'}\n",
        "post = {\n",
        "    # 'date': \"2021-11-08 03:01:46\",\n",
        "    # 'id':'9',\n",
        "    'title':'Changed hd ',\n",
        "    'content':'My first API post contentf f sdf s ',\n",
        "    # 'tags':['AI', 'DS'],\n",
        "    # 'status': 'publish',\n",
        "    # 'User-Agent':'test',\n",
        "    'author': '1'\n",
        "}\n",
        "\n",
        "\n",
        "r = requests.post(base_url, headers = header, json = post)\n",
        "print(r)"
      ],
      "execution_count": null,
      "outputs": []
    },
    {
      "cell_type": "code",
      "metadata": {
        "colab": {
          "base_uri": "https://localhost:8080/",
          "height": 358
        },
        "id": "m1ZVZaAcyTJz",
        "outputId": "12af7712-2b91-405d-a304-4f83049e98b7"
      },
      "source": [
        "r.text"
      ],
      "execution_count": null,
      "outputs": [
        {
          "output_type": "execute_result",
          "data": {
            "application/vnd.google.colaboratory.intrinsic+json": {
              "type": "string"
            },
            "text/plain": [
              "'[{\"id\":11,\"date\":\"2021-04-29T13:50:26\",\"date_gmt\":\"2021-04-29T10:50:26\",\"guid\":{\"rendered\":\"http:\\\\/\\\\/tyumile-joomla.myjino.ru\\\\/?p=11\"},\"modified\":\"2021-04-29T13:50:26\",\"modified_gmt\":\"2021-04-29T10:50:26\",\"slug\":\"53w45w3\",\"status\":\"publish\",\"type\":\"post\",\"link\":\"http:\\\\/\\\\/tyumile-joomla.myjino.ru\\\\/2021\\\\/04\\\\/29\\\\/53w45w3\\\\/\",\"title\":{\"rendered\":\"53w45w3\"},\"content\":{\"rendered\":\"\\\\n<p>45sgsdfgsg<\\\\/p>\\\\n\",\"protected\":false},\"excerpt\":{\"rendered\":\"<p>45sgsdfgsg<\\\\/p>\\\\n\",\"protected\":false},\"author\":1,\"featured_media\":0,\"comment_status\":\"open\",\"ping_status\":\"open\",\"sticky\":false,\"template\":\"\",\"format\":\"standard\",\"meta\":[],\"categories\":[1],\"tags\":[],\"_links\":{\"self\":[{\"href\":\"http:\\\\/\\\\/tyumile-joomla.myjino.ru\\\\/wp-json\\\\/wp\\\\/v2\\\\/posts\\\\/11\"}],\"collection\":[{\"href\":\"http:\\\\/\\\\/tyumile-joomla.myjino.ru\\\\/wp-json\\\\/wp\\\\/v2\\\\/posts\"}],\"about\":[{\"href\":\"http:\\\\/\\\\/tyumile-joomla.myjino.ru\\\\/wp-json\\\\/wp\\\\/v2\\\\/types\\\\/post\"}],\"author\":[{\"embeddable\":true,\"href\":\"http:\\\\/\\\\/tyumile-joomla.myjino.ru\\\\/wp-json\\\\/wp\\\\/v2\\\\/users\\\\/1\"}],\"replies\":[{\"embeddable\":true,\"href\":\"http:\\\\/\\\\/tyumile-joomla.myjino.ru\\\\/wp-json\\\\/wp\\\\/v2\\\\/comments?post=11\"}],\"version-history\":[{\"count\":1,\"href\":\"http:\\\\/\\\\/tyumile-joomla.myjino.ru\\\\/wp-json\\\\/wp\\\\/v2\\\\/posts\\\\/11\\\\/revisions\"}],\"predecessor-version\":[{\"id\":12,\"href\":\"http:\\\\/\\\\/tyumile-joomla.myjino.ru\\\\/wp-json\\\\/wp\\\\/v2\\\\/posts\\\\/11\\\\/revisions\\\\/12\"}],\"wp:attachment\":[{\"href\":\"http:\\\\/\\\\/tyumile-joomla.myjino.ru\\\\/wp-json\\\\/wp\\\\/v2\\\\/media?parent=11\"}],\"wp:term\":[{\"taxonomy\":\"category\",\"embeddable\":true,\"href\":\"http:\\\\/\\\\/tyumile-joomla.myjino.ru\\\\/wp-json\\\\/wp\\\\/v2\\\\/categories?post=11\"},{\"taxonomy\":\"post_tag\",\"embeddable\":true,\"href\":\"http:\\\\/\\\\/tyumile-joomla.myjino.ru\\\\/wp-json\\\\/wp\\\\/v2\\\\/tags?post=11\"}],\"curies\":[{\"name\":\"wp\",\"href\":\"https:\\\\/\\\\/api.w.org\\\\/{rel}\",\"templated\":true}]}},{\"id\":9,\"date\":\"2021-04-29T13:45:57\",\"date_gmt\":\"2021-04-29T10:45:57\",\"guid\":{\"rendered\":\"http:\\\\/\\\\/tyumile-joomla.myjino.ru\\\\/?p=9\"},\"modified\":\"2021-04-29T13:45:57\",\"modified_gmt\":\"2021-04-29T10:45:57\",\"slug\":\"gsfgsdfg\",\"status\":\"publish\",\"type\":\"post\",\"link\":\"http:\\\\/\\\\/tyumile-joomla.myjino.ru\\\\/2021\\\\/04\\\\/29\\\\/gsfgsdfg\\\\/\",\"title\":{\"rendered\":\"gsfgsdfg\"},\"content\":{\"rendered\":\"\\\\n<p>gsgsfgsdfgs fg serg ser <\\\\/p>\\\\n\",\"protected\":false},\"excerpt\":{\"rendered\":\"<p>gsgsfgsdfgs fg serg ser<\\\\/p>\\\\n\",\"protected\":false},\"author\":1,\"featured_media\":0,\"comment_status\":\"open\",\"ping_status\":\"open\",\"sticky\":false,\"template\":\"\",\"format\":\"standard\",\"meta\":[],\"categories\":[1],\"tags\":[],\"_links\":{\"self\":[{\"href\":\"http:\\\\/\\\\/tyumile-joomla.myjino.ru\\\\/wp-json\\\\/wp\\\\/v2\\\\/posts\\\\/9\"}],\"collection\":[{\"href\":\"http:\\\\/\\\\/tyumile-joomla.myjino.ru\\\\/wp-json\\\\/wp\\\\/v2\\\\/posts\"}],\"about\":[{\"href\":\"http:\\\\/\\\\/tyumile-joomla.myjino.ru\\\\/wp-json\\\\/wp\\\\/v2\\\\/types\\\\/post\"}],\"author\":[{\"embeddable\":true,\"href\":\"http:\\\\/\\\\/tyumile-joomla.myjino.ru\\\\/wp-json\\\\/wp\\\\/v2\\\\/users\\\\/1\"}],\"replies\":[{\"embeddable\":true,\"href\":\"http:\\\\/\\\\/tyumile-joomla.myjino.ru\\\\/wp-json\\\\/wp\\\\/v2\\\\/comments?post=9\"}],\"version-history\":[{\"count\":1,\"href\":\"http:\\\\/\\\\/tyumile-joomla.myjino.ru\\\\/wp-json\\\\/wp\\\\/v2\\\\/posts\\\\/9\\\\/revisions\"}],\"predecessor-version\":[{\"id\":10,\"href\":\"http:\\\\/\\\\/tyumile-joomla.myjino.ru\\\\/wp-json\\\\/wp\\\\/v2\\\\/posts\\\\/9\\\\/revisions\\\\/10\"}],\"wp:attachment\":[{\"href\":\"http:\\\\/\\\\/tyumile-joomla.myjino.ru\\\\/wp-json\\\\/wp\\\\/v2\\\\/media?parent=9\"}],\"wp:term\":[{\"taxonomy\":\"category\",\"embeddable\":true,\"href\":\"http:\\\\/\\\\/tyumile-joomla.myjino.ru\\\\/wp-json\\\\/wp\\\\/v2\\\\/categories?post=9\"},{\"taxonomy\":\"post_tag\",\"embeddable\":true,\"href\":\"http:\\\\/\\\\/tyumile-joomla.myjino.ru\\\\/wp-json\\\\/wp\\\\/v2\\\\/tags?post=9\"}],\"curies\":[{\"name\":\"wp\",\"href\":\"https:\\\\/\\\\/api.w.org\\\\/{rel}\",\"templated\":true}]}}]'"
            ]
          },
          "metadata": {
            "tags": []
          },
          "execution_count": 66
        }
      ]
    },
    {
      "cell_type": "code",
      "metadata": {
        "id": "2Z_3Z0sluYOT"
      },
      "source": [
        "# import requests\n",
        "# from requests.adapters import HTTPAdapter\n",
        "# from requests.packages.urllib3.util.retry import Retry\n",
        "\n",
        "# session = requests.Session()\n",
        "# retry = Retry(connect=3, backoff_factor=0.5)\n",
        "# adapter = HTTPAdapter(max_retries=retry)\n",
        "# session.mount('http://', adapter)\n",
        "# session.mount('https://', adapter)\n",
        "\n",
        "# session.get(base_url + '/posts')"
      ],
      "execution_count": null,
      "outputs": []
    },
    {
      "cell_type": "code",
      "metadata": {
        "colab": {
          "base_uri": "https://localhost:8080/"
        },
        "id": "RTEDdaFJsHwU",
        "outputId": "79de8b8e-9b29-4cc6-bad6-e4645c29ab7a"
      },
      "source": [
        "response = requests.get(base_url+'/posts', verify=False)\n",
        "response.status_code"
      ],
      "execution_count": null,
      "outputs": [
        {
          "output_type": "stream",
          "text": [
            "/usr/local/lib/python3.7/dist-packages/urllib3/connectionpool.py:847: InsecureRequestWarning: Unverified HTTPS request is being made. Adding certificate verification is strongly advised. See: https://urllib3.readthedocs.io/en/latest/advanced-usage.html#ssl-warnings\n",
            "  InsecureRequestWarning)\n"
          ],
          "name": "stderr"
        },
        {
          "output_type": "execute_result",
          "data": {
            "text/plain": [
              "200"
            ]
          },
          "metadata": {
            "tags": []
          },
          "execution_count": 28
        }
      ]
    },
    {
      "cell_type": "markdown",
      "metadata": {
        "id": "94v9oj3JS9-w"
      },
      "source": [
        "## XMLRPC"
      ]
    },
    {
      "cell_type": "code",
      "metadata": {
        "id": "e8JYaOkaTAo_"
      },
      "source": [
        "def initWpPost():\n",
        "  wp = Client('http://tyumile-joomla.myjino.ru/xmlrpc.php', 'tyumile', '12131415')\n",
        "  post = WordPressPost()\n",
        "  return wp, post\n",
        "\n",
        "def uploadMedia(parsed_media): #media - лист ссылок на картинки и видео\n",
        "  wp_media_links = []  # ссылки на медиа в ВП для статей\n",
        "  for i in range(len(parsed_media)):\n",
        "    media_link = parsed_media[i]['link']\n",
        "    media_type = parsed_media[i]['type']\n",
        "    data = {\n",
        "            'name': media_link.split('/')[-1],\n",
        "            'type': media_type  #'image/jpeg',  # mimetype\n",
        "    }\n",
        "\n",
        "    # загрузка изображения и отправка в WP\n",
        "    h = httplib2.Http('.cache')\n",
        "    response, content = h.request(media_link)\n",
        "\n",
        "    data['bits'] = content\n",
        "    response = client.call(media.UploadFile(data))\n",
        "    wp_media_links.append(response['link'])\n",
        "\n",
        "  return wp_media_links \n",
        "\n",
        "def getWpPostMetadata(post, parsed_post, post_status='publish'):\n",
        "  post.title = parsed_post['title']\n",
        "  post.content = parsed_post['content']\n",
        "  post.post_status = post_status\n",
        "  post.terms_names = {\n",
        "    'post_tag': post_data['tags'],\n",
        "    'category': post_data['categories']\n",
        "  }\n",
        "\n",
        "def addNewPost(parsed_data, parsed_media, wp):\n",
        "\n",
        "  wp_media_links = uploadMedia(parsed_media) # получаем список ссылок для замены на наши\n",
        "  post = getWpPostMetadata(parsed_post) # формируем данные для поста\n",
        "\n",
        "  post_id = wp.call(NewPost(post))\n",
        "  print('Добавлена статья ', post_id)\n"
      ],
      "execution_count": null,
      "outputs": []
    },
    {
      "cell_type": "code",
      "metadata": {
        "id": "8PXXhCP_mnyP"
      },
      "source": [
        "wp, post = initWpPost()\n",
        "addNewPost(parsed_data, parsed_media, wp)"
      ],
      "execution_count": null,
      "outputs": []
    },
    {
      "cell_type": "code",
      "metadata": {
        "id": "aTXjyuGPaUiQ"
      },
      "source": [
        ""
      ],
      "execution_count": null,
      "outputs": []
    },
    {
      "cell_type": "markdown",
      "metadata": {
        "id": "-u6etBieZVi1"
      },
      "source": [
        "# Сборка"
      ]
    },
    {
      "cell_type": "markdown",
      "metadata": {
        "id": "lvjoIS7DCM0p"
      },
      "source": [
        "## ParserTranslator"
      ]
    },
    {
      "cell_type": "code",
      "metadata": {
        "id": "3ASOXlz-Sbcq"
      },
      "source": [
        "!unzip -q /content/drive/MyDrive/generate_sites/arhives/arxiv-metadata-oai-snapshot.json.zip"
      ],
      "execution_count": null,
      "outputs": []
    },
    {
      "cell_type": "code",
      "metadata": {
        "id": "IFpMce7xZagV"
      },
      "source": [
        "import subprocess\n",
        "from subprocess import call\n",
        "\n",
        "class ParserTranslator(): # сбор данных с сайтов и создание единого JSON с данными\n",
        "\n",
        "  def __init__(self):\n",
        "\n",
        "    self.base_path = '/content/drive/MyDrive/generate_sites/'\n",
        "    self.dir_arhives = 'arhives/'\n",
        "    self.date = '2021-18-02' #date.today()\n",
        "\n",
        "    self.beams = 20\n",
        "    # self.model = EasyNMT('m2m_100_418M') # модель для переводов\n",
        "\n",
        "# скачиваем архивы\n",
        "    # Arxiv.org\n",
        "    # urlArxiv = base_path+self.dir_arhives+'arxiv-metadata-oai-snapshot.json.zip'\n",
        "    # wget.download(url, 'arxiv_org_json.zip')\n",
        "    # call('!unzip -q /content/drive/MyDrive/generate_sites/arhives/arxiv-metadata-oai-snapshot.json.zip') # + self.base_path + self.dir_arhives + 'arxiv-metadata-oai-snapshot.json.zip') # распаковываем свеже скачанный архив json\n",
        "    self.arxiv_json = []\n",
        "    for line in open('/content/arxiv-metadata-oai-snapshot.json', 'r'):\n",
        "      self.arxiv_json.append(json.loads(line))\n",
        "\n",
        "    # открываем полную базу статей\n",
        "    self.fullBaseJson = []\n",
        "    for line in open(self.base_path + 'fullBaseJson.json', 'r'):\n",
        "        self.fullBaseJson.append(json.loads(line))\n",
        "\n",
        "\n",
        "#############################\n",
        "\n",
        "  def fullBaseUpdate(self, json_file):\n",
        "    for article in json_file:\n",
        "      final_article = {\n",
        "          'title': article          \n",
        "      }\n",
        "      self.fullBaseJson.append(article)\n",
        "    return self.fullBaseJson\n",
        "\n",
        "#############################\n",
        "  def parseArxiv(self, method = 'update'):\n",
        "\n",
        "    def getFilteredArxiv(self, method):\n",
        "      cur_time = time.time()\n",
        "      print('Начали фильтровать архив по дате {}, метод {}'.format(self.date, method))\n",
        "\n",
        "      filtered_arxiv_json = []\n",
        "      for article in self.arxiv_json:\n",
        "        print(article['update_date'])\n",
        "        # if method == 'update':\n",
        "        #   if self.date in article['update_date']:\n",
        "        #     filtered_arxiv_json.append(article)\n",
        "        # else:\n",
        "        #   filtered_arxiv_json.append(article)\n",
        "\n",
        "      print('Завершили фильтровтаь записи')\n",
        "      print(filtered_arxiv_json[0])\n",
        "\n",
        "      return filtered_arxiv_json\n",
        "\n",
        "    def translateArxiv(self, filtered_arxiv_json):\n",
        "\n",
        "      for i in range(0, 10): #len(filtered_arxiv_json)):\n",
        "        text = filtered_arxiv_json[i]['abstract']\n",
        "        title = filtered_arxiv_json[i]['title']\n",
        "\n",
        "        text = cleanText(text)\n",
        "        title = cleanText(title)\n",
        "\n",
        "        translated_text = self.model.translate(text, target_lang='ru',  beam_size=self.beams)\n",
        "        translated_title = self.model.translate(title, target_lang='ru',  beam_size=self.beams)\n",
        "\n",
        "        filtered_arxiv_json[i]['abstract'] = translated_text\n",
        "        filtered_arxiv_json[i]['title'] = translated_title\n",
        "\n",
        "      return filtered_arxiv_json\n",
        "\n",
        "    filtered_arxiv_json = getFilteredArxiv(self, method)\n",
        "    translated_arxiv = translateArxiv(self, filtered_arxiv_json)\n",
        "    self.fullBaseJson = fullBaseUpdate(translated_arxiv)\n",
        "\n",
        "    return self.fullBaseJson\n",
        "\n",
        "############################\n",
        "\n",
        "  def parseGithub():\n",
        "    pass\n",
        "\n",
        "  def saveFullBaseToJson(self):  # сохраняет сформированный json в файл, при необходимости разбивает\n",
        "    with open(self.base_path + 'fullBaseJson.json', 'w') as outfile:\n",
        "      json.dump(self.fullBaseJson, outfile)\n",
        "    print('Сохранили fullBaseJson.json')\n",
        "\n",
        "############################\n",
        "\n",
        "  def parseAllData(self, method = 'update'):\n",
        "\n",
        "    fullBaseJson = self.parseArxiv(self.fullBaseJson, method)\n",
        "    # fullBaseJson = parseGithub(fullBaseJson)\n",
        "\n",
        "    saveFullBaseToJson(fullBaseJson)\n",
        "\n",
        "    return fullBaseJson"
      ],
      "execution_count": null,
      "outputs": []
    },
    {
      "cell_type": "code",
      "metadata": {
        "id": "-m726lV7e2fJ"
      },
      "source": [
        "# filtered_arxiv_json = []\n",
        "# for article in open('arxiv-metadata-oai-snapshot.json', 'r'):\n",
        "#   print(article['update_date'])"
      ],
      "execution_count": null,
      "outputs": []
    },
    {
      "cell_type": "markdown",
      "metadata": {
        "id": "Ms-E6NGGCTAZ"
      },
      "source": [
        "## SiteUpdater"
      ]
    },
    {
      "cell_type": "code",
      "metadata": {
        "id": "ql0P23vvCVnr"
      },
      "source": [
        "class SiteUpdater(object): # добавление данных на сайты и обновление записей\n",
        "\n",
        "  def __init__(self):\n",
        "    self.sites_vars = {\n",
        "      'site_ds':{\n",
        "          'url':'http://tyumile-joomla.myjino.ru/xmlrpc.php',\n",
        "          'user':'tyumile',\n",
        "          'password:':'12131415',\n",
        "          'arxiv_categories':['AI'],\n",
        "          'medium_categories':['AI'],\n",
        "          'towards_categories':['AI'],\n",
        "          'site_categories':{\n",
        "              'arxiv':'Исследования',\n",
        "              'github':'Модули'\n",
        "          }\n",
        "\n",
        "      },\n",
        "      'site_medicine':{\n",
        "          'user':'tyumile',\n",
        "          'password:':'12131415',\n",
        "          'url':''\n",
        "      },\n",
        "    }\n",
        "\n",
        "  def initWpPost(self, site):\n",
        "\n",
        "    site_vars = self.site_vars(site)\n",
        "    wp = Client(site_vars['url'], site_vars['user'], site_vars['password'])\n",
        "    post = WordPressPost()\n",
        "\n",
        "    return wp, post\n",
        "\n",
        "  def uploadMedia(self, parsed_media): #media - лист ссылок на картинки и видео\n",
        "    wp_media_links = []  # ссылки на медиа в ВП для статей\n",
        "    for i in range(len(parsed_media)):\n",
        "      media_link = parsed_media[i]['link']\n",
        "      media_type = parsed_media[i]['type']\n",
        "      data = {\n",
        "              'name': media_link.split('/')[-1],\n",
        "              'type': media_type  #'image/jpeg',  # mimetype\n",
        "      }\n",
        "\n",
        "      # загрузка изображения и отправка в WP\n",
        "      h = httplib2.Http('.cache')\n",
        "      response, content = h.request(media_link)\n",
        "\n",
        "      data['bits'] = content\n",
        "      response = client.call(media.UploadFile(data))\n",
        "      wp_media_links.append(response['link'])\n",
        "\n",
        "    return wp_media_links \n",
        "\n",
        "  def getWpPostMetadata(self, post, parsed_post, post_status='publish'):\n",
        "    post.title = parsed_post['title']\n",
        "    post.content = parsed_post['content']\n",
        "    post.post_status = post_status\n",
        "    post.terms_names = {\n",
        "      'post_tag': post_data['tags'],\n",
        "      'category': post_data['categories']\n",
        "    }\n",
        "\n",
        "  def addArticles(self, site):\n",
        "\n",
        "    wp, post = initWpPost(site)\n",
        "\n",
        "\n",
        "    # wp_media_links = uploadMedia(parsed_media) # получаем список ссылок для замены на наши\n",
        "    # post = getWpPostMetadata(parsed_post) # формируем данные для поста\n",
        "\n",
        "    # post_id = wp.call(NewPost(post))\n",
        "    # print('Добавлена статья ', post_id)"
      ],
      "execution_count": null,
      "outputs": []
    },
    {
      "cell_type": "markdown",
      "metadata": {
        "id": "-N7lCdXECWe_"
      },
      "source": [
        "# Запуск"
      ]
    },
    {
      "cell_type": "code",
      "metadata": {
        "id": "k11nHHZtQmx7"
      },
      "source": [
        "parser = ParserTranslator()"
      ],
      "execution_count": null,
      "outputs": []
    },
    {
      "cell_type": "code",
      "metadata": {
        "id": "Fad3stkIUTK_"
      },
      "source": [
        "# fullBaseJson = parser.parseAllData(method='full')"
      ],
      "execution_count": null,
      "outputs": []
    },
    {
      "cell_type": "code",
      "metadata": {
        "id": "-9UtTxI0Vxdq"
      },
      "source": [
        "method = 'update'\n",
        "filtered_arxiv_json = parser.parseArxiv(method)"
      ],
      "execution_count": null,
      "outputs": []
    },
    {
      "cell_type": "code",
      "metadata": {
        "id": "4TGi5WXbRjWk"
      },
      "source": [
        "/content/drive/MyDrive/generate_sites/arhives/arxiv-metadata-oai-snapshot.json.zip"
      ],
      "execution_count": null,
      "outputs": []
    },
    {
      "cell_type": "code",
      "metadata": {
        "id": "XbV9o3wQr_WF"
      },
      "source": [
        "parser = ParserTranslator()\n",
        "fullBaseJson = parser.parseAllData()\n",
        "\n",
        "siteUpdater = SiteUpdater(fullBaseJson)\n",
        "\n",
        "site_ds_logs = siteUpdater.addArticles(site='site_ds')\n",
        "site_medicine_logs = siteUpdater.addArticles(site='site_medicine')"
      ],
      "execution_count": null,
      "outputs": []
    }
  ]
}