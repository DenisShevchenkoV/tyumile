{
  "nbformat": 4,
  "nbformat_minor": 0,
  "metadata": {
    "colab": {
      "name": "Аналитика РусЭкспресс, v. 5.0",
      "provenance": [],
      "collapsed_sections": [],
      "toc_visible": true
    },
    "kernelspec": {
      "name": "python3",
      "display_name": "Python 3"
    }
  },
  "cells": [
    {
      "cell_type": "markdown",
      "metadata": {
        "id": "wB2jjhxnKP0w"
      },
      "source": [
        "# GIT"
      ]
    },
    {
      "cell_type": "code",
      "metadata": {
        "id": "Kj9hSZRiKSUj"
      },
      "source": [
        "!git config --global user.email \"vdvoem@mail.ru\""
      ],
      "execution_count": null,
      "outputs": []
    },
    {
      "cell_type": "code",
      "metadata": {
        "id": "mJZnYzCULGcy"
      },
      "source": [
        "!git config --global user.name \"tyumile\""
      ],
      "execution_count": null,
      "outputs": []
    },
    {
      "cell_type": "code",
      "metadata": {
        "colab": {
          "base_uri": "https://localhost:8080/"
        },
        "id": "k0BtqR3YLJyM",
        "outputId": "fc94ddaa-56be-476b-983c-c4f4d4592176"
      },
      "source": [
        "!git init"
      ],
      "execution_count": null,
      "outputs": [
        {
          "output_type": "stream",
          "text": [
            "Reinitialized existing Git repository in /content/.git/\n"
          ],
          "name": "stdout"
        }
      ]
    },
    {
      "cell_type": "code",
      "metadata": {
        "colab": {
          "base_uri": "https://localhost:8080/"
        },
        "id": "QO6se66qLMv3",
        "outputId": "f5a52103-da9b-46b0-80af-b5ece7379086"
      },
      "source": [
        "ls"
      ],
      "execution_count": null,
      "outputs": [
        {
          "output_type": "stream",
          "text": [
            "properties.py  \u001b[0m\u001b[01;34m__pycache__\u001b[0m/\n"
          ],
          "name": "stdout"
        }
      ]
    },
    {
      "cell_type": "code",
      "metadata": {
        "colab": {
          "base_uri": "https://localhost:8080/",
          "height": 17
        },
        "id": "ai-Q_8AwUQ7K",
        "outputId": "ab8d4505-bc20-45c8-ab5b-3b2ab28ccc35"
      },
      "source": [
        "from google.colab import files\r\n",
        "with open('example.txt', 'w') as f:\r\n",
        "  f.write('some content')\r\n",
        "  files.download('example.txt')"
      ],
      "execution_count": null,
      "outputs": [
        {
          "output_type": "display_data",
          "data": {
            "application/javascript": [
              "\n",
              "    async function download(id, filename, size) {\n",
              "      if (!google.colab.kernel.accessAllowed) {\n",
              "        return;\n",
              "      }\n",
              "      const div = document.createElement('div');\n",
              "      const label = document.createElement('label');\n",
              "      label.textContent = `Downloading \"${filename}\": `;\n",
              "      div.appendChild(label);\n",
              "      const progress = document.createElement('progress');\n",
              "      progress.max = size;\n",
              "      div.appendChild(progress);\n",
              "      document.body.appendChild(div);\n",
              "\n",
              "      const buffers = [];\n",
              "      let downloaded = 0;\n",
              "\n",
              "      const channel = await google.colab.kernel.comms.open(id);\n",
              "      // Send a message to notify the kernel that we're ready.\n",
              "      channel.send({})\n",
              "\n",
              "      for await (const message of channel.messages) {\n",
              "        // Send a message to notify the kernel that we're ready.\n",
              "        channel.send({})\n",
              "        if (message.buffers) {\n",
              "          for (const buffer of message.buffers) {\n",
              "            buffers.push(buffer);\n",
              "            downloaded += buffer.byteLength;\n",
              "            progress.value = downloaded;\n",
              "          }\n",
              "        }\n",
              "      }\n",
              "      const blob = new Blob(buffers, {type: 'application/binary'});\n",
              "      const a = document.createElement('a');\n",
              "      a.href = window.URL.createObjectURL(blob);\n",
              "      a.download = filename;\n",
              "      div.appendChild(a);\n",
              "      a.click();\n",
              "      div.remove();\n",
              "    }\n",
              "  "
            ],
            "text/plain": [
              "<IPython.core.display.Javascript object>"
            ]
          },
          "metadata": {
            "tags": []
          }
        },
        {
          "output_type": "display_data",
          "data": {
            "application/javascript": [
              "download(\"download_d23112af-d272-46d2-96e4-b7beabd68902\", \"example.txt\", 0)"
            ],
            "text/plain": [
              "<IPython.core.display.Javascript object>"
            ]
          },
          "metadata": {
            "tags": []
          }
        }
      ]
    },
    {
      "cell_type": "code",
      "metadata": {
        "id": "xO-GScy4VD_i"
      },
      "source": [
        "!git clone "
      ],
      "execution_count": null,
      "outputs": []
    },
    {
      "cell_type": "markdown",
      "metadata": {
        "id": "-uU4stwhMPG9"
      },
      "source": [
        "# Контейнер свойств"
      ]
    },
    {
      "cell_type": "code",
      "metadata": {
        "id": "CfhJTRmfMJoD",
        "colab": {
          "base_uri": "https://localhost:8080/"
        },
        "outputId": "cfea507f-4156-4ec6-91e1-26c62960a08a"
      },
      "source": [
        "%%writefile properties.py\r\n",
        "class Baseproperties:\r\n",
        "  directories # справочники, словарь\r\n",
        "  version\r\n",
        "  approvedStatuses\r\n",
        "  profitStatuses\r\n",
        "  debitStatuses\r\n",
        "\r\n",
        "\r\n",
        "class Tempproperties:\r\n",
        "  pass\r\n",
        "\r\n"
      ],
      "execution_count": null,
      "outputs": [
        {
          "output_type": "stream",
          "text": [
            "Writing properties.py\n"
          ],
          "name": "stdout"
        }
      ]
    },
    {
      "cell_type": "markdown",
      "metadata": {
        "id": "rnedHSWdMbKx"
      },
      "source": [
        "# Подключения, открытия файлов"
      ]
    },
    {
      "cell_type": "code",
      "metadata": {
        "id": "WO3jZTZoMekH"
      },
      "source": [
        "class ConnectAPI:\r\n",
        "  def openAPI():\r\n",
        "\r\n",
        "class ConnectDB:\r\n",
        "  def openDB(self):\r\n",
        "\r\n",
        "  def closeDB(self):\r\n",
        "\r\n",
        "class Openfiles:\r\n",
        "  def openFile(self):\r\n",
        "    if csv:\r\n",
        "\r\n",
        "    elif xml:\r\n",
        "\r\n",
        "class Connections:\r\n",
        "  openAPI....\r\n",
        "    \r\n",
        "  \r\n"
      ],
      "execution_count": null,
      "outputs": []
    },
    {
      "cell_type": "markdown",
      "metadata": {
        "id": "Gb8W3YyNMe0M"
      },
      "source": [
        "# Работа с базой данных"
      ]
    },
    {
      "cell_type": "code",
      "metadata": {
        "id": "0I7zaN2NMjBN"
      },
      "source": [
        "class Database:\r\n",
        "  def createDB\r\n",
        "\r\n",
        "  def createTables\r\n",
        "\r\n",
        "  def createColumns\r\n",
        "\r\n",
        "class ReportDBSender: # отправка финального запроса в базу\r\n",
        "  def sendReportQuery(self):\r\n",
        "\r\n",
        "class Directories:\r\n",
        "  def updateDirectory:"
      ],
      "execution_count": null,
      "outputs": []
    },
    {
      "cell_type": "markdown",
      "metadata": {
        "id": "BXASE6k1MlNA"
      },
      "source": [
        "# Сбор данных"
      ]
    },
    {
      "cell_type": "code",
      "metadata": {
        "id": "S_z-dKuRMrEi"
      },
      "source": [
        "class OrdersData:\r\n",
        "  def getDataFromOrders\r\n",
        "\r\n",
        "\r\n",
        "\r\n",
        "class ChannelsData:\r\n",
        "  def isReportUpdate():\r\n",
        "\r\n",
        "  def getDataFromChannel(self):\r\n"
      ],
      "execution_count": null,
      "outputs": []
    },
    {
      "cell_type": "markdown",
      "metadata": {
        "id": "jiSYRtpKMuA8"
      },
      "source": [
        "# Обработка данных"
      ]
    },
    {
      "cell_type": "code",
      "metadata": {
        "id": "Ao7qR4TFMwWB"
      },
      "source": [
        "class ReportDataChangerFunc:\r\n",
        "\r\n",
        "  def changeCats\r\n",
        "\r\n",
        "  def changePriceSegments\r\n",
        "\r\n",
        "  def changeSalePrice\r\n",
        "\r\n",
        "  def namesTo01\r\n",
        "\r\n",
        "class ReportDataChanger(ReportDataChangerFunc):\r\n",
        "  for ...\r\n"
      ],
      "execution_count": null,
      "outputs": []
    },
    {
      "cell_type": "markdown",
      "metadata": {
        "id": "hCwMLAvpMxN_"
      },
      "source": [
        "# Расчеты в итоговую таблицу"
      ]
    },
    {
      "cell_type": "code",
      "metadata": {
        "id": "qpPTtmXcM8r8"
      },
      "source": [
        "class Calculates:\r\n",
        "  def calcApprovedOrdersSum()\r\n",
        "\r\n",
        "  def calcPaidProductsIncome()\r\n",
        "\r\n",
        "  def calcPaidDeliveryIncome()\r\n",
        "\r\n",
        "  def calcApprovedProductsExpense()\r\n",
        "\r\n",
        "  def calcApprovedDeliveryExpense()\r\n",
        "\r\n",
        "  def calcApprovedOperationsExpense()\r\n",
        "\r\n",
        "  def calcDebit():\r\n",
        "  \r\n",
        "  def calcProfit():\r\n",
        "\r\n",
        "  def calcFutureProfit():\r\n",
        "  \r\n",
        "  def calcReportData():\r\n",
        "    calcApprovedOrdersSum\r\n",
        "    .....\r\n"
      ],
      "execution_count": null,
      "outputs": []
    },
    {
      "cell_type": "markdown",
      "metadata": {
        "id": "xRnCb6CtYWHY"
      },
      "source": [
        "# Builder"
      ]
    },
    {
      "cell_type": "code",
      "metadata": {
        "id": "7SF4An8RYYHC"
      },
      "source": [
        "class Reportdates:\r\n",
        "  def calcCurDate:\r\n",
        "\r\n",
        "class Report:\r\n",
        "  def updateReport:\r\n"
      ],
      "execution_count": null,
      "outputs": []
    },
    {
      "cell_type": "markdown",
      "metadata": {
        "id": "XyA9Dpd8M9Ut"
      },
      "source": [
        "# Запуск"
      ]
    },
    {
      "cell_type": "code",
      "metadata": {
        "id": "pXRkul1eNFy2"
      },
      "source": [
        "if __name__ == '__main__':\r\n",
        "  \r\n",
        "  dates = ReportDates()\r\n",
        "  connect = Connections()\r\n",
        "  bd = Database(connect)\r\n",
        "  report = Report(dates, connect)\r\n",
        "  connect = Connections(connect)"
      ],
      "execution_count": null,
      "outputs": []
    }
  ]
}